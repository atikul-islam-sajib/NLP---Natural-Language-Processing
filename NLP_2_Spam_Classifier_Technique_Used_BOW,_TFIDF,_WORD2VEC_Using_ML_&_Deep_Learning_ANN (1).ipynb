{
  "nbformat": 4,
  "nbformat_minor": 0,
  "metadata": {
    "colab": {
      "name": "NLP -2 : Spam Classifier - Technique Used : BOW, TFIDF, WORD2VEC - Using ML & Deep Learning - ANN.ipynb",
      "provenance": [],
      "collapsed_sections": [],
      "machine_shape": "hm"
    },
    "kernelspec": {
      "name": "python3",
      "display_name": "Python 3"
    },
    "language_info": {
      "name": "python"
    },
    "accelerator": "GPU",
    "gpuClass": "standard"
  },
  "cells": [
    {
      "cell_type": "code",
      "execution_count": 1,
      "metadata": {
        "id": "04NSOUF9111v",
        "colab": {
          "base_uri": "https://localhost:8080/"
        },
        "outputId": "7af04e79-8fe7-46e2-a50a-f444680dedcf"
      },
      "outputs": [
        {
          "output_type": "stream",
          "name": "stderr",
          "text": [
            "[nltk_data] Downloading package stopwords to /root/nltk_data...\n",
            "[nltk_data]   Package stopwords is already up-to-date!\n",
            "[nltk_data] Downloading package punkt to /root/nltk_data...\n",
            "[nltk_data]   Package punkt is already up-to-date!\n",
            "[nltk_data] Downloading package wordnet to /root/nltk_data...\n",
            "[nltk_data]   Package wordnet is already up-to-date!\n",
            "[nltk_data] Downloading package omw-1.4 to /root/nltk_data...\n",
            "[nltk_data]   Package omw-1.4 is already up-to-date!\n"
          ]
        },
        {
          "output_type": "execute_result",
          "data": {
            "text/plain": [
              "True"
            ]
          },
          "metadata": {},
          "execution_count": 1
        }
      ],
      "source": [
        "###### Machine Learning Libraries ######\n",
        "\n",
        "import numpy as np\n",
        "import pandas as pd\n",
        "import scipy as shc\n",
        "import nltk\n",
        "import spacy\n",
        "import re\n",
        "import seaborn as sns\n",
        "import matplotlib.pyplot as plt\n",
        "from sklearn.model_selection import train_test_split, KFold, StratifiedKFold, GridSearchCV, RandomizedSearchCV\n",
        "from sklearn.metrics import accuracy_score, precision_score, recall_score, f1_score, classification_report, confusion_matrix, silhouette_score\n",
        "from sklearn.preprocessing import MinMaxScaler, RobustScaler, StandardScaler\n",
        "from sklearn.feature_selection import VarianceThreshold, chi2, mutual_info_classif, mutual_info_regression\n",
        "from sklearn.feature_extraction.text import CountVectorizer, TfidfVectorizer\n",
        "from sklearn.cluster import KMeans, DBSCAN, AgglomerativeClustering\n",
        "from sklearn.decomposition import PCA\n",
        "from imblearn.under_sampling import RandomUnderSampler, NearMiss\n",
        "from imblearn.over_sampling import RandomOverSampler, SMOTE, SMOTEN, SMOTENC, SVMSMOTE, KMeansSMOTE, BorderlineSMOTE, ADASYN\n",
        "from imblearn.ensemble import EasyEnsembleClassifier\n",
        "from sklearn.naive_bayes import GaussianNB, BernoulliNB, MultinomialNB\n",
        "from sklearn.neighbors import KNeighborsClassifier, KNeighborsRegressor, NearestNeighbors\n",
        "from sklearn.linear_model import LinearRegression, LogisticRegression, SGDClassifier, SGDRegressor, Perceptron\n",
        "from sklearn.neural_network import MLPClassifier, MLPRegressor\n",
        "from sklearn.svm import SVC, SVR\n",
        "from sklearn.tree import DecisionTreeClassifier, DecisionTreeRegressor, ExtraTreeClassifier, ExtraTreeRegressor\n",
        "from sklearn.ensemble import BaggingClassifier, BaggingRegressor, VotingClassifier, VotingRegressor, RandomForestClassifier, RandomForestRegressor\n",
        "from sklearn.ensemble import AdaBoostClassifier, AdaBoostRegressor, GradientBoostingClassifier, GradientBoostingRegressor, StackingClassifier, StackingRegressor\n",
        "from xgboost import XGBClassifier, XGBRegressor\n",
        "\n",
        "###### Deep Learning Libraries ######\n",
        "\n",
        "import tensorflow as tf\n",
        "from tensorflow import keras\n",
        "from tensorflow.keras.models import Sequential, Model\n",
        "from tensorflow.keras.layers import Dense, BatchNormalization, Dropout, LeakyReLU, ELU, PReLU, Conv2D, MaxPool2D, AveragePooling2D, Flatten\n",
        "from tensorflow.keras.initializers import HeNormal, HeUniform, GlorotNormal, GlorotUniform\n",
        "from tensorflow.keras.activations import relu, sigmoid, softmax, swish\n",
        "from tensorflow.keras.losses import BinaryCrossentropy, SparseCategoricalCrossentropy, CategoricalCrossentropy, Huber, Hinge, MSE, MAE\n",
        "from tensorflow.keras.optimizers import SGD, Adagrad, Adadelta, RMSprop, Adam, Nadam, Adamax\n",
        "from tensorflow.keras.regularizers import L1, L2, L1L2\n",
        "\n",
        "###### NLP Libraries ######\n",
        "\n",
        "from nltk.corpus import stopwords\n",
        "from nltk.tokenize import word_tokenize, sent_tokenize\n",
        "from nltk.stem.porter import PorterStemmer\n",
        "from nltk.stem import WordNetLemmatizer\n",
        "\n",
        "###### Download functions for nltk ######\n",
        "\n",
        "nltk.download('stopwords')\n",
        "nltk.download('punkt')\n",
        "nltk.download('wordnet')\n",
        "nltk.download('omw-1.4')"
      ]
    },
    {
      "cell_type": "code",
      "source": [
        "###### Load the dataset ######\n",
        "df = pd.read_csv('/content/SPAM text message 20170820 - Data.csv')\n",
        "df.head()"
      ],
      "metadata": {
        "id": "wqTrQDewWtWH",
        "colab": {
          "base_uri": "https://localhost:8080/",
          "height": 206
        },
        "outputId": "c9e0761f-1b56-4486-f9db-c6f714bd1f90"
      },
      "execution_count": 2,
      "outputs": [
        {
          "output_type": "execute_result",
          "data": {
            "text/plain": [
              "  Category                                            Message\n",
              "0      ham  Go until jurong point, crazy.. Available only ...\n",
              "1      ham                      Ok lar... Joking wif u oni...\n",
              "2     spam  Free entry in 2 a wkly comp to win FA Cup fina...\n",
              "3      ham  U dun say so early hor... U c already then say...\n",
              "4      ham  Nah I don't think he goes to usf, he lives aro..."
            ],
            "text/html": [
              "\n",
              "  <div id=\"df-da6df5a7-1c14-4ade-ad7d-fa7748c1169e\">\n",
              "    <div class=\"colab-df-container\">\n",
              "      <div>\n",
              "<style scoped>\n",
              "    .dataframe tbody tr th:only-of-type {\n",
              "        vertical-align: middle;\n",
              "    }\n",
              "\n",
              "    .dataframe tbody tr th {\n",
              "        vertical-align: top;\n",
              "    }\n",
              "\n",
              "    .dataframe thead th {\n",
              "        text-align: right;\n",
              "    }\n",
              "</style>\n",
              "<table border=\"1\" class=\"dataframe\">\n",
              "  <thead>\n",
              "    <tr style=\"text-align: right;\">\n",
              "      <th></th>\n",
              "      <th>Category</th>\n",
              "      <th>Message</th>\n",
              "    </tr>\n",
              "  </thead>\n",
              "  <tbody>\n",
              "    <tr>\n",
              "      <th>0</th>\n",
              "      <td>ham</td>\n",
              "      <td>Go until jurong point, crazy.. Available only ...</td>\n",
              "    </tr>\n",
              "    <tr>\n",
              "      <th>1</th>\n",
              "      <td>ham</td>\n",
              "      <td>Ok lar... Joking wif u oni...</td>\n",
              "    </tr>\n",
              "    <tr>\n",
              "      <th>2</th>\n",
              "      <td>spam</td>\n",
              "      <td>Free entry in 2 a wkly comp to win FA Cup fina...</td>\n",
              "    </tr>\n",
              "    <tr>\n",
              "      <th>3</th>\n",
              "      <td>ham</td>\n",
              "      <td>U dun say so early hor... U c already then say...</td>\n",
              "    </tr>\n",
              "    <tr>\n",
              "      <th>4</th>\n",
              "      <td>ham</td>\n",
              "      <td>Nah I don't think he goes to usf, he lives aro...</td>\n",
              "    </tr>\n",
              "  </tbody>\n",
              "</table>\n",
              "</div>\n",
              "      <button class=\"colab-df-convert\" onclick=\"convertToInteractive('df-da6df5a7-1c14-4ade-ad7d-fa7748c1169e')\"\n",
              "              title=\"Convert this dataframe to an interactive table.\"\n",
              "              style=\"display:none;\">\n",
              "        \n",
              "  <svg xmlns=\"http://www.w3.org/2000/svg\" height=\"24px\"viewBox=\"0 0 24 24\"\n",
              "       width=\"24px\">\n",
              "    <path d=\"M0 0h24v24H0V0z\" fill=\"none\"/>\n",
              "    <path d=\"M18.56 5.44l.94 2.06.94-2.06 2.06-.94-2.06-.94-.94-2.06-.94 2.06-2.06.94zm-11 1L8.5 8.5l.94-2.06 2.06-.94-2.06-.94L8.5 2.5l-.94 2.06-2.06.94zm10 10l.94 2.06.94-2.06 2.06-.94-2.06-.94-.94-2.06-.94 2.06-2.06.94z\"/><path d=\"M17.41 7.96l-1.37-1.37c-.4-.4-.92-.59-1.43-.59-.52 0-1.04.2-1.43.59L10.3 9.45l-7.72 7.72c-.78.78-.78 2.05 0 2.83L4 21.41c.39.39.9.59 1.41.59.51 0 1.02-.2 1.41-.59l7.78-7.78 2.81-2.81c.8-.78.8-2.07 0-2.86zM5.41 20L4 18.59l7.72-7.72 1.47 1.35L5.41 20z\"/>\n",
              "  </svg>\n",
              "      </button>\n",
              "      \n",
              "  <style>\n",
              "    .colab-df-container {\n",
              "      display:flex;\n",
              "      flex-wrap:wrap;\n",
              "      gap: 12px;\n",
              "    }\n",
              "\n",
              "    .colab-df-convert {\n",
              "      background-color: #E8F0FE;\n",
              "      border: none;\n",
              "      border-radius: 50%;\n",
              "      cursor: pointer;\n",
              "      display: none;\n",
              "      fill: #1967D2;\n",
              "      height: 32px;\n",
              "      padding: 0 0 0 0;\n",
              "      width: 32px;\n",
              "    }\n",
              "\n",
              "    .colab-df-convert:hover {\n",
              "      background-color: #E2EBFA;\n",
              "      box-shadow: 0px 1px 2px rgba(60, 64, 67, 0.3), 0px 1px 3px 1px rgba(60, 64, 67, 0.15);\n",
              "      fill: #174EA6;\n",
              "    }\n",
              "\n",
              "    [theme=dark] .colab-df-convert {\n",
              "      background-color: #3B4455;\n",
              "      fill: #D2E3FC;\n",
              "    }\n",
              "\n",
              "    [theme=dark] .colab-df-convert:hover {\n",
              "      background-color: #434B5C;\n",
              "      box-shadow: 0px 1px 3px 1px rgba(0, 0, 0, 0.15);\n",
              "      filter: drop-shadow(0px 1px 2px rgba(0, 0, 0, 0.3));\n",
              "      fill: #FFFFFF;\n",
              "    }\n",
              "  </style>\n",
              "\n",
              "      <script>\n",
              "        const buttonEl =\n",
              "          document.querySelector('#df-da6df5a7-1c14-4ade-ad7d-fa7748c1169e button.colab-df-convert');\n",
              "        buttonEl.style.display =\n",
              "          google.colab.kernel.accessAllowed ? 'block' : 'none';\n",
              "\n",
              "        async function convertToInteractive(key) {\n",
              "          const element = document.querySelector('#df-da6df5a7-1c14-4ade-ad7d-fa7748c1169e');\n",
              "          const dataTable =\n",
              "            await google.colab.kernel.invokeFunction('convertToInteractive',\n",
              "                                                     [key], {});\n",
              "          if (!dataTable) return;\n",
              "\n",
              "          const docLinkHtml = 'Like what you see? Visit the ' +\n",
              "            '<a target=\"_blank\" href=https://colab.research.google.com/notebooks/data_table.ipynb>data table notebook</a>'\n",
              "            + ' to learn more about interactive tables.';\n",
              "          element.innerHTML = '';\n",
              "          dataTable['output_type'] = 'display_data';\n",
              "          await google.colab.output.renderOutput(dataTable, element);\n",
              "          const docLink = document.createElement('div');\n",
              "          docLink.innerHTML = docLinkHtml;\n",
              "          element.appendChild(docLink);\n",
              "        }\n",
              "      </script>\n",
              "    </div>\n",
              "  </div>\n",
              "  "
            ]
          },
          "metadata": {},
          "execution_count": 2
        }
      ]
    },
    {
      "cell_type": "code",
      "source": [
        "###### Check number of rows and columns ######\n",
        "print(\"# of rows in this dataset is   = \", df.shape[0],'\\n')\n",
        "print(\"# of columns of its dataset is = \", df.shape[1])"
      ],
      "metadata": {
        "colab": {
          "base_uri": "https://localhost:8080/"
        },
        "id": "S-oeW4AF8ak5",
        "outputId": "4dbb86f0-a9bc-4ccb-b231-848ad7447f66"
      },
      "execution_count": 3,
      "outputs": [
        {
          "output_type": "stream",
          "name": "stdout",
          "text": [
            "# of rows in this dataset is   =  5572 \n",
            "\n",
            "# of columns of its dataset is =  2\n"
          ]
        }
      ]
    },
    {
      "cell_type": "code",
      "source": [
        "###### Check null value present in the dataset or not ######\n",
        "if df.isnull().sum().sum() == 0:\n",
        "  print(\"NaN value does not exist in this dataset.\")\n",
        "else:\n",
        "  print(\"NaN value present in this dataset.\")"
      ],
      "metadata": {
        "colab": {
          "base_uri": "https://localhost:8080/"
        },
        "id": "N2fxWcLN8rkb",
        "outputId": "a5eb5156-3d60-48fd-c240-8db85bed46f6"
      },
      "execution_count": 4,
      "outputs": [
        {
          "output_type": "stream",
          "name": "stdout",
          "text": [
            "NaN value does not exist in this dataset.\n"
          ]
        }
      ]
    },
    {
      "cell_type": "code",
      "source": [
        "###### Check the dataset contains duplicate value or not ######\n",
        "print(\"Duplicated rows in this dataset is = \", df.duplicated().sum())"
      ],
      "metadata": {
        "colab": {
          "base_uri": "https://localhost:8080/"
        },
        "id": "_slVsVsP89sH",
        "outputId": "195e843d-1096-4fd3-aaeb-3df0f5afcc9d"
      },
      "execution_count": 5,
      "outputs": [
        {
          "output_type": "stream",
          "name": "stdout",
          "text": [
            "Duplicated rows in this dataset is =  415\n"
          ]
        }
      ]
    },
    {
      "cell_type": "code",
      "source": [
        "###### Delete the duplicated rowns from the dataset ######\n",
        "df.drop_duplicates(inplace = True)\n",
        "print(\"Duplicated rows have been deleted.\\n\")\n",
        "\n",
        "df.shape"
      ],
      "metadata": {
        "colab": {
          "base_uri": "https://localhost:8080/"
        },
        "id": "KLAw3f8889uU",
        "outputId": "596173b9-77c7-4b9e-e581-bf2822b9f666"
      },
      "execution_count": 6,
      "outputs": [
        {
          "output_type": "stream",
          "name": "stdout",
          "text": [
            "Duplicated rows have been deleted.\n",
            "\n"
          ]
        },
        {
          "output_type": "execute_result",
          "data": {
            "text/plain": [
              "(5157, 2)"
            ]
          },
          "metadata": {},
          "execution_count": 6
        }
      ]
    },
    {
      "cell_type": "code",
      "source": [
        "###### Check the dataset is imbalanced or not ######\n",
        "df.loc[:, 'Category'].value_counts()"
      ],
      "metadata": {
        "colab": {
          "base_uri": "https://localhost:8080/"
        },
        "id": "_VsjB9To89wt",
        "outputId": "cc5605f0-46fe-4eea-8498-a09d93d3c276"
      },
      "execution_count": 7,
      "outputs": [
        {
          "output_type": "execute_result",
          "data": {
            "text/plain": [
              "ham     4516\n",
              "spam     641\n",
              "Name: Category, dtype: int64"
            ]
          },
          "metadata": {},
          "execution_count": 7
        }
      ]
    },
    {
      "cell_type": "code",
      "source": [
        "###### Show in the Pie Chart ######\n",
        "plt.pie(df.loc[:, 'Category'].value_counts(), labels = ['Ham', 'Spam'], autopct = \"%0.2f\")\n",
        "plt.show()\n",
        "\n",
        "###### It is highly imbalanced dataset ######"
      ],
      "metadata": {
        "colab": {
          "base_uri": "https://localhost:8080/",
          "height": 248
        },
        "id": "ksJ1snmU890G",
        "outputId": "663297f9-ef94-4b37-d31c-06f40b8daa87"
      },
      "execution_count": 8,
      "outputs": [
        {
          "output_type": "display_data",
          "data": {
            "text/plain": [
              "<Figure size 432x288 with 1 Axes>"
            ],
            "image/png": "[encoded data removed]"
          },
          "metadata": {}
        }
      ]
    },
    {
      "cell_type": "code",
      "source": [
        "###### Create a column named number_char ######\n",
        "df['number_char'] = df.loc[:, 'Message'].apply(lambda x: len(x))\n",
        "\n",
        "df.head()"
      ],
      "metadata": {
        "colab": {
          "base_uri": "https://localhost:8080/",
          "height": 206
        },
        "id": "zSeTybWr-hDV",
        "outputId": "2a8bac64-1f61-4862-d9c8-8489ea7e74b2"
      },
      "execution_count": 9,
      "outputs": [
        {
          "output_type": "execute_result",
          "data": {
            "text/plain": [
              "  Category                                            Message  number_char\n",
              "0      ham  Go until jurong point, crazy.. Available only ...          111\n",
              "1      ham                      Ok lar... Joking wif u oni...           29\n",
              "2     spam  Free entry in 2 a wkly comp to win FA Cup fina...          155\n",
              "3      ham  U dun say so early hor... U c already then say...           49\n",
              "4      ham  Nah I don't think he goes to usf, he lives aro...           61"
            ],
            "text/html": [
              "\n",
              "  <div id=\"df-055d28fb-d3d0-4506-bb0b-96c7fc08d1c1\">\n",
              "    <div class=\"colab-df-container\">\n",
              "      <div>\n",
              "<style scoped>\n",
              "    .dataframe tbody tr th:only-of-type {\n",
              "        vertical-align: middle;\n",
              "    }\n",
              "\n",
              "    .dataframe tbody tr th {\n",
              "        vertical-align: top;\n",
              "    }\n",
              "\n",
              "    .dataframe thead th {\n",
              "        text-align: right;\n",
              "    }\n",
              "</style>\n",
              "<table border=\"1\" class=\"dataframe\">\n",
              "  <thead>\n",
              "    <tr style=\"text-align: right;\">\n",
              "      <th></th>\n",
              "      <th>Category</th>\n",
              "      <th>Message</th>\n",
              "      <th>number_char</th>\n",
              "    </tr>\n",
              "  </thead>\n",
              "  <tbody>\n",
              "    <tr>\n",
              "      <th>0</th>\n",
              "      <td>ham</td>\n",
              "      <td>Go until jurong point, crazy.. Available only ...</td>\n",
              "      <td>111</td>\n",
              "    </tr>\n",
              "    <tr>\n",
              "      <th>1</th>\n",
              "      <td>ham</td>\n",
              "      <td>Ok lar... Joking wif u oni...</td>\n",
              "      <td>29</td>\n",
              "    </tr>\n",
              "    <tr>\n",
              "      <th>2</th>\n",
              "      <td>spam</td>\n",
              "      <td>Free entry in 2 a wkly comp to win FA Cup fina...</td>\n",
              "      <td>155</td>\n",
              "    </tr>\n",
              "    <tr>\n",
              "      <th>3</th>\n",
              "      <td>ham</td>\n",
              "      <td>U dun say so early hor... U c already then say...</td>\n",
              "      <td>49</td>\n",
              "    </tr>\n",
              "    <tr>\n",
              "      <th>4</th>\n",
              "      <td>ham</td>\n",
              "      <td>Nah I don't think he goes to usf, he lives aro...</td>\n",
              "      <td>61</td>\n",
              "    </tr>\n",
              "  </tbody>\n",
              "</table>\n",
              "</div>\n",
              "      <button class=\"colab-df-convert\" onclick=\"convertToInteractive('df-055d28fb-d3d0-4506-bb0b-96c7fc08d1c1')\"\n",
              "              title=\"Convert this dataframe to an interactive table.\"\n",
              "              style=\"display:none;\">\n",
              "        \n",
              "  <svg xmlns=\"http://www.w3.org/2000/svg\" height=\"24px\"viewBox=\"0 0 24 24\"\n",
              "       width=\"24px\">\n",
              "    <path d=\"M0 0h24v24H0V0z\" fill=\"none\"/>\n",
              "    <path d=\"M18.56 5.44l.94 2.06.94-2.06 2.06-.94-2.06-.94-.94-2.06-.94 2.06-2.06.94zm-11 1L8.5 8.5l.94-2.06 2.06-.94-2.06-.94L8.5 2.5l-.94 2.06-2.06.94zm10 10l.94 2.06.94-2.06 2.06-.94-2.06-.94-.94-2.06-.94 2.06-2.06.94z\"/><path d=\"M17.41 7.96l-1.37-1.37c-.4-.4-.92-.59-1.43-.59-.52 0-1.04.2-1.43.59L10.3 9.45l-7.72 7.72c-.78.78-.78 2.05 0 2.83L4 21.41c.39.39.9.59 1.41.59.51 0 1.02-.2 1.41-.59l7.78-7.78 2.81-2.81c.8-.78.8-2.07 0-2.86zM5.41 20L4 18.59l7.72-7.72 1.47 1.35L5.41 20z\"/>\n",
              "  </svg>\n",
              "      </button>\n",
              "      \n",
              "  <style>\n",
              "    .colab-df-container {\n",
              "      display:flex;\n",
              "      flex-wrap:wrap;\n",
              "      gap: 12px;\n",
              "    }\n",
              "\n",
              "    .colab-df-convert {\n",
              "      background-color: #E8F0FE;\n",
              "      border: none;\n",
              "      border-radius: 50%;\n",
              "      cursor: pointer;\n",
              "      display: none;\n",
              "      fill: #1967D2;\n",
              "      height: 32px;\n",
              "      padding: 0 0 0 0;\n",
              "      width: 32px;\n",
              "    }\n",
              "\n",
              "    .colab-df-convert:hover {\n",
              "      background-color: #E2EBFA;\n",
              "      box-shadow: 0px 1px 2px rgba(60, 64, 67, 0.3), 0px 1px 3px 1px rgba(60, 64, 67, 0.15);\n",
              "      fill: #174EA6;\n",
              "    }\n",
              "\n",
              "    [theme=dark] .colab-df-convert {\n",
              "      background-color: #3B4455;\n",
              "      fill: #D2E3FC;\n",
              "    }\n",
              "\n",
              "    [theme=dark] .colab-df-convert:hover {\n",
              "      background-color: #434B5C;\n",
              "      box-shadow: 0px 1px 3px 1px rgba(0, 0, 0, 0.15);\n",
              "      filter: drop-shadow(0px 1px 2px rgba(0, 0, 0, 0.3));\n",
              "      fill: #FFFFFF;\n",
              "    }\n",
              "  </style>\n",
              "\n",
              "      <script>\n",
              "        const buttonEl =\n",
              "          document.querySelector('#df-055d28fb-d3d0-4506-bb0b-96c7fc08d1c1 button.colab-df-convert');\n",
              "        buttonEl.style.display =\n",
              "          google.colab.kernel.accessAllowed ? 'block' : 'none';\n",
              "\n",
              "        async function convertToInteractive(key) {\n",
              "          const element = document.querySelector('#df-055d28fb-d3d0-4506-bb0b-96c7fc08d1c1');\n",
              "          const dataTable =\n",
              "            await google.colab.kernel.invokeFunction('convertToInteractive',\n",
              "                                                     [key], {});\n",
              "          if (!dataTable) return;\n",
              "\n",
              "          const docLinkHtml = 'Like what you see? Visit the ' +\n",
              "            '<a target=\"_blank\" href=https://colab.research.google.com/notebooks/data_table.ipynb>data table notebook</a>'\n",
              "            + ' to learn more about interactive tables.';\n",
              "          element.innerHTML = '';\n",
              "          dataTable['output_type'] = 'display_data';\n",
              "          await google.colab.output.renderOutput(dataTable, element);\n",
              "          const docLink = document.createElement('div');\n",
              "          docLink.innerHTML = docLinkHtml;\n",
              "          element.appendChild(docLink);\n",
              "        }\n",
              "      </script>\n",
              "    </div>\n",
              "  </div>\n",
              "  "
            ]
          },
          "metadata": {},
          "execution_count": 9
        }
      ]
    },
    {
      "cell_type": "code",
      "source": [
        "###### Create a column named num_sentence ######\n",
        "df['num_sentence'] = df.loc[:, 'Message'].apply(lambda x: len(sent_tokenize(x)))\n",
        "\n",
        "df.head()"
      ],
      "metadata": {
        "colab": {
          "base_uri": "https://localhost:8080/",
          "height": 206
        },
        "id": "NhGz-Sn--hG7",
        "outputId": "ab607367-542a-4c25-bbe1-c4d1e26869ac"
      },
      "execution_count": 10,
      "outputs": [
        {
          "output_type": "execute_result",
          "data": {
            "text/plain": [
              "  Category                                            Message  number_char  \\\n",
              "0      ham  Go until jurong point, crazy.. Available only ...          111   \n",
              "1      ham                      Ok lar... Joking wif u oni...           29   \n",
              "2     spam  Free entry in 2 a wkly comp to win FA Cup fina...          155   \n",
              "3      ham  U dun say so early hor... U c already then say...           49   \n",
              "4      ham  Nah I don't think he goes to usf, he lives aro...           61   \n",
              "\n",
              "   num_sentence  \n",
              "0             2  \n",
              "1             2  \n",
              "2             2  \n",
              "3             1  \n",
              "4             1  "
            ],
            "text/html": [
              "\n",
              "  <div id=\"df-1e1db397-b0c2-4091-9245-baaab500e192\">\n",
              "    <div class=\"colab-df-container\">\n",
              "      <div>\n",
              "<style scoped>\n",
              "    .dataframe tbody tr th:only-of-type {\n",
              "        vertical-align: middle;\n",
              "    }\n",
              "\n",
              "    .dataframe tbody tr th {\n",
              "        vertical-align: top;\n",
              "    }\n",
              "\n",
              "    .dataframe thead th {\n",
              "        text-align: right;\n",
              "    }\n",
              "</style>\n",
              "<table border=\"1\" class=\"dataframe\">\n",
              "  <thead>\n",
              "    <tr style=\"text-align: right;\">\n",
              "      <th></th>\n",
              "      <th>Category</th>\n",
              "      <th>Message</th>\n",
              "      <th>number_char</th>\n",
              "      <th>num_sentence</th>\n",
              "    </tr>\n",
              "  </thead>\n",
              "  <tbody>\n",
              "    <tr>\n",
              "      <th>0</th>\n",
              "      <td>ham</td>\n",
              "      <td>Go until jurong point, crazy.. Available only ...</td>\n",
              "      <td>111</td>\n",
              "      <td>2</td>\n",
              "    </tr>\n",
              "    <tr>\n",
              "      <th>1</th>\n",
              "      <td>ham</td>\n",
              "      <td>Ok lar... Joking wif u oni...</td>\n",
              "      <td>29</td>\n",
              "      <td>2</td>\n",
              "    </tr>\n",
              "    <tr>\n",
              "      <th>2</th>\n",
              "      <td>spam</td>\n",
              "      <td>Free entry in 2 a wkly comp to win FA Cup fina...</td>\n",
              "      <td>155</td>\n",
              "      <td>2</td>\n",
              "    </tr>\n",
              "    <tr>\n",
              "      <th>3</th>\n",
              "      <td>ham</td>\n",
              "      <td>U dun say so early hor... U c already then say...</td>\n",
              "      <td>49</td>\n",
              "      <td>1</td>\n",
              "    </tr>\n",
              "    <tr>\n",
              "      <th>4</th>\n",
              "      <td>ham</td>\n",
              "      <td>Nah I don't think he goes to usf, he lives aro...</td>\n",
              "      <td>61</td>\n",
              "      <td>1</td>\n",
              "    </tr>\n",
              "  </tbody>\n",
              "</table>\n",
              "</div>\n",
              "      <button class=\"colab-df-convert\" onclick=\"convertToInteractive('df-1e1db397-b0c2-4091-9245-baaab500e192')\"\n",
              "              title=\"Convert this dataframe to an interactive table.\"\n",
              "              style=\"display:none;\">\n",
              "        \n",
              "  <svg xmlns=\"http://www.w3.org/2000/svg\" height=\"24px\"viewBox=\"0 0 24 24\"\n",
              "       width=\"24px\">\n",
              "    <path d=\"M0 0h24v24H0V0z\" fill=\"none\"/>\n",
              "    <path d=\"M18.56 5.44l.94 2.06.94-2.06 2.06-.94-2.06-.94-.94-2.06-.94 2.06-2.06.94zm-11 1L8.5 8.5l.94-2.06 2.06-.94-2.06-.94L8.5 2.5l-.94 2.06-2.06.94zm10 10l.94 2.06.94-2.06 2.06-.94-2.06-.94-.94-2.06-.94 2.06-2.06.94z\"/><path d=\"M17.41 7.96l-1.37-1.37c-.4-.4-.92-.59-1.43-.59-.52 0-1.04.2-1.43.59L10.3 9.45l-7.72 7.72c-.78.78-.78 2.05 0 2.83L4 21.41c.39.39.9.59 1.41.59.51 0 1.02-.2 1.41-.59l7.78-7.78 2.81-2.81c.8-.78.8-2.07 0-2.86zM5.41 20L4 18.59l7.72-7.72 1.47 1.35L5.41 20z\"/>\n",
              "  </svg>\n",
              "      </button>\n",
              "      \n",
              "  <style>\n",
              "    .colab-df-container {\n",
              "      display:flex;\n",
              "      flex-wrap:wrap;\n",
              "      gap: 12px;\n",
              "    }\n",
              "\n",
              "    .colab-df-convert {\n",
              "      background-color: #E8F0FE;\n",
              "      border: none;\n",
              "      border-radius: 50%;\n",
              "      cursor: pointer;\n",
              "      display: none;\n",
              "      fill: #1967D2;\n",
              "      height: 32px;\n",
              "      padding: 0 0 0 0;\n",
              "      width: 32px;\n",
              "    }\n",
              "\n",
              "    .colab-df-convert:hover {\n",
              "      background-color: #E2EBFA;\n",
              "      box-shadow: 0px 1px 2px rgba(60, 64, 67, 0.3), 0px 1px 3px 1px rgba(60, 64, 67, 0.15);\n",
              "      fill: #174EA6;\n",
              "    }\n",
              "\n",
              "    [theme=dark] .colab-df-convert {\n",
              "      background-color: #3B4455;\n",
              "      fill: #D2E3FC;\n",
              "    }\n",
              "\n",
              "    [theme=dark] .colab-df-convert:hover {\n",
              "      background-color: #434B5C;\n",
              "      box-shadow: 0px 1px 3px 1px rgba(0, 0, 0, 0.15);\n",
              "      filter: drop-shadow(0px 1px 2px rgba(0, 0, 0, 0.3));\n",
              "      fill: #FFFFFF;\n",
              "    }\n",
              "  </style>\n",
              "\n",
              "      <script>\n",
              "        const buttonEl =\n",
              "          document.querySelector('#df-1e1db397-b0c2-4091-9245-baaab500e192 button.colab-df-convert');\n",
              "        buttonEl.style.display =\n",
              "          google.colab.kernel.accessAllowed ? 'block' : 'none';\n",
              "\n",
              "        async function convertToInteractive(key) {\n",
              "          const element = document.querySelector('#df-1e1db397-b0c2-4091-9245-baaab500e192');\n",
              "          const dataTable =\n",
              "            await google.colab.kernel.invokeFunction('convertToInteractive',\n",
              "                                                     [key], {});\n",
              "          if (!dataTable) return;\n",
              "\n",
              "          const docLinkHtml = 'Like what you see? Visit the ' +\n",
              "            '<a target=\"_blank\" href=https://colab.research.google.com/notebooks/data_table.ipynb>data table notebook</a>'\n",
              "            + ' to learn more about interactive tables.';\n",
              "          element.innerHTML = '';\n",
              "          dataTable['output_type'] = 'display_data';\n",
              "          await google.colab.output.renderOutput(dataTable, element);\n",
              "          const docLink = document.createElement('div');\n",
              "          docLink.innerHTML = docLinkHtml;\n",
              "          element.appendChild(docLink);\n",
              "        }\n",
              "      </script>\n",
              "    </div>\n",
              "  </div>\n",
              "  "
            ]
          },
          "metadata": {},
          "execution_count": 10
        }
      ]
    },
    {
      "cell_type": "code",
      "source": [
        "###### Create a column named num_word ######\n",
        "df.loc[:, 'num_word'] = df.loc[:, 'Message'].apply(lambda x: len(word_tokenize(x)))\n",
        "\n",
        "df.head()"
      ],
      "metadata": {
        "colab": {
          "base_uri": "https://localhost:8080/",
          "height": 206
        },
        "id": "IPleTYct_Tg9",
        "outputId": "b1d1c9dd-bb17-42ea-db3d-5e22ad3867c8"
      },
      "execution_count": 11,
      "outputs": [
        {
          "output_type": "execute_result",
          "data": {
            "text/plain": [
              "  Category                                            Message  number_char  \\\n",
              "0      ham  Go until jurong point, crazy.. Available only ...          111   \n",
              "1      ham                      Ok lar... Joking wif u oni...           29   \n",
              "2     spam  Free entry in 2 a wkly comp to win FA Cup fina...          155   \n",
              "3      ham  U dun say so early hor... U c already then say...           49   \n",
              "4      ham  Nah I don't think he goes to usf, he lives aro...           61   \n",
              "\n",
              "   num_sentence  num_word  \n",
              "0             2        24  \n",
              "1             2         8  \n",
              "2             2        37  \n",
              "3             1        13  \n",
              "4             1        15  "
            ],
            "text/html": [
              "\n",
              "  <div id=\"df-5803db71-1a3e-4a78-8f1d-508f9deb99de\">\n",
              "    <div class=\"colab-df-container\">\n",
              "      <div>\n",
              "<style scoped>\n",
              "    .dataframe tbody tr th:only-of-type {\n",
              "        vertical-align: middle;\n",
              "    }\n",
              "\n",
              "    .dataframe tbody tr th {\n",
              "        vertical-align: top;\n",
              "    }\n",
              "\n",
              "    .dataframe thead th {\n",
              "        text-align: right;\n",
              "    }\n",
              "</style>\n",
              "<table border=\"1\" class=\"dataframe\">\n",
              "  <thead>\n",
              "    <tr style=\"text-align: right;\">\n",
              "      <th></th>\n",
              "      <th>Category</th>\n",
              "      <th>Message</th>\n",
              "      <th>number_char</th>\n",
              "      <th>num_sentence</th>\n",
              "      <th>num_word</th>\n",
              "    </tr>\n",
              "  </thead>\n",
              "  <tbody>\n",
              "    <tr>\n",
              "      <th>0</th>\n",
              "      <td>ham</td>\n",
              "      <td>Go until jurong point, crazy.. Available only ...</td>\n",
              "      <td>111</td>\n",
              "      <td>2</td>\n",
              "      <td>24</td>\n",
              "    </tr>\n",
              "    <tr>\n",
              "      <th>1</th>\n",
              "      <td>ham</td>\n",
              "      <td>Ok lar... Joking wif u oni...</td>\n",
              "      <td>29</td>\n",
              "      <td>2</td>\n",
              "      <td>8</td>\n",
              "    </tr>\n",
              "    <tr>\n",
              "      <th>2</th>\n",
              "      <td>spam</td>\n",
              "      <td>Free entry in 2 a wkly comp to win FA Cup fina...</td>\n",
              "      <td>155</td>\n",
              "      <td>2</td>\n",
              "      <td>37</td>\n",
              "    </tr>\n",
              "    <tr>\n",
              "      <th>3</th>\n",
              "      <td>ham</td>\n",
              "      <td>U dun say so early hor... U c already then say...</td>\n",
              "      <td>49</td>\n",
              "      <td>1</td>\n",
              "      <td>13</td>\n",
              "    </tr>\n",
              "    <tr>\n",
              "      <th>4</th>\n",
              "      <td>ham</td>\n",
              "      <td>Nah I don't think he goes to usf, he lives aro...</td>\n",
              "      <td>61</td>\n",
              "      <td>1</td>\n",
              "      <td>15</td>\n",
              "    </tr>\n",
              "  </tbody>\n",
              "</table>\n",
              "</div>\n",
              "      <button class=\"colab-df-convert\" onclick=\"convertToInteractive('df-5803db71-1a3e-4a78-8f1d-508f9deb99de')\"\n",
              "              title=\"Convert this dataframe to an interactive table.\"\n",
              "              style=\"display:none;\">\n",
              "        \n",
              "  <svg xmlns=\"http://www.w3.org/2000/svg\" height=\"24px\"viewBox=\"0 0 24 24\"\n",
              "       width=\"24px\">\n",
              "    <path d=\"M0 0h24v24H0V0z\" fill=\"none\"/>\n",
              "    <path d=\"M18.56 5.44l.94 2.06.94-2.06 2.06-.94-2.06-.94-.94-2.06-.94 2.06-2.06.94zm-11 1L8.5 8.5l.94-2.06 2.06-.94-2.06-.94L8.5 2.5l-.94 2.06-2.06.94zm10 10l.94 2.06.94-2.06 2.06-.94-2.06-.94-.94-2.06-.94 2.06-2.06.94z\"/><path d=\"M17.41 7.96l-1.37-1.37c-.4-.4-.92-.59-1.43-.59-.52 0-1.04.2-1.43.59L10.3 9.45l-7.72 7.72c-.78.78-.78 2.05 0 2.83L4 21.41c.39.39.9.59 1.41.59.51 0 1.02-.2 1.41-.59l7.78-7.78 2.81-2.81c.8-.78.8-2.07 0-2.86zM5.41 20L4 18.59l7.72-7.72 1.47 1.35L5.41 20z\"/>\n",
              "  </svg>\n",
              "      </button>\n",
              "      \n",
              "  <style>\n",
              "    .colab-df-container {\n",
              "      display:flex;\n",
              "      flex-wrap:wrap;\n",
              "      gap: 12px;\n",
              "    }\n",
              "\n",
              "    .colab-df-convert {\n",
              "      background-color: #E8F0FE;\n",
              "      border: none;\n",
              "      border-radius: 50%;\n",
              "      cursor: pointer;\n",
              "      display: none;\n",
              "      fill: #1967D2;\n",
              "      height: 32px;\n",
              "      padding: 0 0 0 0;\n",
              "      width: 32px;\n",
              "    }\n",
              "\n",
              "    .colab-df-convert:hover {\n",
              "      background-color: #E2EBFA;\n",
              "      box-shadow: 0px 1px 2px rgba(60, 64, 67, 0.3), 0px 1px 3px 1px rgba(60, 64, 67, 0.15);\n",
              "      fill: #174EA6;\n",
              "    }\n",
              "\n",
              "    [theme=dark] .colab-df-convert {\n",
              "      background-color: #3B4455;\n",
              "      fill: #D2E3FC;\n",
              "    }\n",
              "\n",
              "    [theme=dark] .colab-df-convert:hover {\n",
              "      background-color: #434B5C;\n",
              "      box-shadow: 0px 1px 3px 1px rgba(0, 0, 0, 0.15);\n",
              "      filter: drop-shadow(0px 1px 2px rgba(0, 0, 0, 0.3));\n",
              "      fill: #FFFFFF;\n",
              "    }\n",
              "  </style>\n",
              "\n",
              "      <script>\n",
              "        const buttonEl =\n",
              "          document.querySelector('#df-5803db71-1a3e-4a78-8f1d-508f9deb99de button.colab-df-convert');\n",
              "        buttonEl.style.display =\n",
              "          google.colab.kernel.accessAllowed ? 'block' : 'none';\n",
              "\n",
              "        async function convertToInteractive(key) {\n",
              "          const element = document.querySelector('#df-5803db71-1a3e-4a78-8f1d-508f9deb99de');\n",
              "          const dataTable =\n",
              "            await google.colab.kernel.invokeFunction('convertToInteractive',\n",
              "                                                     [key], {});\n",
              "          if (!dataTable) return;\n",
              "\n",
              "          const docLinkHtml = 'Like what you see? Visit the ' +\n",
              "            '<a target=\"_blank\" href=https://colab.research.google.com/notebooks/data_table.ipynb>data table notebook</a>'\n",
              "            + ' to learn more about interactive tables.';\n",
              "          element.innerHTML = '';\n",
              "          dataTable['output_type'] = 'display_data';\n",
              "          await google.colab.output.renderOutput(dataTable, element);\n",
              "          const docLink = document.createElement('div');\n",
              "          docLink.innerHTML = docLinkHtml;\n",
              "          element.appendChild(docLink);\n",
              "        }\n",
              "      </script>\n",
              "    </div>\n",
              "  </div>\n",
              "  "
            ]
          },
          "metadata": {},
          "execution_count": 11
        }
      ]
    },
    {
      "cell_type": "code",
      "source": [
        "###### Describe analysis ######\n",
        "df.describe()"
      ],
      "metadata": {
        "colab": {
          "base_uri": "https://localhost:8080/",
          "height": 300
        },
        "id": "tAmlreCO_lba",
        "outputId": "05e0847a-3fa9-46b5-a6bf-88d402fdbc46"
      },
      "execution_count": 12,
      "outputs": [
        {
          "output_type": "execute_result",
          "data": {
            "text/plain": [
              "       number_char  num_sentence     num_word\n",
              "count  5157.000000   5157.000000  5157.000000\n",
              "mean     79.103936      1.950553    18.557882\n",
              "std      58.382922      1.362981    13.406024\n",
              "min       2.000000      1.000000     1.000000\n",
              "25%      36.000000      1.000000     9.000000\n",
              "50%      61.000000      1.000000    15.000000\n",
              "75%     118.000000      2.000000    26.000000\n",
              "max     910.000000     28.000000   220.000000"
            ],
            "text/html": [
              "\n",
              "  <div id=\"df-23e9749d-5aaa-4779-ad28-72e343ded426\">\n",
              "    <div class=\"colab-df-container\">\n",
              "      <div>\n",
              "<style scoped>\n",
              "    .dataframe tbody tr th:only-of-type {\n",
              "        vertical-align: middle;\n",
              "    }\n",
              "\n",
              "    .dataframe tbody tr th {\n",
              "        vertical-align: top;\n",
              "    }\n",
              "\n",
              "    .dataframe thead th {\n",
              "        text-align: right;\n",
              "    }\n",
              "</style>\n",
              "<table border=\"1\" class=\"dataframe\">\n",
              "  <thead>\n",
              "    <tr style=\"text-align: right;\">\n",
              "      <th></th>\n",
              "      <th>number_char</th>\n",
              "      <th>num_sentence</th>\n",
              "      <th>num_word</th>\n",
              "    </tr>\n",
              "  </thead>\n",
              "  <tbody>\n",
              "    <tr>\n",
              "      <th>count</th>\n",
              "      <td>5157.000000</td>\n",
              "      <td>5157.000000</td>\n",
              "      <td>5157.000000</td>\n",
              "    </tr>\n",
              "    <tr>\n",
              "      <th>mean</th>\n",
              "      <td>79.103936</td>\n",
              "      <td>1.950553</td>\n",
              "      <td>18.557882</td>\n",
              "    </tr>\n",
              "    <tr>\n",
              "      <th>std</th>\n",
              "      <td>58.382922</td>\n",
              "      <td>1.362981</td>\n",
              "      <td>13.406024</td>\n",
              "    </tr>\n",
              "    <tr>\n",
              "      <th>min</th>\n",
              "      <td>2.000000</td>\n",
              "      <td>1.000000</td>\n",
              "      <td>1.000000</td>\n",
              "    </tr>\n",
              "    <tr>\n",
              "      <th>25%</th>\n",
              "      <td>36.000000</td>\n",
              "      <td>1.000000</td>\n",
              "      <td>9.000000</td>\n",
              "    </tr>\n",
              "    <tr>\n",
              "      <th>50%</th>\n",
              "      <td>61.000000</td>\n",
              "      <td>1.000000</td>\n",
              "      <td>15.000000</td>\n",
              "    </tr>\n",
              "    <tr>\n",
              "      <th>75%</th>\n",
              "      <td>118.000000</td>\n",
              "      <td>2.000000</td>\n",
              "      <td>26.000000</td>\n",
              "    </tr>\n",
              "    <tr>\n",
              "      <th>max</th>\n",
              "      <td>910.000000</td>\n",
              "      <td>28.000000</td>\n",
              "      <td>220.000000</td>\n",
              "    </tr>\n",
              "  </tbody>\n",
              "</table>\n",
              "</div>\n",
              "      <button class=\"colab-df-convert\" onclick=\"convertToInteractive('df-23e9749d-5aaa-4779-ad28-72e343ded426')\"\n",
              "              title=\"Convert this dataframe to an interactive table.\"\n",
              "              style=\"display:none;\">\n",
              "        \n",
              "  <svg xmlns=\"http://www.w3.org/2000/svg\" height=\"24px\"viewBox=\"0 0 24 24\"\n",
              "       width=\"24px\">\n",
              "    <path d=\"M0 0h24v24H0V0z\" fill=\"none\"/>\n",
              "    <path d=\"M18.56 5.44l.94 2.06.94-2.06 2.06-.94-2.06-.94-.94-2.06-.94 2.06-2.06.94zm-11 1L8.5 8.5l.94-2.06 2.06-.94-2.06-.94L8.5 2.5l-.94 2.06-2.06.94zm10 10l.94 2.06.94-2.06 2.06-.94-2.06-.94-.94-2.06-.94 2.06-2.06.94z\"/><path d=\"M17.41 7.96l-1.37-1.37c-.4-.4-.92-.59-1.43-.59-.52 0-1.04.2-1.43.59L10.3 9.45l-7.72 7.72c-.78.78-.78 2.05 0 2.83L4 21.41c.39.39.9.59 1.41.59.51 0 1.02-.2 1.41-.59l7.78-7.78 2.81-2.81c.8-.78.8-2.07 0-2.86zM5.41 20L4 18.59l7.72-7.72 1.47 1.35L5.41 20z\"/>\n",
              "  </svg>\n",
              "      </button>\n",
              "      \n",
              "  <style>\n",
              "    .colab-df-container {\n",
              "      display:flex;\n",
              "      flex-wrap:wrap;\n",
              "      gap: 12px;\n",
              "    }\n",
              "\n",
              "    .colab-df-convert {\n",
              "      background-color: #E8F0FE;\n",
              "      border: none;\n",
              "      border-radius: 50%;\n",
              "      cursor: pointer;\n",
              "      display: none;\n",
              "      fill: #1967D2;\n",
              "      height: 32px;\n",
              "      padding: 0 0 0 0;\n",
              "      width: 32px;\n",
              "    }\n",
              "\n",
              "    .colab-df-convert:hover {\n",
              "      background-color: #E2EBFA;\n",
              "      box-shadow: 0px 1px 2px rgba(60, 64, 67, 0.3), 0px 1px 3px 1px rgba(60, 64, 67, 0.15);\n",
              "      fill: #174EA6;\n",
              "    }\n",
              "\n",
              "    [theme=dark] .colab-df-convert {\n",
              "      background-color: #3B4455;\n",
              "      fill: #D2E3FC;\n",
              "    }\n",
              "\n",
              "    [theme=dark] .colab-df-convert:hover {\n",
              "      background-color: #434B5C;\n",
              "      box-shadow: 0px 1px 3px 1px rgba(0, 0, 0, 0.15);\n",
              "      filter: drop-shadow(0px 1px 2px rgba(0, 0, 0, 0.3));\n",
              "      fill: #FFFFFF;\n",
              "    }\n",
              "  </style>\n",
              "\n",
              "      <script>\n",
              "        const buttonEl =\n",
              "          document.querySelector('#df-23e9749d-5aaa-4779-ad28-72e343ded426 button.colab-df-convert');\n",
              "        buttonEl.style.display =\n",
              "          google.colab.kernel.accessAllowed ? 'block' : 'none';\n",
              "\n",
              "        async function convertToInteractive(key) {\n",
              "          const element = document.querySelector('#df-23e9749d-5aaa-4779-ad28-72e343ded426');\n",
              "          const dataTable =\n",
              "            await google.colab.kernel.invokeFunction('convertToInteractive',\n",
              "                                                     [key], {});\n",
              "          if (!dataTable) return;\n",
              "\n",
              "          const docLinkHtml = 'Like what you see? Visit the ' +\n",
              "            '<a target=\"_blank\" href=https://colab.research.google.com/notebooks/data_table.ipynb>data table notebook</a>'\n",
              "            + ' to learn more about interactive tables.';\n",
              "          element.innerHTML = '';\n",
              "          dataTable['output_type'] = 'display_data';\n",
              "          await google.colab.output.renderOutput(dataTable, element);\n",
              "          const docLink = document.createElement('div');\n",
              "          docLink.innerHTML = docLinkHtml;\n",
              "          element.appendChild(docLink);\n",
              "        }\n",
              "      </script>\n",
              "    </div>\n",
              "  </div>\n",
              "  "
            ]
          },
          "metadata": {},
          "execution_count": 12
        }
      ]
    },
    {
      "cell_type": "code",
      "source": [
        "print(\"Average number of char used in this dataset is     : \", df.describe().loc['mean', 'number_char'], '%')\n",
        "print(\"Average number of sentence used in this dataset is : \", df.describe().loc['mean', 'num_sentence'], '%')\n",
        "print(\"Average number of word used in this dataset is     : \", df.describe().loc['mean', 'num_word'], '%')\n",
        "print(\"\\n\\n\")\n",
        "print(\"Maximum number of char used in this dataset is     : \", df.describe().loc['max', 'number_char'])\n",
        "print(\"Maximum number of sentence used in this dataset is : \", df.describe().loc['max', 'num_sentence'])\n",
        "print(\"Maximum number of word used in this dataset is     : \", df.describe().loc['max', 'num_word'])"
      ],
      "metadata": {
        "colab": {
          "base_uri": "https://localhost:8080/"
        },
        "id": "5uKc7TtG_yma",
        "outputId": "90072d1f-30b8-4a9e-f972-f80baacbf113"
      },
      "execution_count": 13,
      "outputs": [
        {
          "output_type": "stream",
          "name": "stdout",
          "text": [
            "Average number of char used in this dataset is     :  79.10393639713011 %\n",
            "Average number of sentence used in this dataset is :  1.9505526468877254 %\n",
            "Average number of word used in this dataset is     :  18.55788248981966 %\n",
            "\n",
            "\n",
            "\n",
            "Maximum number of char used in this dataset is     :  910.0\n",
            "Maximum number of sentence used in this dataset is :  28.0\n",
            "Maximum number of word used in this dataset is     :  220.0\n"
          ]
        }
      ]
    },
    {
      "cell_type": "code",
      "source": [
        "df.loc[df.loc[:, 'Category'] == 'ham', 'Message']"
      ],
      "metadata": {
        "colab": {
          "base_uri": "https://localhost:8080/"
        },
        "id": "mmRes3puCt9Z",
        "outputId": "866887a6-d0d2-40f1-fa3c-49bc9649308a"
      },
      "execution_count": 14,
      "outputs": [
        {
          "output_type": "execute_result",
          "data": {
            "text/plain": [
              "0       Go until jurong point, crazy.. Available only ...\n",
              "1                           Ok lar... Joking wif u oni...\n",
              "3       U dun say so early hor... U c already then say...\n",
              "4       Nah I don't think he goes to usf, he lives aro...\n",
              "6       Even my brother is not like to speak with me. ...\n",
              "                              ...                        \n",
              "5565                                         Huh y lei...\n",
              "5568                 Will ü b going to esplanade fr home?\n",
              "5569    Pity, * was in mood for that. So...any other s...\n",
              "5570    The guy did some bitching but I acted like i'd...\n",
              "5571                           Rofl. Its true to its name\n",
              "Name: Message, Length: 4516, dtype: object"
            ]
          },
          "metadata": {},
          "execution_count": 14
        }
      ]
    },
    {
      "cell_type": "code",
      "source": [
        "import wordcloud\n",
        "###### Most Frquent words used in the Ham ######\n",
        "from wordcloud import WordCloud\n",
        "\n",
        "plt.figure(figsize = (10, 6))\n",
        "wordcloud_ = WordCloud(width = 500, height = 300, min_font_size = 8, background_color = 'white')\n",
        "\n",
        "ham_ = wordcloud_.generate(df.loc[df.loc[:, 'Category'] == 'ham', 'Message'].str.cat(sep = ''))\n",
        "plt.imshow(ham_)"
      ],
      "metadata": {
        "colab": {
          "base_uri": "https://localhost:8080/",
          "height": 395
        },
        "id": "fENdhdEoCKh-",
        "outputId": "9c77fbc7-7546-42dd-b68e-122731a603b3"
      },
      "execution_count": 15,
      "outputs": [
        {
          "output_type": "execute_result",
          "data": {
            "text/plain": [
              "<matplotlib.image.AxesImage at 0x7f202a47e8d0>"
            ]
          },
          "metadata": {},
          "execution_count": 15
        },
        {
          "output_type": "display_data",
          "data": {
            "text/plain": [
              "<Figure size 720x432 with 1 Axes>"
            ],
            "image/png": "[encoded data removed]"
          },
          "metadata": {
            "needs_background": "light"
          }
        }
      ]
    },
    {
      "cell_type": "code",
      "source": [
        "###### Most Frequent words in the spam ######\n",
        "plt.figure(figsize = (10, 6))\n",
        "wordcloud_ = WordCloud(width = 500, height = 300, min_font_size = 8, background_color = 'white')\n",
        "\n",
        "spam_ = wordcloud_.generate(df.loc[df.loc[:, 'Category'] == 'spam', 'Message'].str.cat(sep = ''))\n",
        "plt.imshow(spam_)"
      ],
      "metadata": {
        "colab": {
          "base_uri": "https://localhost:8080/",
          "height": 395
        },
        "id": "Um27fz_vD8EZ",
        "outputId": "c649d5a5-ce56-440e-a7d8-a7d7ccd215b9"
      },
      "execution_count": 16,
      "outputs": [
        {
          "output_type": "execute_result",
          "data": {
            "text/plain": [
              "<matplotlib.image.AxesImage at 0x7f202a4968d0>"
            ]
          },
          "metadata": {},
          "execution_count": 16
        },
        {
          "output_type": "display_data",
          "data": {
            "text/plain": [
              "<Figure size 720x432 with 1 Axes>"
            ],
            "image/png": "[encoded data removed]"
          },
          "metadata": {
            "needs_background": "light"
          }
        }
      ]
    },
    {
      "cell_type": "code",
      "source": [
        "###### Check ham wise how many characters, words and sentces are being used ######\n",
        "df.loc[df.loc[:, 'Category'] == 'ham', :].describe()"
      ],
      "metadata": {
        "colab": {
          "base_uri": "https://localhost:8080/",
          "height": 300
        },
        "id": "lDSc0zuCECkS",
        "outputId": "2f6ee943-20d9-43a3-c5f4-b08cc868bfa7"
      },
      "execution_count": 17,
      "outputs": [
        {
          "output_type": "execute_result",
          "data": {
            "text/plain": [
              "       number_char  num_sentence     num_word\n",
              "count  4516.000000   4516.000000  4516.000000\n",
              "mean     70.869353      1.806244    17.264836\n",
              "std      56.708301      1.281910    13.587852\n",
              "min       2.000000      1.000000     1.000000\n",
              "25%      34.000000      1.000000     8.000000\n",
              "50%      53.000000      1.000000    13.000000\n",
              "75%      91.000000      2.000000    22.000000\n",
              "max     910.000000     28.000000   220.000000"
            ],
            "text/html": [
              "\n",
              "  <div id=\"df-10ff2ac7-ef52-4bb1-bf7e-c01e61fe7629\">\n",
              "    <div class=\"colab-df-container\">\n",
              "      <div>\n",
              "<style scoped>\n",
              "    .dataframe tbody tr th:only-of-type {\n",
              "        vertical-align: middle;\n",
              "    }\n",
              "\n",
              "    .dataframe tbody tr th {\n",
              "        vertical-align: top;\n",
              "    }\n",
              "\n",
              "    .dataframe thead th {\n",
              "        text-align: right;\n",
              "    }\n",
              "</style>\n",
              "<table border=\"1\" class=\"dataframe\">\n",
              "  <thead>\n",
              "    <tr style=\"text-align: right;\">\n",
              "      <th></th>\n",
              "      <th>number_char</th>\n",
              "      <th>num_sentence</th>\n",
              "      <th>num_word</th>\n",
              "    </tr>\n",
              "  </thead>\n",
              "  <tbody>\n",
              "    <tr>\n",
              "      <th>count</th>\n",
              "      <td>4516.000000</td>\n",
              "      <td>4516.000000</td>\n",
              "      <td>4516.000000</td>\n",
              "    </tr>\n",
              "    <tr>\n",
              "      <th>mean</th>\n",
              "      <td>70.869353</td>\n",
              "      <td>1.806244</td>\n",
              "      <td>17.264836</td>\n",
              "    </tr>\n",
              "    <tr>\n",
              "      <th>std</th>\n",
              "      <td>56.708301</td>\n",
              "      <td>1.281910</td>\n",
              "      <td>13.587852</td>\n",
              "    </tr>\n",
              "    <tr>\n",
              "      <th>min</th>\n",
              "      <td>2.000000</td>\n",
              "      <td>1.000000</td>\n",
              "      <td>1.000000</td>\n",
              "    </tr>\n",
              "    <tr>\n",
              "      <th>25%</th>\n",
              "      <td>34.000000</td>\n",
              "      <td>1.000000</td>\n",
              "      <td>8.000000</td>\n",
              "    </tr>\n",
              "    <tr>\n",
              "      <th>50%</th>\n",
              "      <td>53.000000</td>\n",
              "      <td>1.000000</td>\n",
              "      <td>13.000000</td>\n",
              "    </tr>\n",
              "    <tr>\n",
              "      <th>75%</th>\n",
              "      <td>91.000000</td>\n",
              "      <td>2.000000</td>\n",
              "      <td>22.000000</td>\n",
              "    </tr>\n",
              "    <tr>\n",
              "      <th>max</th>\n",
              "      <td>910.000000</td>\n",
              "      <td>28.000000</td>\n",
              "      <td>220.000000</td>\n",
              "    </tr>\n",
              "  </tbody>\n",
              "</table>\n",
              "</div>\n",
              "      <button class=\"colab-df-convert\" onclick=\"convertToInteractive('df-10ff2ac7-ef52-4bb1-bf7e-c01e61fe7629')\"\n",
              "              title=\"Convert this dataframe to an interactive table.\"\n",
              "              style=\"display:none;\">\n",
              "        \n",
              "  <svg xmlns=\"http://www.w3.org/2000/svg\" height=\"24px\"viewBox=\"0 0 24 24\"\n",
              "       width=\"24px\">\n",
              "    <path d=\"M0 0h24v24H0V0z\" fill=\"none\"/>\n",
              "    <path d=\"M18.56 5.44l.94 2.06.94-2.06 2.06-.94-2.06-.94-.94-2.06-.94 2.06-2.06.94zm-11 1L8.5 8.5l.94-2.06 2.06-.94-2.06-.94L8.5 2.5l-.94 2.06-2.06.94zm10 10l.94 2.06.94-2.06 2.06-.94-2.06-.94-.94-2.06-.94 2.06-2.06.94z\"/><path d=\"M17.41 7.96l-1.37-1.37c-.4-.4-.92-.59-1.43-.59-.52 0-1.04.2-1.43.59L10.3 9.45l-7.72 7.72c-.78.78-.78 2.05 0 2.83L4 21.41c.39.39.9.59 1.41.59.51 0 1.02-.2 1.41-.59l7.78-7.78 2.81-2.81c.8-.78.8-2.07 0-2.86zM5.41 20L4 18.59l7.72-7.72 1.47 1.35L5.41 20z\"/>\n",
              "  </svg>\n",
              "      </button>\n",
              "      \n",
              "  <style>\n",
              "    .colab-df-container {\n",
              "      display:flex;\n",
              "      flex-wrap:wrap;\n",
              "      gap: 12px;\n",
              "    }\n",
              "\n",
              "    .colab-df-convert {\n",
              "      background-color: #E8F0FE;\n",
              "      border: none;\n",
              "      border-radius: 50%;\n",
              "      cursor: pointer;\n",
              "      display: none;\n",
              "      fill: #1967D2;\n",
              "      height: 32px;\n",
              "      padding: 0 0 0 0;\n",
              "      width: 32px;\n",
              "    }\n",
              "\n",
              "    .colab-df-convert:hover {\n",
              "      background-color: #E2EBFA;\n",
              "      box-shadow: 0px 1px 2px rgba(60, 64, 67, 0.3), 0px 1px 3px 1px rgba(60, 64, 67, 0.15);\n",
              "      fill: #174EA6;\n",
              "    }\n",
              "\n",
              "    [theme=dark] .colab-df-convert {\n",
              "      background-color: #3B4455;\n",
              "      fill: #D2E3FC;\n",
              "    }\n",
              "\n",
              "    [theme=dark] .colab-df-convert:hover {\n",
              "      background-color: #434B5C;\n",
              "      box-shadow: 0px 1px 3px 1px rgba(0, 0, 0, 0.15);\n",
              "      filter: drop-shadow(0px 1px 2px rgba(0, 0, 0, 0.3));\n",
              "      fill: #FFFFFF;\n",
              "    }\n",
              "  </style>\n",
              "\n",
              "      <script>\n",
              "        const buttonEl =\n",
              "          document.querySelector('#df-10ff2ac7-ef52-4bb1-bf7e-c01e61fe7629 button.colab-df-convert');\n",
              "        buttonEl.style.display =\n",
              "          google.colab.kernel.accessAllowed ? 'block' : 'none';\n",
              "\n",
              "        async function convertToInteractive(key) {\n",
              "          const element = document.querySelector('#df-10ff2ac7-ef52-4bb1-bf7e-c01e61fe7629');\n",
              "          const dataTable =\n",
              "            await google.colab.kernel.invokeFunction('convertToInteractive',\n",
              "                                                     [key], {});\n",
              "          if (!dataTable) return;\n",
              "\n",
              "          const docLinkHtml = 'Like what you see? Visit the ' +\n",
              "            '<a target=\"_blank\" href=https://colab.research.google.com/notebooks/data_table.ipynb>data table notebook</a>'\n",
              "            + ' to learn more about interactive tables.';\n",
              "          element.innerHTML = '';\n",
              "          dataTable['output_type'] = 'display_data';\n",
              "          await google.colab.output.renderOutput(dataTable, element);\n",
              "          const docLink = document.createElement('div');\n",
              "          docLink.innerHTML = docLinkHtml;\n",
              "          element.appendChild(docLink);\n",
              "        }\n",
              "      </script>\n",
              "    </div>\n",
              "  </div>\n",
              "  "
            ]
          },
          "metadata": {},
          "execution_count": 17
        }
      ]
    },
    {
      "cell_type": "code",
      "source": [
        "plt.figure(figsize = (10, 5))\n",
        "sns.histplot(df.loc[df.loc[:, 'Category'] == 'ham', 'number_char'])\n",
        "sns.histplot(df.loc[df.loc[:, 'Category'] == 'spam', 'number_char'], color = 'red')\n",
        "plt.show()"
      ],
      "metadata": {
        "colab": {
          "base_uri": "https://localhost:8080/",
          "height": 335
        },
        "id": "lbv4dremFiDu",
        "outputId": "9bf1448f-42df-4134-c1a0-59a5c4ee48c5"
      },
      "execution_count": 18,
      "outputs": [
        {
          "output_type": "display_data",
          "data": {
            "text/plain": [
              "<Figure size 720x360 with 1 Axes>"
            ],
            "image/png": "[encoded data removed]"
          },
          "metadata": {
            "needs_background": "light"
          }
        }
      ]
    },
    {
      "cell_type": "code",
      "source": [
        "plt.figure(figsize = (10, 5))\n",
        "sns.histplot(df.loc[df.loc[:, 'Category'] == 'ham', 'num_word'])\n",
        "sns.histplot(df.loc[df.loc[:, 'Category'] == 'spam', 'num_word'], color = 'red')\n",
        "plt.show()"
      ],
      "metadata": {
        "colab": {
          "base_uri": "https://localhost:8080/",
          "height": 335
        },
        "id": "YYfa9-MNG9Su",
        "outputId": "88db9e4e-3c0d-4cc6-86ef-bf1e1e6fa655"
      },
      "execution_count": 19,
      "outputs": [
        {
          "output_type": "display_data",
          "data": {
            "text/plain": [
              "<Figure size 720x360 with 1 Axes>"
            ],
            "image/png": "[encoded data removed]"
          },
          "metadata": {
            "needs_background": "light"
          }
        }
      ]
    },
    {
      "cell_type": "code",
      "source": [
        "###### Check spam wise how many characters, words and sentces are being used ######\n",
        "df.loc[df.loc[:, 'Category'] == 'spam', :].describe()"
      ],
      "metadata": {
        "colab": {
          "base_uri": "https://localhost:8080/",
          "height": 300
        },
        "id": "TXqWlOU6ECml",
        "outputId": "971bc0ae-f76a-4ce7-98f4-c4ff42e6b148"
      },
      "execution_count": 20,
      "outputs": [
        {
          "output_type": "execute_result",
          "data": {
            "text/plain": [
              "       number_char  num_sentence    num_word\n",
              "count   641.000000    641.000000  641.000000\n",
              "mean    137.118565      2.967239   27.667707\n",
              "std      30.399707      1.480241    7.103501\n",
              "min       7.000000      1.000000    2.000000\n",
              "25%     130.000000      2.000000   25.000000\n",
              "50%     148.000000      3.000000   29.000000\n",
              "75%     157.000000      4.000000   32.000000\n",
              "max     223.000000      8.000000   46.000000"
            ],
            "text/html": [
              "\n",
              "  <div id=\"df-3e30ced2-41ca-4d06-84b6-595e40bd0035\">\n",
              "    <div class=\"colab-df-container\">\n",
              "      <div>\n",
              "<style scoped>\n",
              "    .dataframe tbody tr th:only-of-type {\n",
              "        vertical-align: middle;\n",
              "    }\n",
              "\n",
              "    .dataframe tbody tr th {\n",
              "        vertical-align: top;\n",
              "    }\n",
              "\n",
              "    .dataframe thead th {\n",
              "        text-align: right;\n",
              "    }\n",
              "</style>\n",
              "<table border=\"1\" class=\"dataframe\">\n",
              "  <thead>\n",
              "    <tr style=\"text-align: right;\">\n",
              "      <th></th>\n",
              "      <th>number_char</th>\n",
              "      <th>num_sentence</th>\n",
              "      <th>num_word</th>\n",
              "    </tr>\n",
              "  </thead>\n",
              "  <tbody>\n",
              "    <tr>\n",
              "      <th>count</th>\n",
              "      <td>641.000000</td>\n",
              "      <td>641.000000</td>\n",
              "      <td>641.000000</td>\n",
              "    </tr>\n",
              "    <tr>\n",
              "      <th>mean</th>\n",
              "      <td>137.118565</td>\n",
              "      <td>2.967239</td>\n",
              "      <td>27.667707</td>\n",
              "    </tr>\n",
              "    <tr>\n",
              "      <th>std</th>\n",
              "      <td>30.399707</td>\n",
              "      <td>1.480241</td>\n",
              "      <td>7.103501</td>\n",
              "    </tr>\n",
              "    <tr>\n",
              "      <th>min</th>\n",
              "      <td>7.000000</td>\n",
              "      <td>1.000000</td>\n",
              "      <td>2.000000</td>\n",
              "    </tr>\n",
              "    <tr>\n",
              "      <th>25%</th>\n",
              "      <td>130.000000</td>\n",
              "      <td>2.000000</td>\n",
              "      <td>25.000000</td>\n",
              "    </tr>\n",
              "    <tr>\n",
              "      <th>50%</th>\n",
              "      <td>148.000000</td>\n",
              "      <td>3.000000</td>\n",
              "      <td>29.000000</td>\n",
              "    </tr>\n",
              "    <tr>\n",
              "      <th>75%</th>\n",
              "      <td>157.000000</td>\n",
              "      <td>4.000000</td>\n",
              "      <td>32.000000</td>\n",
              "    </tr>\n",
              "    <tr>\n",
              "      <th>max</th>\n",
              "      <td>223.000000</td>\n",
              "      <td>8.000000</td>\n",
              "      <td>46.000000</td>\n",
              "    </tr>\n",
              "  </tbody>\n",
              "</table>\n",
              "</div>\n",
              "      <button class=\"colab-df-convert\" onclick=\"convertToInteractive('df-3e30ced2-41ca-4d06-84b6-595e40bd0035')\"\n",
              "              title=\"Convert this dataframe to an interactive table.\"\n",
              "              style=\"display:none;\">\n",
              "        \n",
              "  <svg xmlns=\"http://www.w3.org/2000/svg\" height=\"24px\"viewBox=\"0 0 24 24\"\n",
              "       width=\"24px\">\n",
              "    <path d=\"M0 0h24v24H0V0z\" fill=\"none\"/>\n",
              "    <path d=\"M18.56 5.44l.94 2.06.94-2.06 2.06-.94-2.06-.94-.94-2.06-.94 2.06-2.06.94zm-11 1L8.5 8.5l.94-2.06 2.06-.94-2.06-.94L8.5 2.5l-.94 2.06-2.06.94zm10 10l.94 2.06.94-2.06 2.06-.94-2.06-.94-.94-2.06-.94 2.06-2.06.94z\"/><path d=\"M17.41 7.96l-1.37-1.37c-.4-.4-.92-.59-1.43-.59-.52 0-1.04.2-1.43.59L10.3 9.45l-7.72 7.72c-.78.78-.78 2.05 0 2.83L4 21.41c.39.39.9.59 1.41.59.51 0 1.02-.2 1.41-.59l7.78-7.78 2.81-2.81c.8-.78.8-2.07 0-2.86zM5.41 20L4 18.59l7.72-7.72 1.47 1.35L5.41 20z\"/>\n",
              "  </svg>\n",
              "      </button>\n",
              "      \n",
              "  <style>\n",
              "    .colab-df-container {\n",
              "      display:flex;\n",
              "      flex-wrap:wrap;\n",
              "      gap: 12px;\n",
              "    }\n",
              "\n",
              "    .colab-df-convert {\n",
              "      background-color: #E8F0FE;\n",
              "      border: none;\n",
              "      border-radius: 50%;\n",
              "      cursor: pointer;\n",
              "      display: none;\n",
              "      fill: #1967D2;\n",
              "      height: 32px;\n",
              "      padding: 0 0 0 0;\n",
              "      width: 32px;\n",
              "    }\n",
              "\n",
              "    .colab-df-convert:hover {\n",
              "      background-color: #E2EBFA;\n",
              "      box-shadow: 0px 1px 2px rgba(60, 64, 67, 0.3), 0px 1px 3px 1px rgba(60, 64, 67, 0.15);\n",
              "      fill: #174EA6;\n",
              "    }\n",
              "\n",
              "    [theme=dark] .colab-df-convert {\n",
              "      background-color: #3B4455;\n",
              "      fill: #D2E3FC;\n",
              "    }\n",
              "\n",
              "    [theme=dark] .colab-df-convert:hover {\n",
              "      background-color: #434B5C;\n",
              "      box-shadow: 0px 1px 3px 1px rgba(0, 0, 0, 0.15);\n",
              "      filter: drop-shadow(0px 1px 2px rgba(0, 0, 0, 0.3));\n",
              "      fill: #FFFFFF;\n",
              "    }\n",
              "  </style>\n",
              "\n",
              "      <script>\n",
              "        const buttonEl =\n",
              "          document.querySelector('#df-3e30ced2-41ca-4d06-84b6-595e40bd0035 button.colab-df-convert');\n",
              "        buttonEl.style.display =\n",
              "          google.colab.kernel.accessAllowed ? 'block' : 'none';\n",
              "\n",
              "        async function convertToInteractive(key) {\n",
              "          const element = document.querySelector('#df-3e30ced2-41ca-4d06-84b6-595e40bd0035');\n",
              "          const dataTable =\n",
              "            await google.colab.kernel.invokeFunction('convertToInteractive',\n",
              "                                                     [key], {});\n",
              "          if (!dataTable) return;\n",
              "\n",
              "          const docLinkHtml = 'Like what you see? Visit the ' +\n",
              "            '<a target=\"_blank\" href=https://colab.research.google.com/notebooks/data_table.ipynb>data table notebook</a>'\n",
              "            + ' to learn more about interactive tables.';\n",
              "          element.innerHTML = '';\n",
              "          dataTable['output_type'] = 'display_data';\n",
              "          await google.colab.output.renderOutput(dataTable, element);\n",
              "          const docLink = document.createElement('div');\n",
              "          docLink.innerHTML = docLinkHtml;\n",
              "          element.appendChild(docLink);\n",
              "        }\n",
              "      </script>\n",
              "    </div>\n",
              "  </div>\n",
              "  "
            ]
          },
          "metadata": {},
          "execution_count": 20
        }
      ]
    },
    {
      "cell_type": "code",
      "source": [
        "###### Preprocessing should be started ######\n",
        "df = df.loc[:, ['Message', 'Category']]\n",
        "df.head()"
      ],
      "metadata": {
        "colab": {
          "base_uri": "https://localhost:8080/",
          "height": 206
        },
        "id": "blzZk_sUECpC",
        "outputId": "99e8d8d6-7961-433f-eff6-40b530ef8ab3"
      },
      "execution_count": 21,
      "outputs": [
        {
          "output_type": "execute_result",
          "data": {
            "text/plain": [
              "                                             Message Category\n",
              "0  Go until jurong point, crazy.. Available only ...      ham\n",
              "1                      Ok lar... Joking wif u oni...      ham\n",
              "2  Free entry in 2 a wkly comp to win FA Cup fina...     spam\n",
              "3  U dun say so early hor... U c already then say...      ham\n",
              "4  Nah I don't think he goes to usf, he lives aro...      ham"
            ],
            "text/html": [
              "\n",
              "  <div id=\"df-47865238-f797-4b02-bd02-5c1b281d17ef\">\n",
              "    <div class=\"colab-df-container\">\n",
              "      <div>\n",
              "<style scoped>\n",
              "    .dataframe tbody tr th:only-of-type {\n",
              "        vertical-align: middle;\n",
              "    }\n",
              "\n",
              "    .dataframe tbody tr th {\n",
              "        vertical-align: top;\n",
              "    }\n",
              "\n",
              "    .dataframe thead th {\n",
              "        text-align: right;\n",
              "    }\n",
              "</style>\n",
              "<table border=\"1\" class=\"dataframe\">\n",
              "  <thead>\n",
              "    <tr style=\"text-align: right;\">\n",
              "      <th></th>\n",
              "      <th>Message</th>\n",
              "      <th>Category</th>\n",
              "    </tr>\n",
              "  </thead>\n",
              "  <tbody>\n",
              "    <tr>\n",
              "      <th>0</th>\n",
              "      <td>Go until jurong point, crazy.. Available only ...</td>\n",
              "      <td>ham</td>\n",
              "    </tr>\n",
              "    <tr>\n",
              "      <th>1</th>\n",
              "      <td>Ok lar... Joking wif u oni...</td>\n",
              "      <td>ham</td>\n",
              "    </tr>\n",
              "    <tr>\n",
              "      <th>2</th>\n",
              "      <td>Free entry in 2 a wkly comp to win FA Cup fina...</td>\n",
              "      <td>spam</td>\n",
              "    </tr>\n",
              "    <tr>\n",
              "      <th>3</th>\n",
              "      <td>U dun say so early hor... U c already then say...</td>\n",
              "      <td>ham</td>\n",
              "    </tr>\n",
              "    <tr>\n",
              "      <th>4</th>\n",
              "      <td>Nah I don't think he goes to usf, he lives aro...</td>\n",
              "      <td>ham</td>\n",
              "    </tr>\n",
              "  </tbody>\n",
              "</table>\n",
              "</div>\n",
              "      <button class=\"colab-df-convert\" onclick=\"convertToInteractive('df-47865238-f797-4b02-bd02-5c1b281d17ef')\"\n",
              "              title=\"Convert this dataframe to an interactive table.\"\n",
              "              style=\"display:none;\">\n",
              "        \n",
              "  <svg xmlns=\"http://www.w3.org/2000/svg\" height=\"24px\"viewBox=\"0 0 24 24\"\n",
              "       width=\"24px\">\n",
              "    <path d=\"M0 0h24v24H0V0z\" fill=\"none\"/>\n",
              "    <path d=\"M18.56 5.44l.94 2.06.94-2.06 2.06-.94-2.06-.94-.94-2.06-.94 2.06-2.06.94zm-11 1L8.5 8.5l.94-2.06 2.06-.94-2.06-.94L8.5 2.5l-.94 2.06-2.06.94zm10 10l.94 2.06.94-2.06 2.06-.94-2.06-.94-.94-2.06-.94 2.06-2.06.94z\"/><path d=\"M17.41 7.96l-1.37-1.37c-.4-.4-.92-.59-1.43-.59-.52 0-1.04.2-1.43.59L10.3 9.45l-7.72 7.72c-.78.78-.78 2.05 0 2.83L4 21.41c.39.39.9.59 1.41.59.51 0 1.02-.2 1.41-.59l7.78-7.78 2.81-2.81c.8-.78.8-2.07 0-2.86zM5.41 20L4 18.59l7.72-7.72 1.47 1.35L5.41 20z\"/>\n",
              "  </svg>\n",
              "      </button>\n",
              "      \n",
              "  <style>\n",
              "    .colab-df-container {\n",
              "      display:flex;\n",
              "      flex-wrap:wrap;\n",
              "      gap: 12px;\n",
              "    }\n",
              "\n",
              "    .colab-df-convert {\n",
              "      background-color: #E8F0FE;\n",
              "      border: none;\n",
              "      border-radius: 50%;\n",
              "      cursor: pointer;\n",
              "      display: none;\n",
              "      fill: #1967D2;\n",
              "      height: 32px;\n",
              "      padding: 0 0 0 0;\n",
              "      width: 32px;\n",
              "    }\n",
              "\n",
              "    .colab-df-convert:hover {\n",
              "      background-color: #E2EBFA;\n",
              "      box-shadow: 0px 1px 2px rgba(60, 64, 67, 0.3), 0px 1px 3px 1px rgba(60, 64, 67, 0.15);\n",
              "      fill: #174EA6;\n",
              "    }\n",
              "\n",
              "    [theme=dark] .colab-df-convert {\n",
              "      background-color: #3B4455;\n",
              "      fill: #D2E3FC;\n",
              "    }\n",
              "\n",
              "    [theme=dark] .colab-df-convert:hover {\n",
              "      background-color: #434B5C;\n",
              "      box-shadow: 0px 1px 3px 1px rgba(0, 0, 0, 0.15);\n",
              "      filter: drop-shadow(0px 1px 2px rgba(0, 0, 0, 0.3));\n",
              "      fill: #FFFFFF;\n",
              "    }\n",
              "  </style>\n",
              "\n",
              "      <script>\n",
              "        const buttonEl =\n",
              "          document.querySelector('#df-47865238-f797-4b02-bd02-5c1b281d17ef button.colab-df-convert');\n",
              "        buttonEl.style.display =\n",
              "          google.colab.kernel.accessAllowed ? 'block' : 'none';\n",
              "\n",
              "        async function convertToInteractive(key) {\n",
              "          const element = document.querySelector('#df-47865238-f797-4b02-bd02-5c1b281d17ef');\n",
              "          const dataTable =\n",
              "            await google.colab.kernel.invokeFunction('convertToInteractive',\n",
              "                                                     [key], {});\n",
              "          if (!dataTable) return;\n",
              "\n",
              "          const docLinkHtml = 'Like what you see? Visit the ' +\n",
              "            '<a target=\"_blank\" href=https://colab.research.google.com/notebooks/data_table.ipynb>data table notebook</a>'\n",
              "            + ' to learn more about interactive tables.';\n",
              "          element.innerHTML = '';\n",
              "          dataTable['output_type'] = 'display_data';\n",
              "          await google.colab.output.renderOutput(dataTable, element);\n",
              "          const docLink = document.createElement('div');\n",
              "          docLink.innerHTML = docLinkHtml;\n",
              "          element.appendChild(docLink);\n",
              "        }\n",
              "      </script>\n",
              "    </div>\n",
              "  </div>\n",
              "  "
            ]
          },
          "metadata": {},
          "execution_count": 21
        }
      ]
    },
    {
      "cell_type": "code",
      "source": [
        "####### Lowering the dataset #######\n",
        "df.loc[:, 'Message'] = df.loc[:, 'Message'].apply(lambda x: x.lower())\n",
        "\n",
        "df.head()"
      ],
      "metadata": {
        "colab": {
          "base_uri": "https://localhost:8080/",
          "height": 206
        },
        "id": "NbaiegAUECsp",
        "outputId": "0890babc-b1bd-48c6-e023-63a818ea56d4"
      },
      "execution_count": 22,
      "outputs": [
        {
          "output_type": "execute_result",
          "data": {
            "text/plain": [
              "                                             Message Category\n",
              "0  go until jurong point, crazy.. available only ...      ham\n",
              "1                      ok lar... joking wif u oni...      ham\n",
              "2  free entry in 2 a wkly comp to win fa cup fina...     spam\n",
              "3  u dun say so early hor... u c already then say...      ham\n",
              "4  nah i don't think he goes to usf, he lives aro...      ham"
            ],
            "text/html": [
              "\n",
              "  <div id=\"df-525eb557-dc92-4943-a2df-aae8ff144029\">\n",
              "    <div class=\"colab-df-container\">\n",
              "      <div>\n",
              "<style scoped>\n",
              "    .dataframe tbody tr th:only-of-type {\n",
              "        vertical-align: middle;\n",
              "    }\n",
              "\n",
              "    .dataframe tbody tr th {\n",
              "        vertical-align: top;\n",
              "    }\n",
              "\n",
              "    .dataframe thead th {\n",
              "        text-align: right;\n",
              "    }\n",
              "</style>\n",
              "<table border=\"1\" class=\"dataframe\">\n",
              "  <thead>\n",
              "    <tr style=\"text-align: right;\">\n",
              "      <th></th>\n",
              "      <th>Message</th>\n",
              "      <th>Category</th>\n",
              "    </tr>\n",
              "  </thead>\n",
              "  <tbody>\n",
              "    <tr>\n",
              "      <th>0</th>\n",
              "      <td>go until jurong point, crazy.. available only ...</td>\n",
              "      <td>ham</td>\n",
              "    </tr>\n",
              "    <tr>\n",
              "      <th>1</th>\n",
              "      <td>ok lar... joking wif u oni...</td>\n",
              "      <td>ham</td>\n",
              "    </tr>\n",
              "    <tr>\n",
              "      <th>2</th>\n",
              "      <td>free entry in 2 a wkly comp to win fa cup fina...</td>\n",
              "      <td>spam</td>\n",
              "    </tr>\n",
              "    <tr>\n",
              "      <th>3</th>\n",
              "      <td>u dun say so early hor... u c already then say...</td>\n",
              "      <td>ham</td>\n",
              "    </tr>\n",
              "    <tr>\n",
              "      <th>4</th>\n",
              "      <td>nah i don't think he goes to usf, he lives aro...</td>\n",
              "      <td>ham</td>\n",
              "    </tr>\n",
              "  </tbody>\n",
              "</table>\n",
              "</div>\n",
              "      <button class=\"colab-df-convert\" onclick=\"convertToInteractive('df-525eb557-dc92-4943-a2df-aae8ff144029')\"\n",
              "              title=\"Convert this dataframe to an interactive table.\"\n",
              "              style=\"display:none;\">\n",
              "        \n",
              "  <svg xmlns=\"http://www.w3.org/2000/svg\" height=\"24px\"viewBox=\"0 0 24 24\"\n",
              "       width=\"24px\">\n",
              "    <path d=\"M0 0h24v24H0V0z\" fill=\"none\"/>\n",
              "    <path d=\"M18.56 5.44l.94 2.06.94-2.06 2.06-.94-2.06-.94-.94-2.06-.94 2.06-2.06.94zm-11 1L8.5 8.5l.94-2.06 2.06-.94-2.06-.94L8.5 2.5l-.94 2.06-2.06.94zm10 10l.94 2.06.94-2.06 2.06-.94-2.06-.94-.94-2.06-.94 2.06-2.06.94z\"/><path d=\"M17.41 7.96l-1.37-1.37c-.4-.4-.92-.59-1.43-.59-.52 0-1.04.2-1.43.59L10.3 9.45l-7.72 7.72c-.78.78-.78 2.05 0 2.83L4 21.41c.39.39.9.59 1.41.59.51 0 1.02-.2 1.41-.59l7.78-7.78 2.81-2.81c.8-.78.8-2.07 0-2.86zM5.41 20L4 18.59l7.72-7.72 1.47 1.35L5.41 20z\"/>\n",
              "  </svg>\n",
              "      </button>\n",
              "      \n",
              "  <style>\n",
              "    .colab-df-container {\n",
              "      display:flex;\n",
              "      flex-wrap:wrap;\n",
              "      gap: 12px;\n",
              "    }\n",
              "\n",
              "    .colab-df-convert {\n",
              "      background-color: #E8F0FE;\n",
              "      border: none;\n",
              "      border-radius: 50%;\n",
              "      cursor: pointer;\n",
              "      display: none;\n",
              "      fill: #1967D2;\n",
              "      height: 32px;\n",
              "      padding: 0 0 0 0;\n",
              "      width: 32px;\n",
              "    }\n",
              "\n",
              "    .colab-df-convert:hover {\n",
              "      background-color: #E2EBFA;\n",
              "      box-shadow: 0px 1px 2px rgba(60, 64, 67, 0.3), 0px 1px 3px 1px rgba(60, 64, 67, 0.15);\n",
              "      fill: #174EA6;\n",
              "    }\n",
              "\n",
              "    [theme=dark] .colab-df-convert {\n",
              "      background-color: #3B4455;\n",
              "      fill: #D2E3FC;\n",
              "    }\n",
              "\n",
              "    [theme=dark] .colab-df-convert:hover {\n",
              "      background-color: #434B5C;\n",
              "      box-shadow: 0px 1px 3px 1px rgba(0, 0, 0, 0.15);\n",
              "      filter: drop-shadow(0px 1px 2px rgba(0, 0, 0, 0.3));\n",
              "      fill: #FFFFFF;\n",
              "    }\n",
              "  </style>\n",
              "\n",
              "      <script>\n",
              "        const buttonEl =\n",
              "          document.querySelector('#df-525eb557-dc92-4943-a2df-aae8ff144029 button.colab-df-convert');\n",
              "        buttonEl.style.display =\n",
              "          google.colab.kernel.accessAllowed ? 'block' : 'none';\n",
              "\n",
              "        async function convertToInteractive(key) {\n",
              "          const element = document.querySelector('#df-525eb557-dc92-4943-a2df-aae8ff144029');\n",
              "          const dataTable =\n",
              "            await google.colab.kernel.invokeFunction('convertToInteractive',\n",
              "                                                     [key], {});\n",
              "          if (!dataTable) return;\n",
              "\n",
              "          const docLinkHtml = 'Like what you see? Visit the ' +\n",
              "            '<a target=\"_blank\" href=https://colab.research.google.com/notebooks/data_table.ipynb>data table notebook</a>'\n",
              "            + ' to learn more about interactive tables.';\n",
              "          element.innerHTML = '';\n",
              "          dataTable['output_type'] = 'display_data';\n",
              "          await google.colab.output.renderOutput(dataTable, element);\n",
              "          const docLink = document.createElement('div');\n",
              "          docLink.innerHTML = docLinkHtml;\n",
              "          element.appendChild(docLink);\n",
              "        }\n",
              "      </script>\n",
              "    </div>\n",
              "  </div>\n",
              "  "
            ]
          },
          "metadata": {},
          "execution_count": 22
        }
      ]
    },
    {
      "cell_type": "code",
      "source": [
        "###### Label Encoding in the target column #######\n",
        "df.loc[:, 'Category'] = df.loc[:, 'Category'].map({'ham': 0, 'spam': 1})\n",
        "\n",
        "df.head()"
      ],
      "metadata": {
        "colab": {
          "base_uri": "https://localhost:8080/",
          "height": 206
        },
        "id": "bXO-8OHVH0mR",
        "outputId": "781f0f35-3385-431b-b71d-d87bb78666f9"
      },
      "execution_count": 23,
      "outputs": [
        {
          "output_type": "execute_result",
          "data": {
            "text/plain": [
              "                                             Message  Category\n",
              "0  go until jurong point, crazy.. available only ...         0\n",
              "1                      ok lar... joking wif u oni...         0\n",
              "2  free entry in 2 a wkly comp to win fa cup fina...         1\n",
              "3  u dun say so early hor... u c already then say...         0\n",
              "4  nah i don't think he goes to usf, he lives aro...         0"
            ],
            "text/html": [
              "\n",
              "  <div id=\"df-6d10ac9a-00fb-40ea-835f-c58ea8ce708c\">\n",
              "    <div class=\"colab-df-container\">\n",
              "      <div>\n",
              "<style scoped>\n",
              "    .dataframe tbody tr th:only-of-type {\n",
              "        vertical-align: middle;\n",
              "    }\n",
              "\n",
              "    .dataframe tbody tr th {\n",
              "        vertical-align: top;\n",
              "    }\n",
              "\n",
              "    .dataframe thead th {\n",
              "        text-align: right;\n",
              "    }\n",
              "</style>\n",
              "<table border=\"1\" class=\"dataframe\">\n",
              "  <thead>\n",
              "    <tr style=\"text-align: right;\">\n",
              "      <th></th>\n",
              "      <th>Message</th>\n",
              "      <th>Category</th>\n",
              "    </tr>\n",
              "  </thead>\n",
              "  <tbody>\n",
              "    <tr>\n",
              "      <th>0</th>\n",
              "      <td>go until jurong point, crazy.. available only ...</td>\n",
              "      <td>0</td>\n",
              "    </tr>\n",
              "    <tr>\n",
              "      <th>1</th>\n",
              "      <td>ok lar... joking wif u oni...</td>\n",
              "      <td>0</td>\n",
              "    </tr>\n",
              "    <tr>\n",
              "      <th>2</th>\n",
              "      <td>free entry in 2 a wkly comp to win fa cup fina...</td>\n",
              "      <td>1</td>\n",
              "    </tr>\n",
              "    <tr>\n",
              "      <th>3</th>\n",
              "      <td>u dun say so early hor... u c already then say...</td>\n",
              "      <td>0</td>\n",
              "    </tr>\n",
              "    <tr>\n",
              "      <th>4</th>\n",
              "      <td>nah i don't think he goes to usf, he lives aro...</td>\n",
              "      <td>0</td>\n",
              "    </tr>\n",
              "  </tbody>\n",
              "</table>\n",
              "</div>\n",
              "      <button class=\"colab-df-convert\" onclick=\"convertToInteractive('df-6d10ac9a-00fb-40ea-835f-c58ea8ce708c')\"\n",
              "              title=\"Convert this dataframe to an interactive table.\"\n",
              "              style=\"display:none;\">\n",
              "        \n",
              "  <svg xmlns=\"http://www.w3.org/2000/svg\" height=\"24px\"viewBox=\"0 0 24 24\"\n",
              "       width=\"24px\">\n",
              "    <path d=\"M0 0h24v24H0V0z\" fill=\"none\"/>\n",
              "    <path d=\"M18.56 5.44l.94 2.06.94-2.06 2.06-.94-2.06-.94-.94-2.06-.94 2.06-2.06.94zm-11 1L8.5 8.5l.94-2.06 2.06-.94-2.06-.94L8.5 2.5l-.94 2.06-2.06.94zm10 10l.94 2.06.94-2.06 2.06-.94-2.06-.94-.94-2.06-.94 2.06-2.06.94z\"/><path d=\"M17.41 7.96l-1.37-1.37c-.4-.4-.92-.59-1.43-.59-.52 0-1.04.2-1.43.59L10.3 9.45l-7.72 7.72c-.78.78-.78 2.05 0 2.83L4 21.41c.39.39.9.59 1.41.59.51 0 1.02-.2 1.41-.59l7.78-7.78 2.81-2.81c.8-.78.8-2.07 0-2.86zM5.41 20L4 18.59l7.72-7.72 1.47 1.35L5.41 20z\"/>\n",
              "  </svg>\n",
              "      </button>\n",
              "      \n",
              "  <style>\n",
              "    .colab-df-container {\n",
              "      display:flex;\n",
              "      flex-wrap:wrap;\n",
              "      gap: 12px;\n",
              "    }\n",
              "\n",
              "    .colab-df-convert {\n",
              "      background-color: #E8F0FE;\n",
              "      border: none;\n",
              "      border-radius: 50%;\n",
              "      cursor: pointer;\n",
              "      display: none;\n",
              "      fill: #1967D2;\n",
              "      height: 32px;\n",
              "      padding: 0 0 0 0;\n",
              "      width: 32px;\n",
              "    }\n",
              "\n",
              "    .colab-df-convert:hover {\n",
              "      background-color: #E2EBFA;\n",
              "      box-shadow: 0px 1px 2px rgba(60, 64, 67, 0.3), 0px 1px 3px 1px rgba(60, 64, 67, 0.15);\n",
              "      fill: #174EA6;\n",
              "    }\n",
              "\n",
              "    [theme=dark] .colab-df-convert {\n",
              "      background-color: #3B4455;\n",
              "      fill: #D2E3FC;\n",
              "    }\n",
              "\n",
              "    [theme=dark] .colab-df-convert:hover {\n",
              "      background-color: #434B5C;\n",
              "      box-shadow: 0px 1px 3px 1px rgba(0, 0, 0, 0.15);\n",
              "      filter: drop-shadow(0px 1px 2px rgba(0, 0, 0, 0.3));\n",
              "      fill: #FFFFFF;\n",
              "    }\n",
              "  </style>\n",
              "\n",
              "      <script>\n",
              "        const buttonEl =\n",
              "          document.querySelector('#df-6d10ac9a-00fb-40ea-835f-c58ea8ce708c button.colab-df-convert');\n",
              "        buttonEl.style.display =\n",
              "          google.colab.kernel.accessAllowed ? 'block' : 'none';\n",
              "\n",
              "        async function convertToInteractive(key) {\n",
              "          const element = document.querySelector('#df-6d10ac9a-00fb-40ea-835f-c58ea8ce708c');\n",
              "          const dataTable =\n",
              "            await google.colab.kernel.invokeFunction('convertToInteractive',\n",
              "                                                     [key], {});\n",
              "          if (!dataTable) return;\n",
              "\n",
              "          const docLinkHtml = 'Like what you see? Visit the ' +\n",
              "            '<a target=\"_blank\" href=https://colab.research.google.com/notebooks/data_table.ipynb>data table notebook</a>'\n",
              "            + ' to learn more about interactive tables.';\n",
              "          element.innerHTML = '';\n",
              "          dataTable['output_type'] = 'display_data';\n",
              "          await google.colab.output.renderOutput(dataTable, element);\n",
              "          const docLink = document.createElement('div');\n",
              "          docLink.innerHTML = docLinkHtml;\n",
              "          element.appendChild(docLink);\n",
              "        }\n",
              "      </script>\n",
              "    </div>\n",
              "  </div>\n",
              "  "
            ]
          },
          "metadata": {},
          "execution_count": 23
        }
      ]
    },
    {
      "cell_type": "code",
      "source": [
        "###### Remove all unnecssay tagline from the dataset ######\n",
        "def removeTag(eachRow_):\n",
        "  clean_text_ =  re.sub(re.compile('[^a-zA-Z]'), ' ', eachRow_)\n",
        "  return clean_text_\n",
        "\n",
        "df.loc[:, 'Message'] = df.loc[:, 'Message'].apply(removeTag)\n",
        "\n",
        "df.head()"
      ],
      "metadata": {
        "colab": {
          "base_uri": "https://localhost:8080/",
          "height": 206
        },
        "id": "wY0tM5meIEyC",
        "outputId": "e86e0529-3367-4494-ef1c-9b9a6edefa30"
      },
      "execution_count": 24,
      "outputs": [
        {
          "output_type": "execute_result",
          "data": {
            "text/plain": [
              "                                             Message  Category\n",
              "0  go until jurong point  crazy   available only ...         0\n",
              "1                      ok lar    joking wif u oni            0\n",
              "2  free entry in   a wkly comp to win fa cup fina...         1\n",
              "3  u dun say so early hor    u c already then say            0\n",
              "4  nah i don t think he goes to usf  he lives aro...         0"
            ],
            "text/html": [
              "\n",
              "  <div id=\"df-85408409-b2a2-4903-8ce5-890a96c597f2\">\n",
              "    <div class=\"colab-df-container\">\n",
              "      <div>\n",
              "<style scoped>\n",
              "    .dataframe tbody tr th:only-of-type {\n",
              "        vertical-align: middle;\n",
              "    }\n",
              "\n",
              "    .dataframe tbody tr th {\n",
              "        vertical-align: top;\n",
              "    }\n",
              "\n",
              "    .dataframe thead th {\n",
              "        text-align: right;\n",
              "    }\n",
              "</style>\n",
              "<table border=\"1\" class=\"dataframe\">\n",
              "  <thead>\n",
              "    <tr style=\"text-align: right;\">\n",
              "      <th></th>\n",
              "      <th>Message</th>\n",
              "      <th>Category</th>\n",
              "    </tr>\n",
              "  </thead>\n",
              "  <tbody>\n",
              "    <tr>\n",
              "      <th>0</th>\n",
              "      <td>go until jurong point  crazy   available only ...</td>\n",
              "      <td>0</td>\n",
              "    </tr>\n",
              "    <tr>\n",
              "      <th>1</th>\n",
              "      <td>ok lar    joking wif u oni</td>\n",
              "      <td>0</td>\n",
              "    </tr>\n",
              "    <tr>\n",
              "      <th>2</th>\n",
              "      <td>free entry in   a wkly comp to win fa cup fina...</td>\n",
              "      <td>1</td>\n",
              "    </tr>\n",
              "    <tr>\n",
              "      <th>3</th>\n",
              "      <td>u dun say so early hor    u c already then say</td>\n",
              "      <td>0</td>\n",
              "    </tr>\n",
              "    <tr>\n",
              "      <th>4</th>\n",
              "      <td>nah i don t think he goes to usf  he lives aro...</td>\n",
              "      <td>0</td>\n",
              "    </tr>\n",
              "  </tbody>\n",
              "</table>\n",
              "</div>\n",
              "      <button class=\"colab-df-convert\" onclick=\"convertToInteractive('df-85408409-b2a2-4903-8ce5-890a96c597f2')\"\n",
              "              title=\"Convert this dataframe to an interactive table.\"\n",
              "              style=\"display:none;\">\n",
              "        \n",
              "  <svg xmlns=\"http://www.w3.org/2000/svg\" height=\"24px\"viewBox=\"0 0 24 24\"\n",
              "       width=\"24px\">\n",
              "    <path d=\"M0 0h24v24H0V0z\" fill=\"none\"/>\n",
              "    <path d=\"M18.56 5.44l.94 2.06.94-2.06 2.06-.94-2.06-.94-.94-2.06-.94 2.06-2.06.94zm-11 1L8.5 8.5l.94-2.06 2.06-.94-2.06-.94L8.5 2.5l-.94 2.06-2.06.94zm10 10l.94 2.06.94-2.06 2.06-.94-2.06-.94-.94-2.06-.94 2.06-2.06.94z\"/><path d=\"M17.41 7.96l-1.37-1.37c-.4-.4-.92-.59-1.43-.59-.52 0-1.04.2-1.43.59L10.3 9.45l-7.72 7.72c-.78.78-.78 2.05 0 2.83L4 21.41c.39.39.9.59 1.41.59.51 0 1.02-.2 1.41-.59l7.78-7.78 2.81-2.81c.8-.78.8-2.07 0-2.86zM5.41 20L4 18.59l7.72-7.72 1.47 1.35L5.41 20z\"/>\n",
              "  </svg>\n",
              "      </button>\n",
              "      \n",
              "  <style>\n",
              "    .colab-df-container {\n",
              "      display:flex;\n",
              "      flex-wrap:wrap;\n",
              "      gap: 12px;\n",
              "    }\n",
              "\n",
              "    .colab-df-convert {\n",
              "      background-color: #E8F0FE;\n",
              "      border: none;\n",
              "      border-radius: 50%;\n",
              "      cursor: pointer;\n",
              "      display: none;\n",
              "      fill: #1967D2;\n",
              "      height: 32px;\n",
              "      padding: 0 0 0 0;\n",
              "      width: 32px;\n",
              "    }\n",
              "\n",
              "    .colab-df-convert:hover {\n",
              "      background-color: #E2EBFA;\n",
              "      box-shadow: 0px 1px 2px rgba(60, 64, 67, 0.3), 0px 1px 3px 1px rgba(60, 64, 67, 0.15);\n",
              "      fill: #174EA6;\n",
              "    }\n",
              "\n",
              "    [theme=dark] .colab-df-convert {\n",
              "      background-color: #3B4455;\n",
              "      fill: #D2E3FC;\n",
              "    }\n",
              "\n",
              "    [theme=dark] .colab-df-convert:hover {\n",
              "      background-color: #434B5C;\n",
              "      box-shadow: 0px 1px 3px 1px rgba(0, 0, 0, 0.15);\n",
              "      filter: drop-shadow(0px 1px 2px rgba(0, 0, 0, 0.3));\n",
              "      fill: #FFFFFF;\n",
              "    }\n",
              "  </style>\n",
              "\n",
              "      <script>\n",
              "        const buttonEl =\n",
              "          document.querySelector('#df-85408409-b2a2-4903-8ce5-890a96c597f2 button.colab-df-convert');\n",
              "        buttonEl.style.display =\n",
              "          google.colab.kernel.accessAllowed ? 'block' : 'none';\n",
              "\n",
              "        async function convertToInteractive(key) {\n",
              "          const element = document.querySelector('#df-85408409-b2a2-4903-8ce5-890a96c597f2');\n",
              "          const dataTable =\n",
              "            await google.colab.kernel.invokeFunction('convertToInteractive',\n",
              "                                                     [key], {});\n",
              "          if (!dataTable) return;\n",
              "\n",
              "          const docLinkHtml = 'Like what you see? Visit the ' +\n",
              "            '<a target=\"_blank\" href=https://colab.research.google.com/notebooks/data_table.ipynb>data table notebook</a>'\n",
              "            + ' to learn more about interactive tables.';\n",
              "          element.innerHTML = '';\n",
              "          dataTable['output_type'] = 'display_data';\n",
              "          await google.colab.output.renderOutput(dataTable, element);\n",
              "          const docLink = document.createElement('div');\n",
              "          docLink.innerHTML = docLinkHtml;\n",
              "          element.appendChild(docLink);\n",
              "        }\n",
              "      </script>\n",
              "    </div>\n",
              "  </div>\n",
              "  "
            ]
          },
          "metadata": {},
          "execution_count": 24
        }
      ]
    },
    {
      "cell_type": "code",
      "source": [
        "###### Remove the stopwords ######\n",
        "def remove_stopwords(eachRecord_):\n",
        "  cleaned_text_ = []\n",
        "\n",
        "  for word_ in word_tokenize(eachRecord_):\n",
        "    if word_ in stopwords.words('english'):\n",
        "      pass\n",
        "    else:\n",
        "      cleaned_text_.append(word_)\n",
        "  \n",
        "  return ' '.join(cleaned_text_)\n",
        "\n",
        "df.loc[:, 'Message'] = df.loc[:, 'Message'].apply(remove_stopwords)\n",
        "print(\"Stopwords have been deleted from the dataset.\")\n",
        "\n",
        "df.head()"
      ],
      "metadata": {
        "colab": {
          "base_uri": "https://localhost:8080/",
          "height": 223
        },
        "id": "_53p1V9PIkv2",
        "outputId": "e53923d2-90a2-4dfb-bfaf-758ec139d3ab"
      },
      "execution_count": 25,
      "outputs": [
        {
          "output_type": "stream",
          "name": "stdout",
          "text": [
            "Stopwords have been deleted from the dataset.\n"
          ]
        },
        {
          "output_type": "execute_result",
          "data": {
            "text/plain": [
              "                                             Message  Category\n",
              "0  go jurong point crazy available bugis n great ...         0\n",
              "1                            ok lar joking wif u oni         0\n",
              "2  free entry wkly comp win fa cup final tkts st ...         1\n",
              "3                u dun say early hor u c already say         0\n",
              "4             nah think goes usf lives around though         0"
            ],
            "text/html": [
              "\n",
              "  <div id=\"df-6a438bf7-5f8c-42c3-bf0e-9c3e662a3ada\">\n",
              "    <div class=\"colab-df-container\">\n",
              "      <div>\n",
              "<style scoped>\n",
              "    .dataframe tbody tr th:only-of-type {\n",
              "        vertical-align: middle;\n",
              "    }\n",
              "\n",
              "    .dataframe tbody tr th {\n",
              "        vertical-align: top;\n",
              "    }\n",
              "\n",
              "    .dataframe thead th {\n",
              "        text-align: right;\n",
              "    }\n",
              "</style>\n",
              "<table border=\"1\" class=\"dataframe\">\n",
              "  <thead>\n",
              "    <tr style=\"text-align: right;\">\n",
              "      <th></th>\n",
              "      <th>Message</th>\n",
              "      <th>Category</th>\n",
              "    </tr>\n",
              "  </thead>\n",
              "  <tbody>\n",
              "    <tr>\n",
              "      <th>0</th>\n",
              "      <td>go jurong point crazy available bugis n great ...</td>\n",
              "      <td>0</td>\n",
              "    </tr>\n",
              "    <tr>\n",
              "      <th>1</th>\n",
              "      <td>ok lar joking wif u oni</td>\n",
              "      <td>0</td>\n",
              "    </tr>\n",
              "    <tr>\n",
              "      <th>2</th>\n",
              "      <td>free entry wkly comp win fa cup final tkts st ...</td>\n",
              "      <td>1</td>\n",
              "    </tr>\n",
              "    <tr>\n",
              "      <th>3</th>\n",
              "      <td>u dun say early hor u c already say</td>\n",
              "      <td>0</td>\n",
              "    </tr>\n",
              "    <tr>\n",
              "      <th>4</th>\n",
              "      <td>nah think goes usf lives around though</td>\n",
              "      <td>0</td>\n",
              "    </tr>\n",
              "  </tbody>\n",
              "</table>\n",
              "</div>\n",
              "      <button class=\"colab-df-convert\" onclick=\"convertToInteractive('df-6a438bf7-5f8c-42c3-bf0e-9c3e662a3ada')\"\n",
              "              title=\"Convert this dataframe to an interactive table.\"\n",
              "              style=\"display:none;\">\n",
              "        \n",
              "  <svg xmlns=\"http://www.w3.org/2000/svg\" height=\"24px\"viewBox=\"0 0 24 24\"\n",
              "       width=\"24px\">\n",
              "    <path d=\"M0 0h24v24H0V0z\" fill=\"none\"/>\n",
              "    <path d=\"M18.56 5.44l.94 2.06.94-2.06 2.06-.94-2.06-.94-.94-2.06-.94 2.06-2.06.94zm-11 1L8.5 8.5l.94-2.06 2.06-.94-2.06-.94L8.5 2.5l-.94 2.06-2.06.94zm10 10l.94 2.06.94-2.06 2.06-.94-2.06-.94-.94-2.06-.94 2.06-2.06.94z\"/><path d=\"M17.41 7.96l-1.37-1.37c-.4-.4-.92-.59-1.43-.59-.52 0-1.04.2-1.43.59L10.3 9.45l-7.72 7.72c-.78.78-.78 2.05 0 2.83L4 21.41c.39.39.9.59 1.41.59.51 0 1.02-.2 1.41-.59l7.78-7.78 2.81-2.81c.8-.78.8-2.07 0-2.86zM5.41 20L4 18.59l7.72-7.72 1.47 1.35L5.41 20z\"/>\n",
              "  </svg>\n",
              "      </button>\n",
              "      \n",
              "  <style>\n",
              "    .colab-df-container {\n",
              "      display:flex;\n",
              "      flex-wrap:wrap;\n",
              "      gap: 12px;\n",
              "    }\n",
              "\n",
              "    .colab-df-convert {\n",
              "      background-color: #E8F0FE;\n",
              "      border: none;\n",
              "      border-radius: 50%;\n",
              "      cursor: pointer;\n",
              "      display: none;\n",
              "      fill: #1967D2;\n",
              "      height: 32px;\n",
              "      padding: 0 0 0 0;\n",
              "      width: 32px;\n",
              "    }\n",
              "\n",
              "    .colab-df-convert:hover {\n",
              "      background-color: #E2EBFA;\n",
              "      box-shadow: 0px 1px 2px rgba(60, 64, 67, 0.3), 0px 1px 3px 1px rgba(60, 64, 67, 0.15);\n",
              "      fill: #174EA6;\n",
              "    }\n",
              "\n",
              "    [theme=dark] .colab-df-convert {\n",
              "      background-color: #3B4455;\n",
              "      fill: #D2E3FC;\n",
              "    }\n",
              "\n",
              "    [theme=dark] .colab-df-convert:hover {\n",
              "      background-color: #434B5C;\n",
              "      box-shadow: 0px 1px 3px 1px rgba(0, 0, 0, 0.15);\n",
              "      filter: drop-shadow(0px 1px 2px rgba(0, 0, 0, 0.3));\n",
              "      fill: #FFFFFF;\n",
              "    }\n",
              "  </style>\n",
              "\n",
              "      <script>\n",
              "        const buttonEl =\n",
              "          document.querySelector('#df-6a438bf7-5f8c-42c3-bf0e-9c3e662a3ada button.colab-df-convert');\n",
              "        buttonEl.style.display =\n",
              "          google.colab.kernel.accessAllowed ? 'block' : 'none';\n",
              "\n",
              "        async function convertToInteractive(key) {\n",
              "          const element = document.querySelector('#df-6a438bf7-5f8c-42c3-bf0e-9c3e662a3ada');\n",
              "          const dataTable =\n",
              "            await google.colab.kernel.invokeFunction('convertToInteractive',\n",
              "                                                     [key], {});\n",
              "          if (!dataTable) return;\n",
              "\n",
              "          const docLinkHtml = 'Like what you see? Visit the ' +\n",
              "            '<a target=\"_blank\" href=https://colab.research.google.com/notebooks/data_table.ipynb>data table notebook</a>'\n",
              "            + ' to learn more about interactive tables.';\n",
              "          element.innerHTML = '';\n",
              "          dataTable['output_type'] = 'display_data';\n",
              "          await google.colab.output.renderOutput(dataTable, element);\n",
              "          const docLink = document.createElement('div');\n",
              "          docLink.innerHTML = docLinkHtml;\n",
              "          element.appendChild(docLink);\n",
              "        }\n",
              "      </script>\n",
              "    </div>\n",
              "  </div>\n",
              "  "
            ]
          },
          "metadata": {},
          "execution_count": 25
        }
      ]
    },
    {
      "cell_type": "code",
      "source": [
        "###### Using Stemming in this dataset #######\n",
        "PorterStemmer_ = PorterStemmer()\n",
        "def stemming(eachRecord_):\n",
        "  cleaned_text_ = []\n",
        "\n",
        "  for word_ in word_tokenize(eachRecord_):\n",
        "    cleaned_text_.append(PorterStemmer_.stem(word_))\n",
        "\n",
        "  return ' '.join(cleaned_text_)\n",
        "\n",
        "df.loc[:, 'Message'] = df.loc[:, 'Message'].apply(stemming)\n",
        "\n",
        "df.head()"
      ],
      "metadata": {
        "colab": {
          "base_uri": "https://localhost:8080/",
          "height": 206
        },
        "id": "8T9x8tC2Ikza",
        "outputId": "079d4efc-ce02-4f38-e140-68b3301941c2"
      },
      "execution_count": 26,
      "outputs": [
        {
          "output_type": "execute_result",
          "data": {
            "text/plain": [
              "                                             Message  Category\n",
              "0  go jurong point crazi avail bugi n great world...         0\n",
              "1                              ok lar joke wif u oni         0\n",
              "2  free entri wkli comp win fa cup final tkt st m...         1\n",
              "3                u dun say earli hor u c alreadi say         0\n",
              "4               nah think goe usf live around though         0"
            ],
            "text/html": [
              "\n",
              "  <div id=\"df-c674ae44-6cba-4473-b2c8-c7a59797e293\">\n",
              "    <div class=\"colab-df-container\">\n",
              "      <div>\n",
              "<style scoped>\n",
              "    .dataframe tbody tr th:only-of-type {\n",
              "        vertical-align: middle;\n",
              "    }\n",
              "\n",
              "    .dataframe tbody tr th {\n",
              "        vertical-align: top;\n",
              "    }\n",
              "\n",
              "    .dataframe thead th {\n",
              "        text-align: right;\n",
              "    }\n",
              "</style>\n",
              "<table border=\"1\" class=\"dataframe\">\n",
              "  <thead>\n",
              "    <tr style=\"text-align: right;\">\n",
              "      <th></th>\n",
              "      <th>Message</th>\n",
              "      <th>Category</th>\n",
              "    </tr>\n",
              "  </thead>\n",
              "  <tbody>\n",
              "    <tr>\n",
              "      <th>0</th>\n",
              "      <td>go jurong point crazi avail bugi n great world...</td>\n",
              "      <td>0</td>\n",
              "    </tr>\n",
              "    <tr>\n",
              "      <th>1</th>\n",
              "      <td>ok lar joke wif u oni</td>\n",
              "      <td>0</td>\n",
              "    </tr>\n",
              "    <tr>\n",
              "      <th>2</th>\n",
              "      <td>free entri wkli comp win fa cup final tkt st m...</td>\n",
              "      <td>1</td>\n",
              "    </tr>\n",
              "    <tr>\n",
              "      <th>3</th>\n",
              "      <td>u dun say earli hor u c alreadi say</td>\n",
              "      <td>0</td>\n",
              "    </tr>\n",
              "    <tr>\n",
              "      <th>4</th>\n",
              "      <td>nah think goe usf live around though</td>\n",
              "      <td>0</td>\n",
              "    </tr>\n",
              "  </tbody>\n",
              "</table>\n",
              "</div>\n",
              "      <button class=\"colab-df-convert\" onclick=\"convertToInteractive('df-c674ae44-6cba-4473-b2c8-c7a59797e293')\"\n",
              "              title=\"Convert this dataframe to an interactive table.\"\n",
              "              style=\"display:none;\">\n",
              "        \n",
              "  <svg xmlns=\"http://www.w3.org/2000/svg\" height=\"24px\"viewBox=\"0 0 24 24\"\n",
              "       width=\"24px\">\n",
              "    <path d=\"M0 0h24v24H0V0z\" fill=\"none\"/>\n",
              "    <path d=\"M18.56 5.44l.94 2.06.94-2.06 2.06-.94-2.06-.94-.94-2.06-.94 2.06-2.06.94zm-11 1L8.5 8.5l.94-2.06 2.06-.94-2.06-.94L8.5 2.5l-.94 2.06-2.06.94zm10 10l.94 2.06.94-2.06 2.06-.94-2.06-.94-.94-2.06-.94 2.06-2.06.94z\"/><path d=\"M17.41 7.96l-1.37-1.37c-.4-.4-.92-.59-1.43-.59-.52 0-1.04.2-1.43.59L10.3 9.45l-7.72 7.72c-.78.78-.78 2.05 0 2.83L4 21.41c.39.39.9.59 1.41.59.51 0 1.02-.2 1.41-.59l7.78-7.78 2.81-2.81c.8-.78.8-2.07 0-2.86zM5.41 20L4 18.59l7.72-7.72 1.47 1.35L5.41 20z\"/>\n",
              "  </svg>\n",
              "      </button>\n",
              "      \n",
              "  <style>\n",
              "    .colab-df-container {\n",
              "      display:flex;\n",
              "      flex-wrap:wrap;\n",
              "      gap: 12px;\n",
              "    }\n",
              "\n",
              "    .colab-df-convert {\n",
              "      background-color: #E8F0FE;\n",
              "      border: none;\n",
              "      border-radius: 50%;\n",
              "      cursor: pointer;\n",
              "      display: none;\n",
              "      fill: #1967D2;\n",
              "      height: 32px;\n",
              "      padding: 0 0 0 0;\n",
              "      width: 32px;\n",
              "    }\n",
              "\n",
              "    .colab-df-convert:hover {\n",
              "      background-color: #E2EBFA;\n",
              "      box-shadow: 0px 1px 2px rgba(60, 64, 67, 0.3), 0px 1px 3px 1px rgba(60, 64, 67, 0.15);\n",
              "      fill: #174EA6;\n",
              "    }\n",
              "\n",
              "    [theme=dark] .colab-df-convert {\n",
              "      background-color: #3B4455;\n",
              "      fill: #D2E3FC;\n",
              "    }\n",
              "\n",
              "    [theme=dark] .colab-df-convert:hover {\n",
              "      background-color: #434B5C;\n",
              "      box-shadow: 0px 1px 3px 1px rgba(0, 0, 0, 0.15);\n",
              "      filter: drop-shadow(0px 1px 2px rgba(0, 0, 0, 0.3));\n",
              "      fill: #FFFFFF;\n",
              "    }\n",
              "  </style>\n",
              "\n",
              "      <script>\n",
              "        const buttonEl =\n",
              "          document.querySelector('#df-c674ae44-6cba-4473-b2c8-c7a59797e293 button.colab-df-convert');\n",
              "        buttonEl.style.display =\n",
              "          google.colab.kernel.accessAllowed ? 'block' : 'none';\n",
              "\n",
              "        async function convertToInteractive(key) {\n",
              "          const element = document.querySelector('#df-c674ae44-6cba-4473-b2c8-c7a59797e293');\n",
              "          const dataTable =\n",
              "            await google.colab.kernel.invokeFunction('convertToInteractive',\n",
              "                                                     [key], {});\n",
              "          if (!dataTable) return;\n",
              "\n",
              "          const docLinkHtml = 'Like what you see? Visit the ' +\n",
              "            '<a target=\"_blank\" href=https://colab.research.google.com/notebooks/data_table.ipynb>data table notebook</a>'\n",
              "            + ' to learn more about interactive tables.';\n",
              "          element.innerHTML = '';\n",
              "          dataTable['output_type'] = 'display_data';\n",
              "          await google.colab.output.renderOutput(dataTable, element);\n",
              "          const docLink = document.createElement('div');\n",
              "          docLink.innerHTML = docLinkHtml;\n",
              "          element.appendChild(docLink);\n",
              "        }\n",
              "      </script>\n",
              "    </div>\n",
              "  </div>\n",
              "  "
            ]
          },
          "metadata": {},
          "execution_count": 26
        }
      ]
    },
    {
      "cell_type": "code",
      "source": [
        "###### Split the dataset into X and Y ######\n",
        "X = df.loc[:, 'Message']\n",
        "y = df.loc[:, 'Category']\n",
        "\n",
        "X_train, X_test, y_train, y_test = train_test_split(X, y, test_size = 0.25, random_state = 42) \n",
        "\n",
        "print(\"X_train shape is: \", X_train.shape, '\\n')\n",
        "print(\"y_train shape is: \", y_train.shape, '\\n')\n",
        "print(\"X_test  shape is: \", X_test.shape, '\\n')\n",
        "print(\"y_test  shape is: \", y_test.shape, '\\n')"
      ],
      "metadata": {
        "colab": {
          "base_uri": "https://localhost:8080/"
        },
        "id": "j8v7z0ItKrNd",
        "outputId": "b9715712-81be-4d56-9aea-cc3a53db025e"
      },
      "execution_count": 27,
      "outputs": [
        {
          "output_type": "stream",
          "name": "stdout",
          "text": [
            "X_train shape is:  (3867,) \n",
            "\n",
            "y_train shape is:  (3867,) \n",
            "\n",
            "X_test  shape is:  (1290,) \n",
            "\n",
            "y_test  shape is:  (1290,) \n",
            "\n"
          ]
        }
      ]
    },
    {
      "cell_type": "code",
      "source": [
        "###### Using BOW - Bag Of Word in order to convert words into vectors ######\n",
        "\n",
        "BOW_ = CountVectorizer()\n",
        "\n",
        "X_train = BOW_.fit_transform(X_train).toarray()\n",
        "X_test  = BOW_.transform(X_test).toarray()\n",
        "\n",
        "X_train.shape, X_test.shape"
      ],
      "metadata": {
        "colab": {
          "base_uri": "https://localhost:8080/"
        },
        "id": "czbzIOx2KfOT",
        "outputId": "c625c79b-77fb-4e78-ae41-bbd9863f0db6"
      },
      "execution_count": 28,
      "outputs": [
        {
          "output_type": "execute_result",
          "data": {
            "text/plain": [
              "((3867, 5385), (1290, 5385))"
            ]
          },
          "metadata": {},
          "execution_count": 28
        }
      ]
    },
    {
      "cell_type": "code",
      "source": [
        "###### GaussianNB, BernoulliNB, MultinomialNB\n",
        "\n",
        "GaussianNB_ = GaussianNB()\n",
        "GaussianNB_.fit(X_train, y_train)\n",
        "predicted_ = GaussianNB_.predict(X_test)\n",
        "\n",
        "print(\"accuracy score is = \", accuracy_score(predicted_, y_test))\n",
        "print(\"recall score is   = \", recall_score(predicted_, y_test))\n",
        "print(\"f1 score of its   = \", f1_score(predicted_, y_test))\n",
        "print(\"precision score is= \", precision_score(predicted_, y_test))"
      ],
      "metadata": {
        "colab": {
          "base_uri": "https://localhost:8080/"
        },
        "id": "uAmlblRtMBq3",
        "outputId": "6f619628-abc3-4b71-8a48-4ba0f107e7f5"
      },
      "execution_count": 29,
      "outputs": [
        {
          "output_type": "stream",
          "name": "stdout",
          "text": [
            "accuracy score is =  0.8837209302325582\n",
            "recall score is   =  0.5287769784172662\n",
            "f1 score of its   =  0.6621621621621622\n",
            "precision score is=  0.8855421686746988\n"
          ]
        }
      ]
    },
    {
      "cell_type": "code",
      "source": [
        "confusion_matrix(predicted_, y_test)"
      ],
      "metadata": {
        "colab": {
          "base_uri": "https://localhost:8080/"
        },
        "id": "JQg28Fo5SFRR",
        "outputId": "a281bacb-d642-44e9-805e-0e55bfe093b3"
      },
      "execution_count": 30,
      "outputs": [
        {
          "output_type": "execute_result",
          "data": {
            "text/plain": [
              "array([[993,  19],\n",
              "       [131, 147]])"
            ]
          },
          "metadata": {},
          "execution_count": 30
        }
      ]
    },
    {
      "cell_type": "code",
      "source": [
        "###### GaussianNB, BernoulliNB, MultinomialNB\n",
        "\n",
        "BernoulliNB_ = BernoulliNB()\n",
        "BernoulliNB_.fit(X_train, y_train)\n",
        "predicted_ = BernoulliNB_.predict(X_test)\n",
        "\n",
        "print(\"accuracy score is = \", accuracy_score(predicted_, y_test))\n",
        "print(\"recall score is   = \", recall_score(predicted_, y_test))\n",
        "print(\"f1 score of its   = \", f1_score(predicted_, y_test))\n",
        "print(\"precision score is= \", precision_score(predicted_, y_test))"
      ],
      "metadata": {
        "colab": {
          "base_uri": "https://localhost:8080/"
        },
        "id": "VehhgTWQMU1b",
        "outputId": "532612ae-cb14-4051-c0f1-aa9f5a2b66df"
      },
      "execution_count": 31,
      "outputs": [
        {
          "output_type": "stream",
          "name": "stdout",
          "text": [
            "accuracy score is =  0.975968992248062\n",
            "recall score is   =  0.9856115107913669\n",
            "f1 score of its   =  0.8983606557377048\n",
            "precision score is=  0.8253012048192772\n"
          ]
        }
      ]
    },
    {
      "cell_type": "code",
      "source": [
        "confusion_matrix(predicted_, y_test)"
      ],
      "metadata": {
        "colab": {
          "base_uri": "https://localhost:8080/"
        },
        "id": "W0qUBgDJSDy-",
        "outputId": "6f9686ec-8dd1-4f66-df5b-a3913124e953"
      },
      "execution_count": 32,
      "outputs": [
        {
          "output_type": "execute_result",
          "data": {
            "text/plain": [
              "array([[1122,   29],\n",
              "       [   2,  137]])"
            ]
          },
          "metadata": {},
          "execution_count": 32
        }
      ]
    },
    {
      "cell_type": "code",
      "source": [
        "###### GaussianNB, BernoulliNB, MultinomialNB\n",
        "\n",
        "MultinomialNB_ = MultinomialNB()\n",
        "MultinomialNB_.fit(X_train, y_train)\n",
        "predicted_ = MultinomialNB_.predict(X_test)\n",
        "\n",
        "print(\"accuracy score is = \", accuracy_score(predicted_, y_test))\n",
        "print(\"recall score is   = \", recall_score(predicted_, y_test))\n",
        "print(\"f1 score of its   = \", f1_score(predicted_, y_test))\n",
        "print(\"precision score is= \", precision_score(predicted_, y_test))"
      ],
      "metadata": {
        "colab": {
          "base_uri": "https://localhost:8080/"
        },
        "id": "A0p2GAOfMbNP",
        "outputId": "00748b20-a049-492e-bfee-5b60f299c27e"
      },
      "execution_count": 33,
      "outputs": [
        {
          "output_type": "stream",
          "name": "stdout",
          "text": [
            "accuracy score is =  0.9844961240310077\n",
            "recall score is   =  0.9294117647058824\n",
            "f1 score of its   =  0.9404761904761904\n",
            "precision score is=  0.9518072289156626\n"
          ]
        }
      ]
    },
    {
      "cell_type": "code",
      "source": [
        "confusion_matrix(predicted_, y_test)"
      ],
      "metadata": {
        "colab": {
          "base_uri": "https://localhost:8080/"
        },
        "id": "8FWn2ImvSCe8",
        "outputId": "73fba2cc-91d8-41da-b516-6bdd17003aa4"
      },
      "execution_count": 34,
      "outputs": [
        {
          "output_type": "execute_result",
          "data": {
            "text/plain": [
              "array([[1112,    8],\n",
              "       [  12,  158]])"
            ]
          },
          "metadata": {},
          "execution_count": 34
        }
      ]
    },
    {
      "cell_type": "code",
      "source": [
        "##### SGD Classifier ######\n",
        "\n",
        "SGDClassifier_ = SGDClassifier()\n",
        "SGDClassifier_.fit(X_train, y_train)\n",
        "predicted_ = SGDClassifier_.predict(X_test)\n",
        "\n",
        "print(\"accuracy score is = \", accuracy_score(predicted_, y_test))\n",
        "print(\"recall score is   = \", recall_score(predicted_, y_test))\n",
        "print(\"f1 score of its   = \", f1_score(predicted_, y_test))\n",
        "print(\"precision score is= \", precision_score(predicted_, y_test))"
      ],
      "metadata": {
        "colab": {
          "base_uri": "https://localhost:8080/"
        },
        "id": "E5VKTWO6M7FN",
        "outputId": "4ba26bcc-dfb1-41ce-b82f-495a0085426e"
      },
      "execution_count": 35,
      "outputs": [
        {
          "output_type": "stream",
          "name": "stdout",
          "text": [
            "accuracy score is =  0.9868217054263566\n",
            "recall score is   =  0.9570552147239264\n",
            "f1 score of its   =  0.9483282674772037\n",
            "precision score is=  0.9397590361445783\n"
          ]
        }
      ]
    },
    {
      "cell_type": "code",
      "source": [
        "confusion_matrix(predicted_, y_test)"
      ],
      "metadata": {
        "colab": {
          "base_uri": "https://localhost:8080/"
        },
        "id": "RxRHN7K7SBMm",
        "outputId": "f92f2da9-be50-4935-e738-ea1b849cd272"
      },
      "execution_count": 36,
      "outputs": [
        {
          "output_type": "execute_result",
          "data": {
            "text/plain": [
              "array([[1117,   10],\n",
              "       [   7,  156]])"
            ]
          },
          "metadata": {},
          "execution_count": 36
        }
      ]
    },
    {
      "cell_type": "code",
      "source": [
        "###### MLP Classifier #######\n",
        "\n",
        "MLPClassifier_ = MLPClassifier()\n",
        "MLPClassifier_.fit(X_train, y_train)\n",
        "predicted_ = MLPClassifier_.predict(X_test)\n",
        "\n",
        "print(\"accuracy score is = \", accuracy_score(predicted_, y_test))\n",
        "print(\"recall score is   = \", recall_score(predicted_, y_test))\n",
        "print(\"f1 score of its   = \", f1_score(predicted_, y_test))\n",
        "print(\"precision score is= \", precision_score(predicted_, y_test))"
      ],
      "metadata": {
        "colab": {
          "base_uri": "https://localhost:8080/"
        },
        "id": "aWzArndjM7Iy",
        "outputId": "f5178ce1-4f73-44c5-ec70-bc85d86a261f"
      },
      "execution_count": 37,
      "outputs": [
        {
          "output_type": "stream",
          "name": "stdout",
          "text": [
            "accuracy score is =  0.9844961240310077\n",
            "recall score is   =  0.9866666666666667\n",
            "f1 score of its   =  0.9367088607594936\n",
            "precision score is=  0.891566265060241\n"
          ]
        }
      ]
    },
    {
      "cell_type": "code",
      "source": [
        "confusion_matrix(predicted_, y_test)"
      ],
      "metadata": {
        "colab": {
          "base_uri": "https://localhost:8080/"
        },
        "id": "JLyVz4c_R_3C",
        "outputId": "66a54b78-3eb1-4001-a5f0-9171ea243719"
      },
      "execution_count": 38,
      "outputs": [
        {
          "output_type": "execute_result",
          "data": {
            "text/plain": [
              "array([[1122,   18],\n",
              "       [   2,  148]])"
            ]
          },
          "metadata": {},
          "execution_count": 38
        }
      ]
    },
    {
      "cell_type": "code",
      "source": [
        "###### Using TFIDF ######\n",
        "\n",
        "TFIDF_ = TfidfVectorizer(max_features = 500)\n",
        "X = TFIDF_.fit_transform(X).toarray()\n",
        "\n",
        "\n",
        "X_train, X_test, y_train, y_test = train_test_split(X, y, test_size = 0.25, random_state = 42) \n",
        "\n",
        "print(\"X_train shape is: \", X_train.shape, '\\n')\n",
        "print(\"y_train shape is: \", y_train.shape, '\\n')\n",
        "print(\"X_test  shape is: \", X_test.shape, '\\n')\n",
        "print(\"y_test  shape is: \", y_test.shape, '\\n')"
      ],
      "metadata": {
        "colab": {
          "base_uri": "https://localhost:8080/"
        },
        "id": "paU34sQ-Piqu",
        "outputId": "03cd736f-d614-411e-d77b-57be1bb7e8f7"
      },
      "execution_count": 39,
      "outputs": [
        {
          "output_type": "stream",
          "name": "stdout",
          "text": [
            "X_train shape is:  (3867, 500) \n",
            "\n",
            "y_train shape is:  (3867,) \n",
            "\n",
            "X_test  shape is:  (1290, 500) \n",
            "\n",
            "y_test  shape is:  (1290,) \n",
            "\n"
          ]
        }
      ]
    },
    {
      "cell_type": "code",
      "source": [
        "X_train[0]"
      ],
      "metadata": {
        "colab": {
          "base_uri": "https://localhost:8080/"
        },
        "id": "A1c7efqVQRq3",
        "outputId": "5a26d830-1162-4ac9-8852-f9c2832f073c"
      },
      "execution_count": 40,
      "outputs": [
        {
          "output_type": "execute_result",
          "data": {
            "text/plain": [
              "array([0.        , 0.        , 0.        , 0.        , 0.        ,\n",
              "       0.        , 0.        , 0.        , 0.        , 0.        ,\n",
              "       0.        , 0.        , 0.        , 0.        , 0.        ,\n",
              "       0.        , 0.        , 0.        , 0.        , 0.        ,\n",
              "       0.        , 0.        , 0.        , 0.        , 0.        ,\n",
              "       0.        , 0.        , 0.        , 0.        , 0.        ,\n",
              "       0.        , 0.        , 0.        , 0.        , 0.        ,\n",
              "       0.        , 0.        , 0.        , 0.        , 0.        ,\n",
              "       0.        , 0.        , 0.        , 0.        , 0.        ,\n",
              "       0.        , 0.        , 0.        , 0.        , 0.        ,\n",
              "       0.        , 0.        , 0.        , 0.        , 0.36427714,\n",
              "       0.        , 0.        , 0.        , 0.        , 0.        ,\n",
              "       0.        , 0.        , 0.        , 0.        , 0.        ,\n",
              "       0.        , 0.        , 0.        , 0.73013314, 0.        ,\n",
              "       0.        , 0.        , 0.        , 0.        , 0.        ,\n",
              "       0.        , 0.        , 0.        , 0.        , 0.        ,\n",
              "       0.        , 0.        , 0.        , 0.        , 0.        ,\n",
              "       0.        , 0.        , 0.        , 0.        , 0.        ,\n",
              "       0.        , 0.        , 0.        , 0.        , 0.        ,\n",
              "       0.        , 0.        , 0.        , 0.        , 0.        ,\n",
              "       0.        , 0.        , 0.        , 0.        , 0.        ,\n",
              "       0.        , 0.        , 0.        , 0.        , 0.        ,\n",
              "       0.        , 0.        , 0.        , 0.        , 0.        ,\n",
              "       0.        , 0.        , 0.        , 0.        , 0.        ,\n",
              "       0.        , 0.        , 0.        , 0.        , 0.        ,\n",
              "       0.        , 0.        , 0.        , 0.        , 0.        ,\n",
              "       0.        , 0.        , 0.        , 0.        , 0.        ,\n",
              "       0.        , 0.        , 0.        , 0.        , 0.        ,\n",
              "       0.        , 0.        , 0.        , 0.        , 0.        ,\n",
              "       0.        , 0.        , 0.        , 0.        , 0.        ,\n",
              "       0.        , 0.        , 0.        , 0.        , 0.        ,\n",
              "       0.        , 0.        , 0.        , 0.        , 0.        ,\n",
              "       0.        , 0.        , 0.        , 0.        , 0.        ,\n",
              "       0.        , 0.        , 0.        , 0.        , 0.        ,\n",
              "       0.        , 0.        , 0.        , 0.        , 0.        ,\n",
              "       0.        , 0.        , 0.        , 0.        , 0.        ,\n",
              "       0.        , 0.        , 0.        , 0.        , 0.        ,\n",
              "       0.        , 0.        , 0.        , 0.        , 0.        ,\n",
              "       0.        , 0.        , 0.        , 0.        , 0.        ,\n",
              "       0.        , 0.        , 0.        , 0.        , 0.        ,\n",
              "       0.        , 0.        , 0.        , 0.        , 0.        ,\n",
              "       0.        , 0.        , 0.        , 0.        , 0.        ,\n",
              "       0.        , 0.        , 0.        , 0.        , 0.        ,\n",
              "       0.        , 0.        , 0.        , 0.        , 0.        ,\n",
              "       0.        , 0.        , 0.        , 0.        , 0.        ,\n",
              "       0.        , 0.        , 0.        , 0.        , 0.        ,\n",
              "       0.        , 0.        , 0.        , 0.        , 0.        ,\n",
              "       0.        , 0.        , 0.        , 0.        , 0.        ,\n",
              "       0.        , 0.        , 0.        , 0.        , 0.        ,\n",
              "       0.        , 0.        , 0.        , 0.        , 0.        ,\n",
              "       0.        , 0.        , 0.        , 0.        , 0.        ,\n",
              "       0.        , 0.        , 0.        , 0.        , 0.        ,\n",
              "       0.        , 0.        , 0.        , 0.        , 0.        ,\n",
              "       0.        , 0.        , 0.        , 0.        , 0.        ,\n",
              "       0.        , 0.        , 0.        , 0.        , 0.        ,\n",
              "       0.        , 0.        , 0.        , 0.        , 0.        ,\n",
              "       0.        , 0.        , 0.        , 0.        , 0.        ,\n",
              "       0.        , 0.        , 0.        , 0.        , 0.        ,\n",
              "       0.        , 0.        , 0.        , 0.        , 0.        ,\n",
              "       0.        , 0.        , 0.        , 0.        , 0.        ,\n",
              "       0.        , 0.        , 0.        , 0.        , 0.        ,\n",
              "       0.        , 0.        , 0.        , 0.        , 0.        ,\n",
              "       0.        , 0.        , 0.        , 0.        , 0.        ,\n",
              "       0.        , 0.        , 0.        , 0.        , 0.        ,\n",
              "       0.        , 0.        , 0.        , 0.        , 0.        ,\n",
              "       0.        , 0.        , 0.        , 0.        , 0.        ,\n",
              "       0.        , 0.        , 0.        , 0.        , 0.        ,\n",
              "       0.        , 0.        , 0.        , 0.        , 0.        ,\n",
              "       0.        , 0.        , 0.        , 0.        , 0.        ,\n",
              "       0.        , 0.        , 0.        , 0.        , 0.        ,\n",
              "       0.        , 0.        , 0.        , 0.        , 0.        ,\n",
              "       0.        , 0.        , 0.        , 0.        , 0.        ,\n",
              "       0.        , 0.        , 0.        , 0.57810705, 0.        ,\n",
              "       0.        , 0.        , 0.        , 0.        , 0.        ,\n",
              "       0.        , 0.        , 0.        , 0.        , 0.        ,\n",
              "       0.        , 0.        , 0.        , 0.        , 0.        ,\n",
              "       0.        , 0.        , 0.        , 0.        , 0.        ,\n",
              "       0.        , 0.        , 0.        , 0.        , 0.        ,\n",
              "       0.        , 0.        , 0.        , 0.        , 0.        ,\n",
              "       0.        , 0.        , 0.        , 0.        , 0.        ,\n",
              "       0.        , 0.        , 0.        , 0.        , 0.        ,\n",
              "       0.        , 0.        , 0.        , 0.        , 0.        ,\n",
              "       0.        , 0.        , 0.        , 0.        , 0.        ,\n",
              "       0.        , 0.        , 0.        , 0.        , 0.        ,\n",
              "       0.        , 0.        , 0.        , 0.        , 0.        ,\n",
              "       0.        , 0.        , 0.        , 0.        , 0.        ,\n",
              "       0.        , 0.        , 0.        , 0.        , 0.        ,\n",
              "       0.        , 0.        , 0.        , 0.        , 0.        ,\n",
              "       0.        , 0.        , 0.        , 0.        , 0.        ,\n",
              "       0.        , 0.        , 0.        , 0.        , 0.        ,\n",
              "       0.        , 0.        , 0.        , 0.        , 0.        ,\n",
              "       0.        , 0.        , 0.        , 0.        , 0.        ,\n",
              "       0.        , 0.        , 0.        , 0.        , 0.        ,\n",
              "       0.        , 0.        , 0.        , 0.        , 0.        ,\n",
              "       0.        , 0.        , 0.        , 0.        , 0.        ,\n",
              "       0.        , 0.        , 0.        , 0.        , 0.        ,\n",
              "       0.        , 0.        , 0.        , 0.        , 0.        ,\n",
              "       0.        , 0.        , 0.        , 0.        , 0.        ,\n",
              "       0.        , 0.        , 0.        , 0.        , 0.        ,\n",
              "       0.        , 0.        , 0.        , 0.        , 0.        ])"
            ]
          },
          "metadata": {},
          "execution_count": 40
        }
      ]
    },
    {
      "cell_type": "code",
      "source": [
        "###### GaussianNB, BernoulliNB, MultinomialNB\n",
        "\n",
        "GaussianNB_ = GaussianNB()\n",
        "GaussianNB_.fit(X_train, y_train)\n",
        "predicted_ = GaussianNB_.predict(X_test)\n",
        "\n",
        "print(\"accuracy score is = \", accuracy_score(predicted_, y_test))\n",
        "print(\"recall score is   = \", recall_score(predicted_, y_test))\n",
        "print(\"f1 score of its   = \", f1_score(predicted_, y_test))\n",
        "print(\"precision score is= \", precision_score(predicted_, y_test))"
      ],
      "metadata": {
        "colab": {
          "base_uri": "https://localhost:8080/"
        },
        "id": "IrefRN1WQJB-",
        "outputId": "b55d23a1-af7d-4a93-fc32-4036a21a82d0"
      },
      "execution_count": 41,
      "outputs": [
        {
          "output_type": "stream",
          "name": "stdout",
          "text": [
            "accuracy score is =  0.7248062015503876\n",
            "recall score is   =  0.31137724550898205\n",
            "f1 score of its   =  0.4677661169415293\n",
            "precision score is=  0.9397590361445783\n"
          ]
        }
      ]
    },
    {
      "cell_type": "code",
      "source": [
        "confusion_matrix(predicted_, y_test)"
      ],
      "metadata": {
        "colab": {
          "base_uri": "https://localhost:8080/"
        },
        "id": "7duUoqWeR9yK",
        "outputId": "a1418eae-6882-48de-a0f0-64c093b90ff5"
      },
      "execution_count": 42,
      "outputs": [
        {
          "output_type": "execute_result",
          "data": {
            "text/plain": [
              "array([[779,  10],\n",
              "       [345, 156]])"
            ]
          },
          "metadata": {},
          "execution_count": 42
        }
      ]
    },
    {
      "cell_type": "code",
      "source": [
        "###### GaussianNB, BernoulliNB, MultinomialNB\n",
        "\n",
        "BernoulliNB_ = BernoulliNB()\n",
        "BernoulliNB_.fit(X_train, y_train)\n",
        "predicted_ = BernoulliNB_.predict(X_test)\n",
        "\n",
        "print(\"accuracy score is = \", accuracy_score(predicted_, y_test))\n",
        "print(\"recall score is   = \", recall_score(predicted_, y_test))\n",
        "print(\"f1 score of its   = \", f1_score(predicted_, y_test))\n",
        "print(\"precision score is= \", precision_score(predicted_, y_test))"
      ],
      "metadata": {
        "colab": {
          "base_uri": "https://localhost:8080/"
        },
        "id": "oABYdVyhQJEO",
        "outputId": "4d211237-914d-4ddf-de71-ee2643db5d0c"
      },
      "execution_count": 43,
      "outputs": [
        {
          "output_type": "stream",
          "name": "stdout",
          "text": [
            "accuracy score is =  0.9883720930232558\n",
            "recall score is   =  0.9808917197452229\n",
            "f1 score of its   =  0.9535603715170279\n",
            "precision score is=  0.927710843373494\n"
          ]
        }
      ]
    },
    {
      "cell_type": "code",
      "source": [
        "confusion_matrix(predicted_, y_test)"
      ],
      "metadata": {
        "colab": {
          "base_uri": "https://localhost:8080/"
        },
        "id": "i6Cbuyw3R8PQ",
        "outputId": "d165699f-9566-4437-dba1-dbefbb323f83"
      },
      "execution_count": 44,
      "outputs": [
        {
          "output_type": "execute_result",
          "data": {
            "text/plain": [
              "array([[1121,   12],\n",
              "       [   3,  154]])"
            ]
          },
          "metadata": {},
          "execution_count": 44
        }
      ]
    },
    {
      "cell_type": "code",
      "source": [
        "###### GaussianNB, BernoulliNB, MultinomialNB\n",
        "\n",
        "MultinomialNB_ = MultinomialNB()\n",
        "MultinomialNB_.fit(X_train, y_train)\n",
        "predicted_ = MultinomialNB_.predict(X_test)\n",
        "\n",
        "print(\"accuracy score is = \", accuracy_score(predicted_, y_test))\n",
        "print(\"recall score is   = \", recall_score(predicted_, y_test))\n",
        "print(\"f1 score of its   = \", f1_score(predicted_, y_test))\n",
        "print(\"precision score is= \", precision_score(predicted_, y_test))"
      ],
      "metadata": {
        "colab": {
          "base_uri": "https://localhost:8080/"
        },
        "id": "HYXZzxz3RL_j",
        "outputId": "967086c2-01bb-4104-c429-9e34b52879db"
      },
      "execution_count": 45,
      "outputs": [
        {
          "output_type": "stream",
          "name": "stdout",
          "text": [
            "accuracy score is =  0.9790697674418605\n",
            "recall score is   =  0.954248366013072\n",
            "f1 score of its   =  0.915360501567398\n",
            "precision score is=  0.8795180722891566\n"
          ]
        }
      ]
    },
    {
      "cell_type": "code",
      "source": [
        "confusion_matrix(predicted_, y_test)"
      ],
      "metadata": {
        "colab": {
          "base_uri": "https://localhost:8080/"
        },
        "id": "amnKCUayR6xK",
        "outputId": "4adf6770-d80f-4062-9a5d-959137c54ba1"
      },
      "execution_count": 46,
      "outputs": [
        {
          "output_type": "execute_result",
          "data": {
            "text/plain": [
              "array([[1117,   20],\n",
              "       [   7,  146]])"
            ]
          },
          "metadata": {},
          "execution_count": 46
        }
      ]
    },
    {
      "cell_type": "code",
      "source": [
        "##### SGD Classifier ######\n",
        "\n",
        "SGDClassifier_ = SGDClassifier()\n",
        "SGDClassifier_.fit(X_train, y_train)\n",
        "predicted_ = SGDClassifier_.predict(X_test)\n",
        "\n",
        "print(\"accuracy score is = \", accuracy_score(predicted_, y_test))\n",
        "print(\"recall score is   = \", recall_score(predicted_, y_test))\n",
        "print(\"f1 score of its   = \", f1_score(predicted_, y_test))\n",
        "print(\"precision score is= \", precision_score(predicted_, y_test))"
      ],
      "metadata": {
        "colab": {
          "base_uri": "https://localhost:8080/"
        },
        "id": "wY0kMWTkRMBa",
        "outputId": "4e0eef71-fee8-4431-ac6d-f937f64d9f8b"
      },
      "execution_count": 47,
      "outputs": [
        {
          "output_type": "stream",
          "name": "stdout",
          "text": [
            "accuracy score is =  0.986046511627907\n",
            "recall score is   =  0.9683544303797469\n",
            "f1 score of its   =  0.9444444444444444\n",
            "precision score is=  0.9216867469879518\n"
          ]
        }
      ]
    },
    {
      "cell_type": "code",
      "source": [
        "confusion_matrix(predicted_, y_test)"
      ],
      "metadata": {
        "colab": {
          "base_uri": "https://localhost:8080/"
        },
        "id": "AiG88ixSR5FI",
        "outputId": "2ea1e22b-2eee-4487-84d7-8b8b11457bc2"
      },
      "execution_count": 48,
      "outputs": [
        {
          "output_type": "execute_result",
          "data": {
            "text/plain": [
              "array([[1119,   13],\n",
              "       [   5,  153]])"
            ]
          },
          "metadata": {},
          "execution_count": 48
        }
      ]
    },
    {
      "cell_type": "code",
      "source": [
        "###### MLP Classifier #######\n",
        "\n",
        "MLPClassifier_ = MLPClassifier()\n",
        "MLPClassifier_.fit(X_train, y_train)\n",
        "predicted_ = MLPClassifier_.predict(X_test)\n",
        "\n",
        "print(\"accuracy score is = \", accuracy_score(predicted_, y_test))\n",
        "print(\"recall score is   = \", recall_score(predicted_, y_test))\n",
        "print(\"f1 score of its   = \", f1_score(predicted_, y_test))\n",
        "print(\"precision score is= \", precision_score(predicted_, y_test))"
      ],
      "metadata": {
        "colab": {
          "base_uri": "https://localhost:8080/"
        },
        "id": "IhoevYnFRMFC",
        "outputId": "04cf7778-0439-4aa5-a6f6-939c8163d79d"
      },
      "execution_count": 49,
      "outputs": [
        {
          "output_type": "stream",
          "name": "stdout",
          "text": [
            "accuracy score is =  0.9744186046511628\n",
            "recall score is   =  0.88\n",
            "f1 score of its   =  0.9032258064516129\n",
            "precision score is=  0.927710843373494\n"
          ]
        }
      ]
    },
    {
      "cell_type": "code",
      "source": [
        "confusion_matrix(predicted_, y_test)"
      ],
      "metadata": {
        "colab": {
          "base_uri": "https://localhost:8080/"
        },
        "id": "e8kRaDDoRjkH",
        "outputId": "0fbdae92-46ef-4863-b893-c3bbdfcaeadb"
      },
      "execution_count": 50,
      "outputs": [
        {
          "output_type": "execute_result",
          "data": {
            "text/plain": [
              "array([[1103,   12],\n",
              "       [  21,  154]])"
            ]
          },
          "metadata": {},
          "execution_count": 50
        }
      ]
    },
    {
      "cell_type": "markdown",
      "source": [
        "Using Shallow Deep Learning"
      ],
      "metadata": {
        "id": "pcnEYxW-SGsp"
      }
    },
    {
      "cell_type": "code",
      "source": [
        "X.shape"
      ],
      "metadata": {
        "colab": {
          "base_uri": "https://localhost:8080/"
        },
        "id": "PYZ_DQa2SlPR",
        "outputId": "4ee41f6e-bcd7-43d6-caa7-39eca9ed838b"
      },
      "execution_count": 51,
      "outputs": [
        {
          "output_type": "execute_result",
          "data": {
            "text/plain": [
              "(5157, 500)"
            ]
          },
          "metadata": {},
          "execution_count": 51
        }
      ]
    },
    {
      "cell_type": "code",
      "source": [
        "###### Create an sequential model ######\n",
        "model = Sequential()\n",
        "\n",
        "###### Create an input layer with 128 neurons ######\n",
        "model.add(Dense(units = 128, kernel_initializer = 'he_normal', activation = 'relu', input_dim = X.shape[1], kernel_regularizer = L2()))\n",
        "model.add(BatchNormalization())\n",
        "\n",
        "###### Create first hidden layer with 64 neurons ######\n",
        "model.add(Dense(units = 64, kernel_initializer = 'he_normal', activation = 'relu', kernel_regularizer = L2()))\n",
        "model.add(BatchNormalization())\n",
        "\n",
        "###### Create an output layer ######\n",
        "model.add(Dense(units = 1, activation = 'sigmoid'))\n",
        "\n",
        "###### Compile the model #####\n",
        "model.compile(optimizer = 'Adam', loss = 'binary_crossentropy', metrics = ['accuracy'])\n",
        "\n",
        "history_ = model.fit(x = X_train, y = y_train, validation_data = (X_test, y_test), epochs = 25, batch_size = 32, verbose = 1)"
      ],
      "metadata": {
        "colab": {
          "base_uri": "https://localhost:8080/"
        },
        "id": "FRZvSkQ8SKbJ",
        "outputId": "b188df06-8b65-49e4-9b11-89df8018d943"
      },
      "execution_count": 52,
      "outputs": [
        {
          "output_type": "stream",
          "name": "stdout",
          "text": [
            "Epoch 1/25\n",
            "121/121 [==============================] - 2s 6ms/step - loss: 2.7458 - accuracy: 0.8218 - val_loss: 1.9641 - val_accuracy: 0.9233\n",
            "Epoch 2/25\n",
            "121/121 [==============================] - 1s 5ms/step - loss: 1.1164 - accuracy: 0.9780 - val_loss: 1.0415 - val_accuracy: 0.8845\n",
            "Epoch 3/25\n",
            "121/121 [==============================] - 1s 5ms/step - loss: 0.5571 - accuracy: 0.9845 - val_loss: 0.6330 - val_accuracy: 0.9078\n",
            "Epoch 4/25\n",
            "121/121 [==============================] - 1s 5ms/step - loss: 0.3474 - accuracy: 0.9837 - val_loss: 0.3911 - val_accuracy: 0.9574\n",
            "Epoch 5/25\n",
            "121/121 [==============================] - 1s 5ms/step - loss: 0.2369 - accuracy: 0.9873 - val_loss: 0.2669 - val_accuracy: 0.9721\n",
            "Epoch 6/25\n",
            "121/121 [==============================] - 1s 5ms/step - loss: 0.1746 - accuracy: 0.9912 - val_loss: 0.1974 - val_accuracy: 0.9798\n",
            "Epoch 7/25\n",
            "121/121 [==============================] - 1s 5ms/step - loss: 0.1500 - accuracy: 0.9889 - val_loss: 0.1715 - val_accuracy: 0.9837\n",
            "Epoch 8/25\n",
            "121/121 [==============================] - 1s 5ms/step - loss: 0.1202 - accuracy: 0.9938 - val_loss: 0.1486 - val_accuracy: 0.9829\n",
            "Epoch 9/25\n",
            "121/121 [==============================] - 1s 5ms/step - loss: 0.0941 - accuracy: 0.9941 - val_loss: 0.1307 - val_accuracy: 0.9806\n",
            "Epoch 10/25\n",
            "121/121 [==============================] - 1s 5ms/step - loss: 0.0807 - accuracy: 0.9938 - val_loss: 0.1622 - val_accuracy: 0.9760\n",
            "Epoch 11/25\n",
            "121/121 [==============================] - 1s 6ms/step - loss: 0.0641 - accuracy: 0.9966 - val_loss: 0.1318 - val_accuracy: 0.9783\n",
            "Epoch 12/25\n",
            "121/121 [==============================] - 1s 6ms/step - loss: 0.0539 - accuracy: 0.9969 - val_loss: 0.1276 - val_accuracy: 0.9798\n",
            "Epoch 13/25\n",
            "121/121 [==============================] - 1s 5ms/step - loss: 0.0665 - accuracy: 0.9928 - val_loss: 0.1486 - val_accuracy: 0.9721\n",
            "Epoch 14/25\n",
            "121/121 [==============================] - 1s 6ms/step - loss: 0.0637 - accuracy: 0.9935 - val_loss: 0.1288 - val_accuracy: 0.9791\n",
            "Epoch 15/25\n",
            "121/121 [==============================] - 1s 4ms/step - loss: 0.0611 - accuracy: 0.9946 - val_loss: 0.1237 - val_accuracy: 0.9783\n",
            "Epoch 16/25\n",
            "121/121 [==============================] - 1s 5ms/step - loss: 0.0558 - accuracy: 0.9946 - val_loss: 0.1403 - val_accuracy: 0.9783\n",
            "Epoch 17/25\n",
            "121/121 [==============================] - 1s 5ms/step - loss: 0.0536 - accuracy: 0.9948 - val_loss: 0.1317 - val_accuracy: 0.9783\n",
            "Epoch 18/25\n",
            "121/121 [==============================] - 1s 5ms/step - loss: 0.0481 - accuracy: 0.9964 - val_loss: 0.1174 - val_accuracy: 0.9814\n",
            "Epoch 19/25\n",
            "121/121 [==============================] - 1s 5ms/step - loss: 0.0471 - accuracy: 0.9966 - val_loss: 0.1157 - val_accuracy: 0.9791\n",
            "Epoch 20/25\n",
            "121/121 [==============================] - 1s 5ms/step - loss: 0.0449 - accuracy: 0.9959 - val_loss: 0.1192 - val_accuracy: 0.9814\n",
            "Epoch 21/25\n",
            "121/121 [==============================] - 1s 4ms/step - loss: 0.0488 - accuracy: 0.9951 - val_loss: 0.1075 - val_accuracy: 0.9775\n",
            "Epoch 22/25\n",
            "121/121 [==============================] - 1s 4ms/step - loss: 0.0410 - accuracy: 0.9964 - val_loss: 0.1198 - val_accuracy: 0.9814\n",
            "Epoch 23/25\n",
            "121/121 [==============================] - 1s 4ms/step - loss: 0.0347 - accuracy: 0.9972 - val_loss: 0.1073 - val_accuracy: 0.9829\n",
            "Epoch 24/25\n",
            "121/121 [==============================] - 1s 4ms/step - loss: 0.0296 - accuracy: 0.9984 - val_loss: 0.1195 - val_accuracy: 0.9814\n",
            "Epoch 25/25\n",
            "121/121 [==============================] - 1s 5ms/step - loss: 0.0346 - accuracy: 0.9964 - val_loss: 0.1085 - val_accuracy: 0.9829\n"
          ]
        }
      ]
    },
    {
      "cell_type": "code",
      "source": [
        "predicted_ = np.where(model.predict(X_test) > 0.5, 1, 0)\n",
        "\n",
        "print(\"accuracy score is = \", accuracy_score(predicted_, y_test))\n",
        "print(\"recall score is   = \", recall_score(predicted_, y_test))\n",
        "print(\"f1 score of its   = \", f1_score(predicted_, y_test))\n",
        "print(\"precision score is= \", precision_score(predicted_, y_test))"
      ],
      "metadata": {
        "colab": {
          "base_uri": "https://localhost:8080/"
        },
        "id": "rGcLsa5XUL-M",
        "outputId": "5816971a-75fe-4567-adbb-00c5101f9e79"
      },
      "execution_count": 53,
      "outputs": [
        {
          "output_type": "stream",
          "name": "stdout",
          "text": [
            "accuracy score is =  0.9829457364341085\n",
            "recall score is   =  0.9337349397590361\n",
            "f1 score of its   =  0.9337349397590361\n",
            "precision score is=  0.9337349397590361\n"
          ]
        }
      ]
    },
    {
      "cell_type": "code",
      "source": [
        "plt.plot(history_.history['accuracy'], label = 'Train accuracy')\n",
        "plt.plot(history_.history['val_accuracy'], label = 'Test accuracy')\n",
        "plt.legend()\n",
        "plt.show()"
      ],
      "metadata": {
        "colab": {
          "base_uri": "https://localhost:8080/",
          "height": 265
        },
        "id": "MldZ63KDUVkX",
        "outputId": "c83bb502-1c64-44b7-f360-b221e1c1bf5d"
      },
      "execution_count": 54,
      "outputs": [
        {
          "output_type": "display_data",
          "data": {
            "text/plain": [
              "<Figure size 432x288 with 1 Axes>"
            ],
            "image/png": "[encoded data removed]"
          },
          "metadata": {
            "needs_background": "light"
          }
        }
      ]
    },
    {
      "cell_type": "code",
      "source": [
        "plt.plot(history_.history['loss'], label = 'Train loss')\n",
        "plt.plot(history_.history['val_loss'], label = 'Test loss')\n",
        "plt.legend()\n",
        "plt.show()"
      ],
      "metadata": {
        "colab": {
          "base_uri": "https://localhost:8080/",
          "height": 265
        },
        "id": "g1Kr9wi0UkUU",
        "outputId": "555b90b2-2b9b-4483-fd51-041bba44c3d9"
      },
      "execution_count": 55,
      "outputs": [
        {
          "output_type": "display_data",
          "data": {
            "text/plain": [
              "<Figure size 432x288 with 1 Axes>"
            ],
            "image/png": "[encoded data removed]"
          },
          "metadata": {
            "needs_background": "light"
          }
        }
      ]
    },
    {
      "cell_type": "markdown",
      "source": [
        "Using Word2Vec Technique\n"
      ],
      "metadata": {
        "id": "VLUEQUO0az4B"
      }
    },
    {
      "cell_type": "code",
      "source": [
        "###### Load the dataset ######\n",
        "df = pd.read_csv('/content/SPAM text message 20170820 - Data.csv')\n",
        "df.head()"
      ],
      "metadata": {
        "colab": {
          "base_uri": "https://localhost:8080/",
          "height": 206
        },
        "id": "sjPwlVpqayIM",
        "outputId": "558d7571-a6d4-4e21-e551-5eb68a5ac194"
      },
      "execution_count": 56,
      "outputs": [
        {
          "output_type": "execute_result",
          "data": {
            "text/plain": [
              "  Category                                            Message\n",
              "0      ham  Go until jurong point, crazy.. Available only ...\n",
              "1      ham                      Ok lar... Joking wif u oni...\n",
              "2     spam  Free entry in 2 a wkly comp to win FA Cup fina...\n",
              "3      ham  U dun say so early hor... U c already then say...\n",
              "4      ham  Nah I don't think he goes to usf, he lives aro..."
            ],
            "text/html": [
              "\n",
              "  <div id=\"df-91b3c1f8-0dd3-4ca2-91b7-d17b12605965\">\n",
              "    <div class=\"colab-df-container\">\n",
              "      <div>\n",
              "<style scoped>\n",
              "    .dataframe tbody tr th:only-of-type {\n",
              "        vertical-align: middle;\n",
              "    }\n",
              "\n",
              "    .dataframe tbody tr th {\n",
              "        vertical-align: top;\n",
              "    }\n",
              "\n",
              "    .dataframe thead th {\n",
              "        text-align: right;\n",
              "    }\n",
              "</style>\n",
              "<table border=\"1\" class=\"dataframe\">\n",
              "  <thead>\n",
              "    <tr style=\"text-align: right;\">\n",
              "      <th></th>\n",
              "      <th>Category</th>\n",
              "      <th>Message</th>\n",
              "    </tr>\n",
              "  </thead>\n",
              "  <tbody>\n",
              "    <tr>\n",
              "      <th>0</th>\n",
              "      <td>ham</td>\n",
              "      <td>Go until jurong point, crazy.. Available only ...</td>\n",
              "    </tr>\n",
              "    <tr>\n",
              "      <th>1</th>\n",
              "      <td>ham</td>\n",
              "      <td>Ok lar... Joking wif u oni...</td>\n",
              "    </tr>\n",
              "    <tr>\n",
              "      <th>2</th>\n",
              "      <td>spam</td>\n",
              "      <td>Free entry in 2 a wkly comp to win FA Cup fina...</td>\n",
              "    </tr>\n",
              "    <tr>\n",
              "      <th>3</th>\n",
              "      <td>ham</td>\n",
              "      <td>U dun say so early hor... U c already then say...</td>\n",
              "    </tr>\n",
              "    <tr>\n",
              "      <th>4</th>\n",
              "      <td>ham</td>\n",
              "      <td>Nah I don't think he goes to usf, he lives aro...</td>\n",
              "    </tr>\n",
              "  </tbody>\n",
              "</table>\n",
              "</div>\n",
              "      <button class=\"colab-df-convert\" onclick=\"convertToInteractive('df-91b3c1f8-0dd3-4ca2-91b7-d17b12605965')\"\n",
              "              title=\"Convert this dataframe to an interactive table.\"\n",
              "              style=\"display:none;\">\n",
              "        \n",
              "  <svg xmlns=\"http://www.w3.org/2000/svg\" height=\"24px\"viewBox=\"0 0 24 24\"\n",
              "       width=\"24px\">\n",
              "    <path d=\"M0 0h24v24H0V0z\" fill=\"none\"/>\n",
              "    <path d=\"M18.56 5.44l.94 2.06.94-2.06 2.06-.94-2.06-.94-.94-2.06-.94 2.06-2.06.94zm-11 1L8.5 8.5l.94-2.06 2.06-.94-2.06-.94L8.5 2.5l-.94 2.06-2.06.94zm10 10l.94 2.06.94-2.06 2.06-.94-2.06-.94-.94-2.06-.94 2.06-2.06.94z\"/><path d=\"M17.41 7.96l-1.37-1.37c-.4-.4-.92-.59-1.43-.59-.52 0-1.04.2-1.43.59L10.3 9.45l-7.72 7.72c-.78.78-.78 2.05 0 2.83L4 21.41c.39.39.9.59 1.41.59.51 0 1.02-.2 1.41-.59l7.78-7.78 2.81-2.81c.8-.78.8-2.07 0-2.86zM5.41 20L4 18.59l7.72-7.72 1.47 1.35L5.41 20z\"/>\n",
              "  </svg>\n",
              "      </button>\n",
              "      \n",
              "  <style>\n",
              "    .colab-df-container {\n",
              "      display:flex;\n",
              "      flex-wrap:wrap;\n",
              "      gap: 12px;\n",
              "    }\n",
              "\n",
              "    .colab-df-convert {\n",
              "      background-color: #E8F0FE;\n",
              "      border: none;\n",
              "      border-radius: 50%;\n",
              "      cursor: pointer;\n",
              "      display: none;\n",
              "      fill: #1967D2;\n",
              "      height: 32px;\n",
              "      padding: 0 0 0 0;\n",
              "      width: 32px;\n",
              "    }\n",
              "\n",
              "    .colab-df-convert:hover {\n",
              "      background-color: #E2EBFA;\n",
              "      box-shadow: 0px 1px 2px rgba(60, 64, 67, 0.3), 0px 1px 3px 1px rgba(60, 64, 67, 0.15);\n",
              "      fill: #174EA6;\n",
              "    }\n",
              "\n",
              "    [theme=dark] .colab-df-convert {\n",
              "      background-color: #3B4455;\n",
              "      fill: #D2E3FC;\n",
              "    }\n",
              "\n",
              "    [theme=dark] .colab-df-convert:hover {\n",
              "      background-color: #434B5C;\n",
              "      box-shadow: 0px 1px 3px 1px rgba(0, 0, 0, 0.15);\n",
              "      filter: drop-shadow(0px 1px 2px rgba(0, 0, 0, 0.3));\n",
              "      fill: #FFFFFF;\n",
              "    }\n",
              "  </style>\n",
              "\n",
              "      <script>\n",
              "        const buttonEl =\n",
              "          document.querySelector('#df-91b3c1f8-0dd3-4ca2-91b7-d17b12605965 button.colab-df-convert');\n",
              "        buttonEl.style.display =\n",
              "          google.colab.kernel.accessAllowed ? 'block' : 'none';\n",
              "\n",
              "        async function convertToInteractive(key) {\n",
              "          const element = document.querySelector('#df-91b3c1f8-0dd3-4ca2-91b7-d17b12605965');\n",
              "          const dataTable =\n",
              "            await google.colab.kernel.invokeFunction('convertToInteractive',\n",
              "                                                     [key], {});\n",
              "          if (!dataTable) return;\n",
              "\n",
              "          const docLinkHtml = 'Like what you see? Visit the ' +\n",
              "            '<a target=\"_blank\" href=https://colab.research.google.com/notebooks/data_table.ipynb>data table notebook</a>'\n",
              "            + ' to learn more about interactive tables.';\n",
              "          element.innerHTML = '';\n",
              "          dataTable['output_type'] = 'display_data';\n",
              "          await google.colab.output.renderOutput(dataTable, element);\n",
              "          const docLink = document.createElement('div');\n",
              "          docLink.innerHTML = docLinkHtml;\n",
              "          element.appendChild(docLink);\n",
              "        }\n",
              "      </script>\n",
              "    </div>\n",
              "  </div>\n",
              "  "
            ]
          },
          "metadata": {},
          "execution_count": 56
        }
      ]
    },
    {
      "cell_type": "code",
      "source": [
        "###### Delete the duplicated rowns from the dataset ######\n",
        "df.drop_duplicates(inplace = True)\n",
        "print(\"Duplicated rows have been deleted.\\n\")\n",
        "\n",
        "df.shape"
      ],
      "metadata": {
        "colab": {
          "base_uri": "https://localhost:8080/"
        },
        "id": "OAO0OljabDVc",
        "outputId": "cfabe85f-e4b2-4e9a-d915-b390f87c6ed4"
      },
      "execution_count": 57,
      "outputs": [
        {
          "output_type": "stream",
          "name": "stdout",
          "text": [
            "Duplicated rows have been deleted.\n",
            "\n"
          ]
        },
        {
          "output_type": "execute_result",
          "data": {
            "text/plain": [
              "(5157, 2)"
            ]
          },
          "metadata": {},
          "execution_count": 57
        }
      ]
    },
    {
      "cell_type": "code",
      "source": [
        "####### Lowering the dataset #######\n",
        "df.loc[:, 'Message'] = df.loc[:, 'Message'].apply(lambda x: x.lower())\n",
        "\n",
        "df.head()"
      ],
      "metadata": {
        "colab": {
          "base_uri": "https://localhost:8080/",
          "height": 206
        },
        "id": "Ss1SMjy7bMrA",
        "outputId": "a899bdb4-4252-4f5d-bdb3-ee272546af46"
      },
      "execution_count": 58,
      "outputs": [
        {
          "output_type": "execute_result",
          "data": {
            "text/plain": [
              "  Category                                            Message\n",
              "0      ham  go until jurong point, crazy.. available only ...\n",
              "1      ham                      ok lar... joking wif u oni...\n",
              "2     spam  free entry in 2 a wkly comp to win fa cup fina...\n",
              "3      ham  u dun say so early hor... u c already then say...\n",
              "4      ham  nah i don't think he goes to usf, he lives aro..."
            ],
            "text/html": [
              "\n",
              "  <div id=\"df-55d9f235-3940-48c5-a328-ee5332d7368d\">\n",
              "    <div class=\"colab-df-container\">\n",
              "      <div>\n",
              "<style scoped>\n",
              "    .dataframe tbody tr th:only-of-type {\n",
              "        vertical-align: middle;\n",
              "    }\n",
              "\n",
              "    .dataframe tbody tr th {\n",
              "        vertical-align: top;\n",
              "    }\n",
              "\n",
              "    .dataframe thead th {\n",
              "        text-align: right;\n",
              "    }\n",
              "</style>\n",
              "<table border=\"1\" class=\"dataframe\">\n",
              "  <thead>\n",
              "    <tr style=\"text-align: right;\">\n",
              "      <th></th>\n",
              "      <th>Category</th>\n",
              "      <th>Message</th>\n",
              "    </tr>\n",
              "  </thead>\n",
              "  <tbody>\n",
              "    <tr>\n",
              "      <th>0</th>\n",
              "      <td>ham</td>\n",
              "      <td>go until jurong point, crazy.. available only ...</td>\n",
              "    </tr>\n",
              "    <tr>\n",
              "      <th>1</th>\n",
              "      <td>ham</td>\n",
              "      <td>ok lar... joking wif u oni...</td>\n",
              "    </tr>\n",
              "    <tr>\n",
              "      <th>2</th>\n",
              "      <td>spam</td>\n",
              "      <td>free entry in 2 a wkly comp to win fa cup fina...</td>\n",
              "    </tr>\n",
              "    <tr>\n",
              "      <th>3</th>\n",
              "      <td>ham</td>\n",
              "      <td>u dun say so early hor... u c already then say...</td>\n",
              "    </tr>\n",
              "    <tr>\n",
              "      <th>4</th>\n",
              "      <td>ham</td>\n",
              "      <td>nah i don't think he goes to usf, he lives aro...</td>\n",
              "    </tr>\n",
              "  </tbody>\n",
              "</table>\n",
              "</div>\n",
              "      <button class=\"colab-df-convert\" onclick=\"convertToInteractive('df-55d9f235-3940-48c5-a328-ee5332d7368d')\"\n",
              "              title=\"Convert this dataframe to an interactive table.\"\n",
              "              style=\"display:none;\">\n",
              "        \n",
              "  <svg xmlns=\"http://www.w3.org/2000/svg\" height=\"24px\"viewBox=\"0 0 24 24\"\n",
              "       width=\"24px\">\n",
              "    <path d=\"M0 0h24v24H0V0z\" fill=\"none\"/>\n",
              "    <path d=\"M18.56 5.44l.94 2.06.94-2.06 2.06-.94-2.06-.94-.94-2.06-.94 2.06-2.06.94zm-11 1L8.5 8.5l.94-2.06 2.06-.94-2.06-.94L8.5 2.5l-.94 2.06-2.06.94zm10 10l.94 2.06.94-2.06 2.06-.94-2.06-.94-.94-2.06-.94 2.06-2.06.94z\"/><path d=\"M17.41 7.96l-1.37-1.37c-.4-.4-.92-.59-1.43-.59-.52 0-1.04.2-1.43.59L10.3 9.45l-7.72 7.72c-.78.78-.78 2.05 0 2.83L4 21.41c.39.39.9.59 1.41.59.51 0 1.02-.2 1.41-.59l7.78-7.78 2.81-2.81c.8-.78.8-2.07 0-2.86zM5.41 20L4 18.59l7.72-7.72 1.47 1.35L5.41 20z\"/>\n",
              "  </svg>\n",
              "      </button>\n",
              "      \n",
              "  <style>\n",
              "    .colab-df-container {\n",
              "      display:flex;\n",
              "      flex-wrap:wrap;\n",
              "      gap: 12px;\n",
              "    }\n",
              "\n",
              "    .colab-df-convert {\n",
              "      background-color: #E8F0FE;\n",
              "      border: none;\n",
              "      border-radius: 50%;\n",
              "      cursor: pointer;\n",
              "      display: none;\n",
              "      fill: #1967D2;\n",
              "      height: 32px;\n",
              "      padding: 0 0 0 0;\n",
              "      width: 32px;\n",
              "    }\n",
              "\n",
              "    .colab-df-convert:hover {\n",
              "      background-color: #E2EBFA;\n",
              "      box-shadow: 0px 1px 2px rgba(60, 64, 67, 0.3), 0px 1px 3px 1px rgba(60, 64, 67, 0.15);\n",
              "      fill: #174EA6;\n",
              "    }\n",
              "\n",
              "    [theme=dark] .colab-df-convert {\n",
              "      background-color: #3B4455;\n",
              "      fill: #D2E3FC;\n",
              "    }\n",
              "\n",
              "    [theme=dark] .colab-df-convert:hover {\n",
              "      background-color: #434B5C;\n",
              "      box-shadow: 0px 1px 3px 1px rgba(0, 0, 0, 0.15);\n",
              "      filter: drop-shadow(0px 1px 2px rgba(0, 0, 0, 0.3));\n",
              "      fill: #FFFFFF;\n",
              "    }\n",
              "  </style>\n",
              "\n",
              "      <script>\n",
              "        const buttonEl =\n",
              "          document.querySelector('#df-55d9f235-3940-48c5-a328-ee5332d7368d button.colab-df-convert');\n",
              "        buttonEl.style.display =\n",
              "          google.colab.kernel.accessAllowed ? 'block' : 'none';\n",
              "\n",
              "        async function convertToInteractive(key) {\n",
              "          const element = document.querySelector('#df-55d9f235-3940-48c5-a328-ee5332d7368d');\n",
              "          const dataTable =\n",
              "            await google.colab.kernel.invokeFunction('convertToInteractive',\n",
              "                                                     [key], {});\n",
              "          if (!dataTable) return;\n",
              "\n",
              "          const docLinkHtml = 'Like what you see? Visit the ' +\n",
              "            '<a target=\"_blank\" href=https://colab.research.google.com/notebooks/data_table.ipynb>data table notebook</a>'\n",
              "            + ' to learn more about interactive tables.';\n",
              "          element.innerHTML = '';\n",
              "          dataTable['output_type'] = 'display_data';\n",
              "          await google.colab.output.renderOutput(dataTable, element);\n",
              "          const docLink = document.createElement('div');\n",
              "          docLink.innerHTML = docLinkHtml;\n",
              "          element.appendChild(docLink);\n",
              "        }\n",
              "      </script>\n",
              "    </div>\n",
              "  </div>\n",
              "  "
            ]
          },
          "metadata": {},
          "execution_count": 58
        }
      ]
    },
    {
      "cell_type": "code",
      "source": [
        "###### Label Encoding in the target column #######\n",
        "df.loc[:, 'Category'] = df.loc[:, 'Category'].map({'ham': 0, 'spam': 1})\n",
        "\n",
        "df.head()"
      ],
      "metadata": {
        "colab": {
          "base_uri": "https://localhost:8080/",
          "height": 206
        },
        "id": "SVtHTFw3bREe",
        "outputId": "31cbcf0b-cfbf-4681-ce9a-043eb805afb4"
      },
      "execution_count": 59,
      "outputs": [
        {
          "output_type": "execute_result",
          "data": {
            "text/plain": [
              "   Category                                            Message\n",
              "0         0  go until jurong point, crazy.. available only ...\n",
              "1         0                      ok lar... joking wif u oni...\n",
              "2         1  free entry in 2 a wkly comp to win fa cup fina...\n",
              "3         0  u dun say so early hor... u c already then say...\n",
              "4         0  nah i don't think he goes to usf, he lives aro..."
            ],
            "text/html": [
              "\n",
              "  <div id=\"df-4f71bc29-c7fb-4005-b92a-1e5e3a831ffd\">\n",
              "    <div class=\"colab-df-container\">\n",
              "      <div>\n",
              "<style scoped>\n",
              "    .dataframe tbody tr th:only-of-type {\n",
              "        vertical-align: middle;\n",
              "    }\n",
              "\n",
              "    .dataframe tbody tr th {\n",
              "        vertical-align: top;\n",
              "    }\n",
              "\n",
              "    .dataframe thead th {\n",
              "        text-align: right;\n",
              "    }\n",
              "</style>\n",
              "<table border=\"1\" class=\"dataframe\">\n",
              "  <thead>\n",
              "    <tr style=\"text-align: right;\">\n",
              "      <th></th>\n",
              "      <th>Category</th>\n",
              "      <th>Message</th>\n",
              "    </tr>\n",
              "  </thead>\n",
              "  <tbody>\n",
              "    <tr>\n",
              "      <th>0</th>\n",
              "      <td>0</td>\n",
              "      <td>go until jurong point, crazy.. available only ...</td>\n",
              "    </tr>\n",
              "    <tr>\n",
              "      <th>1</th>\n",
              "      <td>0</td>\n",
              "      <td>ok lar... joking wif u oni...</td>\n",
              "    </tr>\n",
              "    <tr>\n",
              "      <th>2</th>\n",
              "      <td>1</td>\n",
              "      <td>free entry in 2 a wkly comp to win fa cup fina...</td>\n",
              "    </tr>\n",
              "    <tr>\n",
              "      <th>3</th>\n",
              "      <td>0</td>\n",
              "      <td>u dun say so early hor... u c already then say...</td>\n",
              "    </tr>\n",
              "    <tr>\n",
              "      <th>4</th>\n",
              "      <td>0</td>\n",
              "      <td>nah i don't think he goes to usf, he lives aro...</td>\n",
              "    </tr>\n",
              "  </tbody>\n",
              "</table>\n",
              "</div>\n",
              "      <button class=\"colab-df-convert\" onclick=\"convertToInteractive('df-4f71bc29-c7fb-4005-b92a-1e5e3a831ffd')\"\n",
              "              title=\"Convert this dataframe to an interactive table.\"\n",
              "              style=\"display:none;\">\n",
              "        \n",
              "  <svg xmlns=\"http://www.w3.org/2000/svg\" height=\"24px\"viewBox=\"0 0 24 24\"\n",
              "       width=\"24px\">\n",
              "    <path d=\"M0 0h24v24H0V0z\" fill=\"none\"/>\n",
              "    <path d=\"M18.56 5.44l.94 2.06.94-2.06 2.06-.94-2.06-.94-.94-2.06-.94 2.06-2.06.94zm-11 1L8.5 8.5l.94-2.06 2.06-.94-2.06-.94L8.5 2.5l-.94 2.06-2.06.94zm10 10l.94 2.06.94-2.06 2.06-.94-2.06-.94-.94-2.06-.94 2.06-2.06.94z\"/><path d=\"M17.41 7.96l-1.37-1.37c-.4-.4-.92-.59-1.43-.59-.52 0-1.04.2-1.43.59L10.3 9.45l-7.72 7.72c-.78.78-.78 2.05 0 2.83L4 21.41c.39.39.9.59 1.41.59.51 0 1.02-.2 1.41-.59l7.78-7.78 2.81-2.81c.8-.78.8-2.07 0-2.86zM5.41 20L4 18.59l7.72-7.72 1.47 1.35L5.41 20z\"/>\n",
              "  </svg>\n",
              "      </button>\n",
              "      \n",
              "  <style>\n",
              "    .colab-df-container {\n",
              "      display:flex;\n",
              "      flex-wrap:wrap;\n",
              "      gap: 12px;\n",
              "    }\n",
              "\n",
              "    .colab-df-convert {\n",
              "      background-color: #E8F0FE;\n",
              "      border: none;\n",
              "      border-radius: 50%;\n",
              "      cursor: pointer;\n",
              "      display: none;\n",
              "      fill: #1967D2;\n",
              "      height: 32px;\n",
              "      padding: 0 0 0 0;\n",
              "      width: 32px;\n",
              "    }\n",
              "\n",
              "    .colab-df-convert:hover {\n",
              "      background-color: #E2EBFA;\n",
              "      box-shadow: 0px 1px 2px rgba(60, 64, 67, 0.3), 0px 1px 3px 1px rgba(60, 64, 67, 0.15);\n",
              "      fill: #174EA6;\n",
              "    }\n",
              "\n",
              "    [theme=dark] .colab-df-convert {\n",
              "      background-color: #3B4455;\n",
              "      fill: #D2E3FC;\n",
              "    }\n",
              "\n",
              "    [theme=dark] .colab-df-convert:hover {\n",
              "      background-color: #434B5C;\n",
              "      box-shadow: 0px 1px 3px 1px rgba(0, 0, 0, 0.15);\n",
              "      filter: drop-shadow(0px 1px 2px rgba(0, 0, 0, 0.3));\n",
              "      fill: #FFFFFF;\n",
              "    }\n",
              "  </style>\n",
              "\n",
              "      <script>\n",
              "        const buttonEl =\n",
              "          document.querySelector('#df-4f71bc29-c7fb-4005-b92a-1e5e3a831ffd button.colab-df-convert');\n",
              "        buttonEl.style.display =\n",
              "          google.colab.kernel.accessAllowed ? 'block' : 'none';\n",
              "\n",
              "        async function convertToInteractive(key) {\n",
              "          const element = document.querySelector('#df-4f71bc29-c7fb-4005-b92a-1e5e3a831ffd');\n",
              "          const dataTable =\n",
              "            await google.colab.kernel.invokeFunction('convertToInteractive',\n",
              "                                                     [key], {});\n",
              "          if (!dataTable) return;\n",
              "\n",
              "          const docLinkHtml = 'Like what you see? Visit the ' +\n",
              "            '<a target=\"_blank\" href=https://colab.research.google.com/notebooks/data_table.ipynb>data table notebook</a>'\n",
              "            + ' to learn more about interactive tables.';\n",
              "          element.innerHTML = '';\n",
              "          dataTable['output_type'] = 'display_data';\n",
              "          await google.colab.output.renderOutput(dataTable, element);\n",
              "          const docLink = document.createElement('div');\n",
              "          docLink.innerHTML = docLinkHtml;\n",
              "          element.appendChild(docLink);\n",
              "        }\n",
              "      </script>\n",
              "    </div>\n",
              "  </div>\n",
              "  "
            ]
          },
          "metadata": {},
          "execution_count": 59
        }
      ]
    },
    {
      "cell_type": "code",
      "source": [
        "###### Remove all unnecssay tagline from the dataset ######\n",
        "def removeTag(eachRow_):\n",
        "  clean_text_ =  re.sub(re.compile('[^a-zA-Z]'), ' ', eachRow_)\n",
        "  return clean_text_\n",
        "\n",
        "df.loc[:, 'Message'] = df.loc[:, 'Message'].apply(removeTag)\n",
        "\n",
        "df.head()"
      ],
      "metadata": {
        "colab": {
          "base_uri": "https://localhost:8080/",
          "height": 206
        },
        "id": "YwWex_pmbRGw",
        "outputId": "bac0b08b-a4a2-4de9-f7fb-8496abe0580e"
      },
      "execution_count": 60,
      "outputs": [
        {
          "output_type": "execute_result",
          "data": {
            "text/plain": [
              "   Category                                            Message\n",
              "0         0  go until jurong point  crazy   available only ...\n",
              "1         0                      ok lar    joking wif u oni   \n",
              "2         1  free entry in   a wkly comp to win fa cup fina...\n",
              "3         0  u dun say so early hor    u c already then say   \n",
              "4         0  nah i don t think he goes to usf  he lives aro..."
            ],
            "text/html": [
              "\n",
              "  <div id=\"df-3abfd9df-aba5-44c0-9282-70d2bbcc9bba\">\n",
              "    <div class=\"colab-df-container\">\n",
              "      <div>\n",
              "<style scoped>\n",
              "    .dataframe tbody tr th:only-of-type {\n",
              "        vertical-align: middle;\n",
              "    }\n",
              "\n",
              "    .dataframe tbody tr th {\n",
              "        vertical-align: top;\n",
              "    }\n",
              "\n",
              "    .dataframe thead th {\n",
              "        text-align: right;\n",
              "    }\n",
              "</style>\n",
              "<table border=\"1\" class=\"dataframe\">\n",
              "  <thead>\n",
              "    <tr style=\"text-align: right;\">\n",
              "      <th></th>\n",
              "      <th>Category</th>\n",
              "      <th>Message</th>\n",
              "    </tr>\n",
              "  </thead>\n",
              "  <tbody>\n",
              "    <tr>\n",
              "      <th>0</th>\n",
              "      <td>0</td>\n",
              "      <td>go until jurong point  crazy   available only ...</td>\n",
              "    </tr>\n",
              "    <tr>\n",
              "      <th>1</th>\n",
              "      <td>0</td>\n",
              "      <td>ok lar    joking wif u oni</td>\n",
              "    </tr>\n",
              "    <tr>\n",
              "      <th>2</th>\n",
              "      <td>1</td>\n",
              "      <td>free entry in   a wkly comp to win fa cup fina...</td>\n",
              "    </tr>\n",
              "    <tr>\n",
              "      <th>3</th>\n",
              "      <td>0</td>\n",
              "      <td>u dun say so early hor    u c already then say</td>\n",
              "    </tr>\n",
              "    <tr>\n",
              "      <th>4</th>\n",
              "      <td>0</td>\n",
              "      <td>nah i don t think he goes to usf  he lives aro...</td>\n",
              "    </tr>\n",
              "  </tbody>\n",
              "</table>\n",
              "</div>\n",
              "      <button class=\"colab-df-convert\" onclick=\"convertToInteractive('df-3abfd9df-aba5-44c0-9282-70d2bbcc9bba')\"\n",
              "              title=\"Convert this dataframe to an interactive table.\"\n",
              "              style=\"display:none;\">\n",
              "        \n",
              "  <svg xmlns=\"http://www.w3.org/2000/svg\" height=\"24px\"viewBox=\"0 0 24 24\"\n",
              "       width=\"24px\">\n",
              "    <path d=\"M0 0h24v24H0V0z\" fill=\"none\"/>\n",
              "    <path d=\"M18.56 5.44l.94 2.06.94-2.06 2.06-.94-2.06-.94-.94-2.06-.94 2.06-2.06.94zm-11 1L8.5 8.5l.94-2.06 2.06-.94-2.06-.94L8.5 2.5l-.94 2.06-2.06.94zm10 10l.94 2.06.94-2.06 2.06-.94-2.06-.94-.94-2.06-.94 2.06-2.06.94z\"/><path d=\"M17.41 7.96l-1.37-1.37c-.4-.4-.92-.59-1.43-.59-.52 0-1.04.2-1.43.59L10.3 9.45l-7.72 7.72c-.78.78-.78 2.05 0 2.83L4 21.41c.39.39.9.59 1.41.59.51 0 1.02-.2 1.41-.59l7.78-7.78 2.81-2.81c.8-.78.8-2.07 0-2.86zM5.41 20L4 18.59l7.72-7.72 1.47 1.35L5.41 20z\"/>\n",
              "  </svg>\n",
              "      </button>\n",
              "      \n",
              "  <style>\n",
              "    .colab-df-container {\n",
              "      display:flex;\n",
              "      flex-wrap:wrap;\n",
              "      gap: 12px;\n",
              "    }\n",
              "\n",
              "    .colab-df-convert {\n",
              "      background-color: #E8F0FE;\n",
              "      border: none;\n",
              "      border-radius: 50%;\n",
              "      cursor: pointer;\n",
              "      display: none;\n",
              "      fill: #1967D2;\n",
              "      height: 32px;\n",
              "      padding: 0 0 0 0;\n",
              "      width: 32px;\n",
              "    }\n",
              "\n",
              "    .colab-df-convert:hover {\n",
              "      background-color: #E2EBFA;\n",
              "      box-shadow: 0px 1px 2px rgba(60, 64, 67, 0.3), 0px 1px 3px 1px rgba(60, 64, 67, 0.15);\n",
              "      fill: #174EA6;\n",
              "    }\n",
              "\n",
              "    [theme=dark] .colab-df-convert {\n",
              "      background-color: #3B4455;\n",
              "      fill: #D2E3FC;\n",
              "    }\n",
              "\n",
              "    [theme=dark] .colab-df-convert:hover {\n",
              "      background-color: #434B5C;\n",
              "      box-shadow: 0px 1px 3px 1px rgba(0, 0, 0, 0.15);\n",
              "      filter: drop-shadow(0px 1px 2px rgba(0, 0, 0, 0.3));\n",
              "      fill: #FFFFFF;\n",
              "    }\n",
              "  </style>\n",
              "\n",
              "      <script>\n",
              "        const buttonEl =\n",
              "          document.querySelector('#df-3abfd9df-aba5-44c0-9282-70d2bbcc9bba button.colab-df-convert');\n",
              "        buttonEl.style.display =\n",
              "          google.colab.kernel.accessAllowed ? 'block' : 'none';\n",
              "\n",
              "        async function convertToInteractive(key) {\n",
              "          const element = document.querySelector('#df-3abfd9df-aba5-44c0-9282-70d2bbcc9bba');\n",
              "          const dataTable =\n",
              "            await google.colab.kernel.invokeFunction('convertToInteractive',\n",
              "                                                     [key], {});\n",
              "          if (!dataTable) return;\n",
              "\n",
              "          const docLinkHtml = 'Like what you see? Visit the ' +\n",
              "            '<a target=\"_blank\" href=https://colab.research.google.com/notebooks/data_table.ipynb>data table notebook</a>'\n",
              "            + ' to learn more about interactive tables.';\n",
              "          element.innerHTML = '';\n",
              "          dataTable['output_type'] = 'display_data';\n",
              "          await google.colab.output.renderOutput(dataTable, element);\n",
              "          const docLink = document.createElement('div');\n",
              "          docLink.innerHTML = docLinkHtml;\n",
              "          element.appendChild(docLink);\n",
              "        }\n",
              "      </script>\n",
              "    </div>\n",
              "  </div>\n",
              "  "
            ]
          },
          "metadata": {},
          "execution_count": 60
        }
      ]
    },
    {
      "cell_type": "code",
      "source": [
        "###### Remove the stopwords ######\n",
        "def remove_stopwords(eachRecord_):\n",
        "  cleaned_text_ = []\n",
        "\n",
        "  for word_ in word_tokenize(eachRecord_):\n",
        "    if word_ in stopwords.words('english'):\n",
        "      pass\n",
        "    else:\n",
        "      cleaned_text_.append(word_)\n",
        "  \n",
        "  return ' '.join(cleaned_text_)\n",
        "\n",
        "df.loc[:, 'Message'] = df.loc[:, 'Message'].apply(remove_stopwords)\n",
        "print(\"Stopwords have been deleted from the dataset.\")\n",
        "\n",
        "df.head()"
      ],
      "metadata": {
        "colab": {
          "base_uri": "https://localhost:8080/",
          "height": 223
        },
        "id": "t5mLsCt4bRIy",
        "outputId": "1cdfb20c-bac9-4666-d625-ce349ea22294"
      },
      "execution_count": 61,
      "outputs": [
        {
          "output_type": "stream",
          "name": "stdout",
          "text": [
            "Stopwords have been deleted from the dataset.\n"
          ]
        },
        {
          "output_type": "execute_result",
          "data": {
            "text/plain": [
              "   Category                                            Message\n",
              "0         0  go jurong point crazy available bugis n great ...\n",
              "1         0                            ok lar joking wif u oni\n",
              "2         1  free entry wkly comp win fa cup final tkts st ...\n",
              "3         0                u dun say early hor u c already say\n",
              "4         0             nah think goes usf lives around though"
            ],
            "text/html": [
              "\n",
              "  <div id=\"df-45a94245-eb78-4094-9c00-437445ea84bc\">\n",
              "    <div class=\"colab-df-container\">\n",
              "      <div>\n",
              "<style scoped>\n",
              "    .dataframe tbody tr th:only-of-type {\n",
              "        vertical-align: middle;\n",
              "    }\n",
              "\n",
              "    .dataframe tbody tr th {\n",
              "        vertical-align: top;\n",
              "    }\n",
              "\n",
              "    .dataframe thead th {\n",
              "        text-align: right;\n",
              "    }\n",
              "</style>\n",
              "<table border=\"1\" class=\"dataframe\">\n",
              "  <thead>\n",
              "    <tr style=\"text-align: right;\">\n",
              "      <th></th>\n",
              "      <th>Category</th>\n",
              "      <th>Message</th>\n",
              "    </tr>\n",
              "  </thead>\n",
              "  <tbody>\n",
              "    <tr>\n",
              "      <th>0</th>\n",
              "      <td>0</td>\n",
              "      <td>go jurong point crazy available bugis n great ...</td>\n",
              "    </tr>\n",
              "    <tr>\n",
              "      <th>1</th>\n",
              "      <td>0</td>\n",
              "      <td>ok lar joking wif u oni</td>\n",
              "    </tr>\n",
              "    <tr>\n",
              "      <th>2</th>\n",
              "      <td>1</td>\n",
              "      <td>free entry wkly comp win fa cup final tkts st ...</td>\n",
              "    </tr>\n",
              "    <tr>\n",
              "      <th>3</th>\n",
              "      <td>0</td>\n",
              "      <td>u dun say early hor u c already say</td>\n",
              "    </tr>\n",
              "    <tr>\n",
              "      <th>4</th>\n",
              "      <td>0</td>\n",
              "      <td>nah think goes usf lives around though</td>\n",
              "    </tr>\n",
              "  </tbody>\n",
              "</table>\n",
              "</div>\n",
              "      <button class=\"colab-df-convert\" onclick=\"convertToInteractive('df-45a94245-eb78-4094-9c00-437445ea84bc')\"\n",
              "              title=\"Convert this dataframe to an interactive table.\"\n",
              "              style=\"display:none;\">\n",
              "        \n",
              "  <svg xmlns=\"http://www.w3.org/2000/svg\" height=\"24px\"viewBox=\"0 0 24 24\"\n",
              "       width=\"24px\">\n",
              "    <path d=\"M0 0h24v24H0V0z\" fill=\"none\"/>\n",
              "    <path d=\"M18.56 5.44l.94 2.06.94-2.06 2.06-.94-2.06-.94-.94-2.06-.94 2.06-2.06.94zm-11 1L8.5 8.5l.94-2.06 2.06-.94-2.06-.94L8.5 2.5l-.94 2.06-2.06.94zm10 10l.94 2.06.94-2.06 2.06-.94-2.06-.94-.94-2.06-.94 2.06-2.06.94z\"/><path d=\"M17.41 7.96l-1.37-1.37c-.4-.4-.92-.59-1.43-.59-.52 0-1.04.2-1.43.59L10.3 9.45l-7.72 7.72c-.78.78-.78 2.05 0 2.83L4 21.41c.39.39.9.59 1.41.59.51 0 1.02-.2 1.41-.59l7.78-7.78 2.81-2.81c.8-.78.8-2.07 0-2.86zM5.41 20L4 18.59l7.72-7.72 1.47 1.35L5.41 20z\"/>\n",
              "  </svg>\n",
              "      </button>\n",
              "      \n",
              "  <style>\n",
              "    .colab-df-container {\n",
              "      display:flex;\n",
              "      flex-wrap:wrap;\n",
              "      gap: 12px;\n",
              "    }\n",
              "\n",
              "    .colab-df-convert {\n",
              "      background-color: #E8F0FE;\n",
              "      border: none;\n",
              "      border-radius: 50%;\n",
              "      cursor: pointer;\n",
              "      display: none;\n",
              "      fill: #1967D2;\n",
              "      height: 32px;\n",
              "      padding: 0 0 0 0;\n",
              "      width: 32px;\n",
              "    }\n",
              "\n",
              "    .colab-df-convert:hover {\n",
              "      background-color: #E2EBFA;\n",
              "      box-shadow: 0px 1px 2px rgba(60, 64, 67, 0.3), 0px 1px 3px 1px rgba(60, 64, 67, 0.15);\n",
              "      fill: #174EA6;\n",
              "    }\n",
              "\n",
              "    [theme=dark] .colab-df-convert {\n",
              "      background-color: #3B4455;\n",
              "      fill: #D2E3FC;\n",
              "    }\n",
              "\n",
              "    [theme=dark] .colab-df-convert:hover {\n",
              "      background-color: #434B5C;\n",
              "      box-shadow: 0px 1px 3px 1px rgba(0, 0, 0, 0.15);\n",
              "      filter: drop-shadow(0px 1px 2px rgba(0, 0, 0, 0.3));\n",
              "      fill: #FFFFFF;\n",
              "    }\n",
              "  </style>\n",
              "\n",
              "      <script>\n",
              "        const buttonEl =\n",
              "          document.querySelector('#df-45a94245-eb78-4094-9c00-437445ea84bc button.colab-df-convert');\n",
              "        buttonEl.style.display =\n",
              "          google.colab.kernel.accessAllowed ? 'block' : 'none';\n",
              "\n",
              "        async function convertToInteractive(key) {\n",
              "          const element = document.querySelector('#df-45a94245-eb78-4094-9c00-437445ea84bc');\n",
              "          const dataTable =\n",
              "            await google.colab.kernel.invokeFunction('convertToInteractive',\n",
              "                                                     [key], {});\n",
              "          if (!dataTable) return;\n",
              "\n",
              "          const docLinkHtml = 'Like what you see? Visit the ' +\n",
              "            '<a target=\"_blank\" href=https://colab.research.google.com/notebooks/data_table.ipynb>data table notebook</a>'\n",
              "            + ' to learn more about interactive tables.';\n",
              "          element.innerHTML = '';\n",
              "          dataTable['output_type'] = 'display_data';\n",
              "          await google.colab.output.renderOutput(dataTable, element);\n",
              "          const docLink = document.createElement('div');\n",
              "          docLink.innerHTML = docLinkHtml;\n",
              "          element.appendChild(docLink);\n",
              "        }\n",
              "      </script>\n",
              "    </div>\n",
              "  </div>\n",
              "  "
            ]
          },
          "metadata": {},
          "execution_count": 61
        }
      ]
    },
    {
      "cell_type": "code",
      "source": [
        "###### Using Stemming in this dataset #######\n",
        "WordNetLemmatizer_ = WordNetLemmatizer()\n",
        "def stemming(eachRecord_):\n",
        "  cleaned_text_ = []\n",
        "\n",
        "  for word_ in word_tokenize(eachRecord_):\n",
        "    cleaned_text_.append(WordNetLemmatizer_.lemmatize(word_))\n",
        "\n",
        "  return ' '.join(cleaned_text_)\n",
        "\n",
        "df.loc[:, 'Message'] = df.loc[:, 'Message'].apply(stemming)\n",
        "\n",
        "df.head()"
      ],
      "metadata": {
        "colab": {
          "base_uri": "https://localhost:8080/",
          "height": 206
        },
        "id": "QB6YcYZIbRLB",
        "outputId": "9af4af91-c407-41ad-f7d3-824d6d55abb6"
      },
      "execution_count": 62,
      "outputs": [
        {
          "output_type": "execute_result",
          "data": {
            "text/plain": [
              "   Category                                            Message\n",
              "0         0  go jurong point crazy available bugis n great ...\n",
              "1         0                            ok lar joking wif u oni\n",
              "2         1  free entry wkly comp win fa cup final tkts st ...\n",
              "3         0                u dun say early hor u c already say\n",
              "4         0                nah think go usf life around though"
            ],
            "text/html": [
              "\n",
              "  <div id=\"df-6bca1933-c0c4-4d05-9235-4f7c894baa60\">\n",
              "    <div class=\"colab-df-container\">\n",
              "      <div>\n",
              "<style scoped>\n",
              "    .dataframe tbody tr th:only-of-type {\n",
              "        vertical-align: middle;\n",
              "    }\n",
              "\n",
              "    .dataframe tbody tr th {\n",
              "        vertical-align: top;\n",
              "    }\n",
              "\n",
              "    .dataframe thead th {\n",
              "        text-align: right;\n",
              "    }\n",
              "</style>\n",
              "<table border=\"1\" class=\"dataframe\">\n",
              "  <thead>\n",
              "    <tr style=\"text-align: right;\">\n",
              "      <th></th>\n",
              "      <th>Category</th>\n",
              "      <th>Message</th>\n",
              "    </tr>\n",
              "  </thead>\n",
              "  <tbody>\n",
              "    <tr>\n",
              "      <th>0</th>\n",
              "      <td>0</td>\n",
              "      <td>go jurong point crazy available bugis n great ...</td>\n",
              "    </tr>\n",
              "    <tr>\n",
              "      <th>1</th>\n",
              "      <td>0</td>\n",
              "      <td>ok lar joking wif u oni</td>\n",
              "    </tr>\n",
              "    <tr>\n",
              "      <th>2</th>\n",
              "      <td>1</td>\n",
              "      <td>free entry wkly comp win fa cup final tkts st ...</td>\n",
              "    </tr>\n",
              "    <tr>\n",
              "      <th>3</th>\n",
              "      <td>0</td>\n",
              "      <td>u dun say early hor u c already say</td>\n",
              "    </tr>\n",
              "    <tr>\n",
              "      <th>4</th>\n",
              "      <td>0</td>\n",
              "      <td>nah think go usf life around though</td>\n",
              "    </tr>\n",
              "  </tbody>\n",
              "</table>\n",
              "</div>\n",
              "      <button class=\"colab-df-convert\" onclick=\"convertToInteractive('df-6bca1933-c0c4-4d05-9235-4f7c894baa60')\"\n",
              "              title=\"Convert this dataframe to an interactive table.\"\n",
              "              style=\"display:none;\">\n",
              "        \n",
              "  <svg xmlns=\"http://www.w3.org/2000/svg\" height=\"24px\"viewBox=\"0 0 24 24\"\n",
              "       width=\"24px\">\n",
              "    <path d=\"M0 0h24v24H0V0z\" fill=\"none\"/>\n",
              "    <path d=\"M18.56 5.44l.94 2.06.94-2.06 2.06-.94-2.06-.94-.94-2.06-.94 2.06-2.06.94zm-11 1L8.5 8.5l.94-2.06 2.06-.94-2.06-.94L8.5 2.5l-.94 2.06-2.06.94zm10 10l.94 2.06.94-2.06 2.06-.94-2.06-.94-.94-2.06-.94 2.06-2.06.94z\"/><path d=\"M17.41 7.96l-1.37-1.37c-.4-.4-.92-.59-1.43-.59-.52 0-1.04.2-1.43.59L10.3 9.45l-7.72 7.72c-.78.78-.78 2.05 0 2.83L4 21.41c.39.39.9.59 1.41.59.51 0 1.02-.2 1.41-.59l7.78-7.78 2.81-2.81c.8-.78.8-2.07 0-2.86zM5.41 20L4 18.59l7.72-7.72 1.47 1.35L5.41 20z\"/>\n",
              "  </svg>\n",
              "      </button>\n",
              "      \n",
              "  <style>\n",
              "    .colab-df-container {\n",
              "      display:flex;\n",
              "      flex-wrap:wrap;\n",
              "      gap: 12px;\n",
              "    }\n",
              "\n",
              "    .colab-df-convert {\n",
              "      background-color: #E8F0FE;\n",
              "      border: none;\n",
              "      border-radius: 50%;\n",
              "      cursor: pointer;\n",
              "      display: none;\n",
              "      fill: #1967D2;\n",
              "      height: 32px;\n",
              "      padding: 0 0 0 0;\n",
              "      width: 32px;\n",
              "    }\n",
              "\n",
              "    .colab-df-convert:hover {\n",
              "      background-color: #E2EBFA;\n",
              "      box-shadow: 0px 1px 2px rgba(60, 64, 67, 0.3), 0px 1px 3px 1px rgba(60, 64, 67, 0.15);\n",
              "      fill: #174EA6;\n",
              "    }\n",
              "\n",
              "    [theme=dark] .colab-df-convert {\n",
              "      background-color: #3B4455;\n",
              "      fill: #D2E3FC;\n",
              "    }\n",
              "\n",
              "    [theme=dark] .colab-df-convert:hover {\n",
              "      background-color: #434B5C;\n",
              "      box-shadow: 0px 1px 3px 1px rgba(0, 0, 0, 0.15);\n",
              "      filter: drop-shadow(0px 1px 2px rgba(0, 0, 0, 0.3));\n",
              "      fill: #FFFFFF;\n",
              "    }\n",
              "  </style>\n",
              "\n",
              "      <script>\n",
              "        const buttonEl =\n",
              "          document.querySelector('#df-6bca1933-c0c4-4d05-9235-4f7c894baa60 button.colab-df-convert');\n",
              "        buttonEl.style.display =\n",
              "          google.colab.kernel.accessAllowed ? 'block' : 'none';\n",
              "\n",
              "        async function convertToInteractive(key) {\n",
              "          const element = document.querySelector('#df-6bca1933-c0c4-4d05-9235-4f7c894baa60');\n",
              "          const dataTable =\n",
              "            await google.colab.kernel.invokeFunction('convertToInteractive',\n",
              "                                                     [key], {});\n",
              "          if (!dataTable) return;\n",
              "\n",
              "          const docLinkHtml = 'Like what you see? Visit the ' +\n",
              "            '<a target=\"_blank\" href=https://colab.research.google.com/notebooks/data_table.ipynb>data table notebook</a>'\n",
              "            + ' to learn more about interactive tables.';\n",
              "          element.innerHTML = '';\n",
              "          dataTable['output_type'] = 'display_data';\n",
              "          await google.colab.output.renderOutput(dataTable, element);\n",
              "          const docLink = document.createElement('div');\n",
              "          docLink.innerHTML = docLinkHtml;\n",
              "          element.appendChild(docLink);\n",
              "        }\n",
              "      </script>\n",
              "    </div>\n",
              "  </div>\n",
              "  "
            ]
          },
          "metadata": {},
          "execution_count": 62
        }
      ]
    },
    {
      "cell_type": "code",
      "source": [
        "import gensim\n",
        "from gensim.utils import simple_preprocess\n",
        "\n",
        "message_ = []\n",
        "\n",
        "for document_ in df.loc[:, 'Message']:\n",
        "  each_sentence = sent_tokenize(document_)\n",
        "  for sentence_ in each_sentence:\n",
        "    message_.append(simple_preprocess(sentence_))"
      ],
      "metadata": {
        "id": "5-5_BPz5bRNF"
      },
      "execution_count": 63,
      "outputs": []
    },
    {
      "cell_type": "code",
      "source": [
        "message_[0]"
      ],
      "metadata": {
        "colab": {
          "base_uri": "https://localhost:8080/"
        },
        "id": "EbTAzskSdgRr",
        "outputId": "08121614-cdaf-46e8-aa62-ee018534995b"
      },
      "execution_count": 64,
      "outputs": [
        {
          "output_type": "execute_result",
          "data": {
            "text/plain": [
              "['go',\n",
              " 'jurong',\n",
              " 'point',\n",
              " 'crazy',\n",
              " 'available',\n",
              " 'bugis',\n",
              " 'great',\n",
              " 'world',\n",
              " 'la',\n",
              " 'buffet',\n",
              " 'cine',\n",
              " 'got',\n",
              " 'amore',\n",
              " 'wat']"
            ]
          },
          "metadata": {},
          "execution_count": 64
        }
      ]
    },
    {
      "cell_type": "code",
      "source": [
        "message_[1]"
      ],
      "metadata": {
        "colab": {
          "base_uri": "https://localhost:8080/"
        },
        "id": "fLj0m8cEdivb",
        "outputId": "65bb3514-e789-4448-91ad-c069fbd1c515"
      },
      "execution_count": 65,
      "outputs": [
        {
          "output_type": "execute_result",
          "data": {
            "text/plain": [
              "['ok', 'lar', 'joking', 'wif', 'oni']"
            ]
          },
          "metadata": {},
          "execution_count": 65
        }
      ]
    },
    {
      "cell_type": "code",
      "source": [
        "check_ = pd.DataFrame((np.array(message_)), columns = ['text'])\n",
        "check_.loc[:, 'text'] = check_.loc[:, 'text'].apply(lambda x: ' '.join(x))\n",
        "check_.head()"
      ],
      "metadata": {
        "colab": {
          "base_uri": "https://localhost:8080/",
          "height": 261
        },
        "id": "cQN2AfEIcuq-",
        "outputId": "2147ffe0-3fab-43db-8a35-b6c8107124b2"
      },
      "execution_count": 66,
      "outputs": [
        {
          "output_type": "stream",
          "name": "stderr",
          "text": [
            "/usr/local/lib/python3.7/dist-packages/ipykernel_launcher.py:1: VisibleDeprecationWarning: Creating an ndarray from ragged nested sequences (which is a list-or-tuple of lists-or-tuples-or ndarrays with different lengths or shapes) is deprecated. If you meant to do this, you must specify 'dtype=object' when creating the ndarray.\n",
            "  \"\"\"Entry point for launching an IPython kernel.\n"
          ]
        },
        {
          "output_type": "execute_result",
          "data": {
            "text/plain": [
              "                                                text\n",
              "0  go jurong point crazy available bugis great wo...\n",
              "1                              ok lar joking wif oni\n",
              "2  free entry wkly comp win fa cup final tkts st ...\n",
              "3                      dun say early hor already say\n",
              "4                nah think go usf life around though"
            ],
            "text/html": [
              "\n",
              "  <div id=\"df-7c6629db-6a82-491d-bc8e-da1b30558b12\">\n",
              "    <div class=\"colab-df-container\">\n",
              "      <div>\n",
              "<style scoped>\n",
              "    .dataframe tbody tr th:only-of-type {\n",
              "        vertical-align: middle;\n",
              "    }\n",
              "\n",
              "    .dataframe tbody tr th {\n",
              "        vertical-align: top;\n",
              "    }\n",
              "\n",
              "    .dataframe thead th {\n",
              "        text-align: right;\n",
              "    }\n",
              "</style>\n",
              "<table border=\"1\" class=\"dataframe\">\n",
              "  <thead>\n",
              "    <tr style=\"text-align: right;\">\n",
              "      <th></th>\n",
              "      <th>text</th>\n",
              "    </tr>\n",
              "  </thead>\n",
              "  <tbody>\n",
              "    <tr>\n",
              "      <th>0</th>\n",
              "      <td>go jurong point crazy available bugis great wo...</td>\n",
              "    </tr>\n",
              "    <tr>\n",
              "      <th>1</th>\n",
              "      <td>ok lar joking wif oni</td>\n",
              "    </tr>\n",
              "    <tr>\n",
              "      <th>2</th>\n",
              "      <td>free entry wkly comp win fa cup final tkts st ...</td>\n",
              "    </tr>\n",
              "    <tr>\n",
              "      <th>3</th>\n",
              "      <td>dun say early hor already say</td>\n",
              "    </tr>\n",
              "    <tr>\n",
              "      <th>4</th>\n",
              "      <td>nah think go usf life around though</td>\n",
              "    </tr>\n",
              "  </tbody>\n",
              "</table>\n",
              "</div>\n",
              "      <button class=\"colab-df-convert\" onclick=\"convertToInteractive('df-7c6629db-6a82-491d-bc8e-da1b30558b12')\"\n",
              "              title=\"Convert this dataframe to an interactive table.\"\n",
              "              style=\"display:none;\">\n",
              "        \n",
              "  <svg xmlns=\"http://www.w3.org/2000/svg\" height=\"24px\"viewBox=\"0 0 24 24\"\n",
              "       width=\"24px\">\n",
              "    <path d=\"M0 0h24v24H0V0z\" fill=\"none\"/>\n",
              "    <path d=\"M18.56 5.44l.94 2.06.94-2.06 2.06-.94-2.06-.94-.94-2.06-.94 2.06-2.06.94zm-11 1L8.5 8.5l.94-2.06 2.06-.94-2.06-.94L8.5 2.5l-.94 2.06-2.06.94zm10 10l.94 2.06.94-2.06 2.06-.94-2.06-.94-.94-2.06-.94 2.06-2.06.94z\"/><path d=\"M17.41 7.96l-1.37-1.37c-.4-.4-.92-.59-1.43-.59-.52 0-1.04.2-1.43.59L10.3 9.45l-7.72 7.72c-.78.78-.78 2.05 0 2.83L4 21.41c.39.39.9.59 1.41.59.51 0 1.02-.2 1.41-.59l7.78-7.78 2.81-2.81c.8-.78.8-2.07 0-2.86zM5.41 20L4 18.59l7.72-7.72 1.47 1.35L5.41 20z\"/>\n",
              "  </svg>\n",
              "      </button>\n",
              "      \n",
              "  <style>\n",
              "    .colab-df-container {\n",
              "      display:flex;\n",
              "      flex-wrap:wrap;\n",
              "      gap: 12px;\n",
              "    }\n",
              "\n",
              "    .colab-df-convert {\n",
              "      background-color: #E8F0FE;\n",
              "      border: none;\n",
              "      border-radius: 50%;\n",
              "      cursor: pointer;\n",
              "      display: none;\n",
              "      fill: #1967D2;\n",
              "      height: 32px;\n",
              "      padding: 0 0 0 0;\n",
              "      width: 32px;\n",
              "    }\n",
              "\n",
              "    .colab-df-convert:hover {\n",
              "      background-color: #E2EBFA;\n",
              "      box-shadow: 0px 1px 2px rgba(60, 64, 67, 0.3), 0px 1px 3px 1px rgba(60, 64, 67, 0.15);\n",
              "      fill: #174EA6;\n",
              "    }\n",
              "\n",
              "    [theme=dark] .colab-df-convert {\n",
              "      background-color: #3B4455;\n",
              "      fill: #D2E3FC;\n",
              "    }\n",
              "\n",
              "    [theme=dark] .colab-df-convert:hover {\n",
              "      background-color: #434B5C;\n",
              "      box-shadow: 0px 1px 3px 1px rgba(0, 0, 0, 0.15);\n",
              "      filter: drop-shadow(0px 1px 2px rgba(0, 0, 0, 0.3));\n",
              "      fill: #FFFFFF;\n",
              "    }\n",
              "  </style>\n",
              "\n",
              "      <script>\n",
              "        const buttonEl =\n",
              "          document.querySelector('#df-7c6629db-6a82-491d-bc8e-da1b30558b12 button.colab-df-convert');\n",
              "        buttonEl.style.display =\n",
              "          google.colab.kernel.accessAllowed ? 'block' : 'none';\n",
              "\n",
              "        async function convertToInteractive(key) {\n",
              "          const element = document.querySelector('#df-7c6629db-6a82-491d-bc8e-da1b30558b12');\n",
              "          const dataTable =\n",
              "            await google.colab.kernel.invokeFunction('convertToInteractive',\n",
              "                                                     [key], {});\n",
              "          if (!dataTable) return;\n",
              "\n",
              "          const docLinkHtml = 'Like what you see? Visit the ' +\n",
              "            '<a target=\"_blank\" href=https://colab.research.google.com/notebooks/data_table.ipynb>data table notebook</a>'\n",
              "            + ' to learn more about interactive tables.';\n",
              "          element.innerHTML = '';\n",
              "          dataTable['output_type'] = 'display_data';\n",
              "          await google.colab.output.renderOutput(dataTable, element);\n",
              "          const docLink = document.createElement('div');\n",
              "          docLink.innerHTML = docLinkHtml;\n",
              "          element.appendChild(docLink);\n",
              "        }\n",
              "      </script>\n",
              "    </div>\n",
              "  </div>\n",
              "  "
            ]
          },
          "metadata": {},
          "execution_count": 66
        }
      ]
    },
    {
      "cell_type": "code",
      "source": [
        "###### Now using Gensim function ######\n",
        "\n",
        "word2vec_ = gensim.models.Word2Vec(window = 10, min_count = 2)"
      ],
      "metadata": {
        "id": "A3qjMnn5bRQq"
      },
      "execution_count": 67,
      "outputs": []
    },
    {
      "cell_type": "code",
      "source": [
        "##### BUILD THE VOCABULARY FROM THE MESSAGE CORPUS #####\n",
        "word2vec_.build_vocab(message_)"
      ],
      "metadata": {
        "id": "L197GfdddmnP"
      },
      "execution_count": 68,
      "outputs": []
    },
    {
      "cell_type": "code",
      "source": [
        "word2vec_.train(message_, total_examples = word2vec_.corpus_count, epochs = word2vec_.epochs)"
      ],
      "metadata": {
        "colab": {
          "base_uri": "https://localhost:8080/"
        },
        "id": "kebiycVGdmqt",
        "outputId": "0981ec3a-bce5-4e4f-ab03-9c79f48f5f20"
      },
      "execution_count": 69,
      "outputs": [
        {
          "output_type": "stream",
          "name": "stderr",
          "text": [
            "WARNING:gensim.models.base_any2vec:under 10 jobs per worker: consider setting a smaller `batch_words' for smoother alpha decay\n"
          ]
        },
        {
          "output_type": "execute_result",
          "data": {
            "text/plain": [
              "(181018, 216255)"
            ]
          },
          "metadata": {},
          "execution_count": 69
        }
      ]
    },
    {
      "cell_type": "code",
      "source": [
        "for _ in word2vec_.wv.index2word:\n",
        "  print(_, \" \", end = \" \")"
      ],
      "metadata": {
        "colab": {
          "base_uri": "https://localhost:8080/"
        },
        "id": "xAPbg0mNetkM",
        "outputId": "939bfa98-1c60-49ac-c060-e0af3ed61903"
      },
      "execution_count": 70,
      "outputs": [
        {
          "output_type": "stream",
          "name": "stdout",
          "text": [
            "call   get   ur   go   gt   lt   ok   day   know   free   got   like   time   come   good   want   text   love   need   one   send   going   today   lor   home   txt   see   stop   still   back   take   da   think   dont   reply   tell   hi   mobile   sorry   new   please   phone   week   night   co   make   msg   well   min   thing   hey   oh   hope   much   say   na   give   great   wat   number   dear   later   pls   message   way   happy   claim   work   wan   friend   yes   let   already   ask   yeah   babe   im   really   right   www   tomorrow   prize   meet   thanks   find   said   life   cash   lol   would   miss   anything   last   also   sure   year   morning   something   service   keep   tone   care   every   win   feel   com   wait   uk   next   buy   around   tonight   urgent   first   sent   amp   pick   money   contact   guy   gon   could   even   soon   nokia   show   place   ya   sleep   late   someone   dun   help   box   gud   leave   word   always   many   lot   cant   end   haha   chat   told   per   getting   nice   yet   thk   coming   month   name   thought   waiting   wish   went   try   done   may   customer   hour   stuff   fine   hello   sm   class   talk   minute   finish   bit   pm   girl   use   car   best   cool   better   ill   st   people   long   problem   yup   trying   never   mean   guaranteed   offer   line   weekend   job   hr   person   ready   start   cost   lunch   yo   smile   ppm   enjoy   lar   eat   meeting   thats   nothing   guess   draw   house   plan   live   look   half   check   wk   holiday   account   liao   dat   shit   god   rate   dinner   room   man   special   real   heart   mind   xxx   ah   jus   th   big   might   kiss   quite   another   sir   video   game   early   chance   wont   bed   aight   luv   boy   watch   baby   probably   point   fun   latest   remember   pay   left   maybe   hear   po   age   nite   thanx   den   pic   receive   pobox   watching   bus   sweet   play   awarded   worry   dunno   ever   sat   actually   bad   princess   world   speak   pa   anyway   landline   little   leh   reach   face   voucher   shopping   shall   two   fuck   dad   network   thank   forgot   sound   called   everything   orange   code   nd   movie   bt   mail   tv   working   tmr   didnt   put   town   wif   question   apply   though   camera   enough   ringtone   wanted   since   xx   looking   hurt   okay   school   join   yr   evening   made   land   office   lesson   afternoon   abt   birthday   must   award   dream   til   able   important   gift   book   wot   bring   detail   part   dis   price   juz   stay   collect   asked   wake   true   selected   pound   alright   missed   saw   run   pain   hair   came   havent   else   test   easy   dude   change   away   mate   plus   valid   date   yesterday   making   haf   sexy   without   hav   oso   charge   bored   online   goin   lei   entry   credit   ard   trip   driving   food   missing   smoke   xmas   club   drink   sch   net   mom   till   tried   second   address   order   si   ring   head   tot   feeling   attempt   together   de   collection   colour   http   mob   wen   old   busy   answer   top   player   believe   gr   decimal   id   noe   shop   happen   optout   walk   hot   full   weekly   chikku   huh   mum   family   drive   brother   update   national   aft   tomo   delivery   double   finished   ta   cause   awesome   beautiful   thinking   pub   saying   rite   tho   started   match   nt   taking   leaving   content   break   wil   plz   calling   poly   eve   gd   either   wife   neva   sad   treat   set   took   bonus   lucky   ticket   close   private   statement   coz   open   fancy   bank   carlos   touch   company   music   valentine   sae   mine   whatever   email   sun   drop   loving   alone   available   wonderful   news   ha   smth   forget   gone   happened   expires   everyone   boytoy   college   sleeping   exam   anytime   unsubscribe   choose   far   card   sister   post   reason   bout   dating   kind   simple   anyone   await   party   hows   auction   crazy   caller   info   decided   camcorder   used   smiling   hit   friday   identifier   mu   wit   found   darlin   oredi   gbp   friendship   mths   row   fucking   nope   outside   fri   pretty   fast   drug   final   freemsg   hungry   telling   whole   song   prob   search   hmm   uncle   type   hard   parent   hand   frnd   finally   goodmorning   tel   meant   fr   unlimited   okie   jay   project   nyt   sea   listen   snow   gal   least   earlier   chennai   winner   eh   saturday   almost   congrats   cut   hee   download   load   mah   ni   whats   ltd   hmmm   log   course   tc   side   congratulation   hold   fone   lost   christmas   read   ago   suite   moment   mobileupd   talking   couple   india   welcome   opt   term   visit   park   un   yar   area   knw   sell   mayb   support   film   luck   gas   hl   promise   charged   seeing   wow   move   shower   sending   quiz   direct   tired   mr   worth   story   balance   bill   march   secret   case   cd   wid   swing   die   light   figure   ish   currently   seen   as   supposed   doin   cum   lose   le   lady   redeemed   gym   darren   xy   sex   store   wonder   lovely   ugh   sort   wrong   photo   grin   difficult   usf   link   comin   confirm   abiola   crave   hospital   ac   pas   etc   save   page   computer   operator   dogging   safe   muz   bath   orchard   kate   study   road   laptop   angry   wana   single   somebody   rest   pete   txts   weed   ex   motorola   slow   rental   rock   yep   asking   monday   rent   frm   sub   door   train   paper   laugh   idea   extra   understand   whenever   asap   knew   heard   information   enter   nobody   fact   la   comp   nah   sunday   wap   eg   wq   worried   turn   catch   child   cheer   oops   red   correct   forever   frnds   complimentary   il   gave   men   felt   pray   wine   spend   bathe   deal   mrng   semester   teach   street   blue   tonite   stupid   normal   via   small   met   rakhesh   woke   mistake   mm   voice   booked   ten   different   water   ipod   hoping   across   warm   em   happiness   king   an   fantastic   glad   eye   picking   sale   doctor   surprise   bb   loved   wkly   sick   ice   reached   joke   checking   short   stand   loan   coffee   invited   buying   lazy   lect   staying   doesnt   especially   studying   trust   using   dead   mrt   ive   bcoz   lover   disturb   unless   somewhere   sport   reading   return   access   custcare   round   brings   al   sk   kinda   remove   meh   near   savamob   member   within   hotel   cheap   kid   indian   noon   pc   bold   add   bag   bid   gettin   charity   poor   user   gay   mo   truth   hiya   mon   john   wondering   others   ringtones   tht   reaching   excellent   hw   excuse   sitting   cup   request   valued   reward   anymore   england   mark   pizza   quick   roommate   letter   decide   nigeria   situation   spent   rain   planning   umma   weight   entered   specially   flight   paying   ending   bak   txting   shirt   sometimes   joy   joined   however   slept   kick   reveal   goodnight   lem   usual   ge   bslvyl   record   woman   immediately   fixed   wiv   interested   urself   discount   reference   picture   facebook   yahoo   ad   aha   funny   giving   din   result   mp   fat   max   workin   daddy   clean   present   ar   alex   longer   starting   tuesday   ho   seems   library   wishing   summer   slave   omg   polys   fall   tampa   training   medical   fight   black   awaiting   cancel   honey   dog   vl   frens   fantasy   write   cover   inside   father   wednesday   thinkin   er   med   issue   bugis   cine   std   darling   press   copy   click   naughty   team   suck   egg   tea   eating   subscription   replying   liked   wun   rply   trouble   ave   changed   location   cuz   eatin   inc   bother   del   sony   yijue   swt   become   goto   internet   completely   hop   buck   connection   past   file   system   appreciate   sign   battery   flirt   admirer   ldew   dnt   deep   horny   quality   leaf   definitely   sense   rose   high   imagine   key   kb   power   yoga   merry   rcvd   fault   insurance   maximize   cc   hg   cold   forward   air   bluetooth   happening   sigh   logo   wc   dollar   thru   notice   tenerife   sec   depends   opinion   tat   self   rather   omw   hurry   gee   izzit   imma   future   shuhui   weather   paid   forwarded   awake   torch   running   mad   holla   possible   yest   damn   space   model   comuk   moon   wed   mother   matter   hai   bird   otherwise   ntt   cr   midnight   registered   recently   nxt   gn   rd   receipt   onto   station   cute   energy   strong   complete   doc   cell   mode   alrite   shd   walking   lmao   except   arrive   south   instead   buzz   slowly   list   role   vikky   pix   sofa   tear   happens   behind   tm   planned   joking   seriously   timing   learn   texting   ahead   inch   tyler   kept   usually   fyi   cinema   following   coin   kano   moro   pleasure   representative   password   wa   bos   askd   directly   standard   app   sunshine   dvd   sp   local   begin   qatar   arrange   waste   hell   bye   towards   personal   straight   biz   partner   died   website   kallis   fix   ppmx   cal   handset   dint   sim   loyalty   cake   track   report   num   posted   willing   body   guide   pilate   putting   none   ldn   askin   tough   group   isnt   style   wx   moan   fb   condition   silent   realy   jst   gb   campus   lead   finger   married   blood   aiyo   barely   scream   spree   holder   login   fetch   law   gap   sit   student   dey   yay   tscs   wats   getzed   norm   boo   hunny   teasing   surely   five   mid   sup   due   ate   hp   expensive   brand   contract   asleep   loverboy   serious   april   process   digital   aiyah   urawinner   raining   arm   thts   super   fill   cafe   bought   keeping   lookin   hook   hate   lie   ahmad   armand   foot   empty   worse   pussy   budget   random   plenty   cancer   feb   hug   tick   tb   entitled   wet   goal   stock   str   hopefully   weak   ride   bx   ip   pleased   review   respect   simply   appointment   boston   scared   tt   informed   voda   quoting   country   laid   ec   lovable   replied   interview   inviting   discus   romantic   mtmsg   star   tncs   wks   naked   hmv   bf   anybody   throw   cry   meal   themob   accept   uz   advance   cud   ppl   allah   sonyericsson   geeee   relax   lick   intro   current   yan   jiu   contacted   hostel   lift   respond   acc   ttyl   decision   flat   activate   village   pin   adult   unsub   english   btw   mrw   marriage   quit   jazz   yogasana   announcement   stopped   somethin   euro   daily   gentle   hella   earth   belly   lonely   bedroom   alert   aftr   twice   opportunity   txtauction   clock   city   sing   living   piece   xxxx   cm   zed   green   sura   playing   sn   unsold   derek   white   january   cheaper   ym   pissed   iam   wherever   wear   score   heavy   bowl   site   boring   salary   dropped   yun   kerala   setting   flower   bitch   regard   subscriber   uni   italian   oz   pack   horrible   nw   island   tuition   choice   mite   chinese   hun   cbe   picked   tour   broke   lion   pple   marry   croydon   wb   share   vote   totally   rem   everybody   google   aint   airport   london   title   waking   sight   fren   bin   social   selling   bun   holding   beer   thnk   season   nvm   obviously   affair   flag   art   looked   expecting   mile   hill   mood   checked   unable   remind   whether   added   police   ru   deliver   amount   advice   amazing   tariff   thurs   lik   stone   step   common   oni   rcv   callertune   ldnw   searching   blessing   sooner   gram   embarassed   seemed   series   wah   machan   sheet   sum   legal   nyc   truly   considering   research   apartment   needed   yetunde   largest   netcollex   deleted   window   menu   module   bloody   spoke   experience   anyways   mummy   freephone   radio   unique   shoot   sen   atm   career   followed   teacher   cross   sam   penny   closer   argument   showing   expect   mmm   ended   sunny   passed   cam   accidentally   def   hanging   selection   smart   pongal   afraid   waitin   basically   wtf   stoptxt   sometime   cream   tree   fullonsms   competition   esplanade   fifteen   vary   journey   gorgeous   jen   ure   intelligent   receiving   cw   dry   error   bringing   character   mtmsgrcvd   mono   cha   bday   pg   malaria   passionate   quote   confidence   bloke   three   milk   lab   bite   grand   pie   paris   often   aunty   leona   bud   vodafone   effect   thursday   taken   ham   listening   sw   bet   evng   prepare   seem   explain   map   purchase   weird   drivin   upset   assume   exactly   faster   spoken   mt   skilgme   winawk   meetin   closed   apparently   perfect   polyphonic   enjoyed   appt   ache   profit   morrow   meanwhile   version   careful   spk   vip   wall   travel   wanting   greet   pig   attend   diet   xh   fever   tcr   ph   sore   miracle   jesus   aunt   regret   throat   lecture   raise   fool   june   technical   revealed   bathing   xchat   convey   aiyar   howz   wearing   shame   jordan   delivered   easier   exact   jamster   original   idiot   harry   february   rush   blackberry   moji   linerental   meaning   moral   aiya   bright   textpod   fl   tablet   vomit   sha   centre   total   along   shortly   forum   ron   screaming   bishan   idk   laughing   brought   surprised   comedy   moby   fly   action   received   ran   ordered   queen   schedule   arcade   created   takin   exciting   answering   jess   dirty   package   upto   skype   push   nearly   master   cleaning   costa   sol   cat   hip   rule   theatre   infernal   including   qp   giv   official   inclusive   colleague   ntwk   leg   freak   ref   wkend   sky   sugar   thangam   roger   greeting   released   spending   response   sept   ignore   dare   teeth   note   porn   celebrate   abi   wave   grl   relation   wylie   basic   value   outta   inform   mumtaz   blank   texted   nat   born   taunton   santa   six   membership   spell   wale   scotland   slice   frying   clear   caught   xuhui   invite   yummy   burn   fair   realized   url   burger   dresser   plane   gentleman   dignity   shy   urgnt   becoz   lido   fml   mk   hols   four   vava   loud   anythin   unredeemed   apologise   hardcore   biggest   staff   female   birla   soft   floor   escape   form   spanish   mall   august   suggest   settled   transaction   ga   repair   recd   tomarrow   avent   slipper   bat   inning   dearly   childish   shipping   parked   mini   wt   flash   jealous   chart   sorting   ray   handed   celebration   gautham   upgrade   scary   hide   newest   gossip   fit   garage   enemy   december   gona   germany   supervisor   lifetime   surfing   favourite   bless   stranger   cleared   practice   alcohol   remembered   insha   alive   breathe   bar   ptbo   shut   period   business   quickly   chechi   skip   blah   tf   ful   irritating   wnt   vry   hv   lac   bcm   iouri   oic   transfer   oreo   ear   july   railway   doggy   fave   position   dave   transfered   ja   boye   center   fighting   fish   fee   prabha   ibhltd   booking   behave   elsewhere   rude   qu   channel   tirupur   web   losing   cock   generally   likely   essential   american   callin   dick   snake   headache   exhausted   tsunami   swimming   morow   nichols   hundred   beauty   market   pop   postcode   seven   tlp   thanksgiving   envelope   textoperator   building   accordingly   farm   height   wer   stress   ba   low   spring   shorter   subscribed   realize   gim   lip   spare   perwksub   ti   anywhere   opening   diff   community   bein   jan   hint   responding   qxj   ae   alfie   nokias   cust   given   ibiza   wp   xavier   stomach   returned   supply   virgin   saved   cuddle   nap   shesil   played   reminder   mac   failed   outstanding   taylor   male   million   welp   chicken   talent   videophones   videochat   java   dload   noline   rentl   fuckin   ubi   wkg   butt   helen   terrible   fan   exe   prey   foreign   stamp   roast   chatting   walked   drunk   networking   wu   juicy   vijay   sipix   ne   interesting   wind   math   ground   speed   catching   who   bigger   credited   understanding   walmart   apps   rofl   anti   various   textcomp   xxxxxxx   morn   havin   rang   sorted   jane   fran   knackered   software   whenevr   among   chill   chillin   chain   arrested   suntec   messenger   bear   tom   upload   shot   popped   shld   caring   option   msgrcvdhg   arsenal   painful   missin   guilty   cardiff   addie   pod   monkey   certainly   claire   program   twelve   aah   xxxxxxxxx   hubby   nature   blake   lotr   karaoke   eight   prospect   buff   preferably   gang   finishing   brothas   chasing   fire   freezing   ringtoneking   winning   eerie   feelin   switch   event   monthly   remain   cramp   nan   dislike   mi   album   connect   standing   james   follow   stuck   regarding   adore   philosophy   husband   subscribe   toa   payoh   payment   fathima   mmmm   pull   beyond   abta   table   ikea   kadeem   se   wud   carry   avatar   constantly   toclaim   stockport   lousy   ic   boat   proof   provided   yeh   downloads   major   birth   responsibility   freefone   natural   onwards   boost   calicut   pink   normally   rich   eng   yor   jason   argh   diamond   china   morphine   prefer   kindly   sed   pending   frndship   distance   display   soup   management   include   regular   lounge   cornwall   iscoming   spook   football   measure   impossible   okey   murdered   maid   murderer   brilliant   science   madam   settle   bloo   citizen   sry   lock   dai   maga   medicine   incident   violence   erm   instruction   lp   death   wrk   hon   reality   usc   booty   lil   pout   stomp   petrol   luxury   ben   middle   dark   enuff   iz   handle   moved   seat   dress   collecting   flaked   gary   history   bell   understood   bottom   crab   footprint   knowing   count   challenge   tape   auto   asks   smoking   billed   callback   wedding   accident   cann   prince   symbol   mega   prolly   confirmed   dubsack   macho   audition   difference   fell   senthil   eaten   possession   concert   university   california   ball   mnth   tog   evry   haiz   loss   previous   captain   dsn   parking   warner   wallpaper   bottle   buffet   fa   tkts   hor   aid   melle   oru   convincing   sarcastic   fear   mmmmmm   sucker   eighth   sptv   detroit   hockey   odi   killing   iq   advise   recent   valuable   divorce   earn   jacket   nitros   ela   collected   mix   verify   telugu   animation   noun   sentence   puttin   cabin   goodo   potato   tortilla   apple   ansr   tyrone   msn   befor   activity   pouch   somtimes   occupy   dot   randy   flowing   plaza   everywhere   mouth   bootydelious   avoid   beloved   completed   hamster   successfully   ericsson   bruv   rewarding   heading   register   installing   horo   conduct   printed   upstairs   theory   argue   shining   signing   although   touched   commercial   ranjith   affection   lag   necessarily   headin   jolt   suzy   bay   percent   gf   tool   jenny   tease   shocking   crash   taxi   actor   blind   thread   funky   belovd   tahan   anot   lo   bristol   apo   prepayment   violated   privacy   paperwork   caroline   gudnite   slap   tissco   tayseer   unemployed   audrey   status   cuddling   agree   recognise   he   ovulation   mobilesdirect   salam   sharing   grace   inshah   visitor   field   administrator   pw   shipped   loxahatchee   burning   slightly   fav   wld   sender   ch   txttowin   mobno   adam   txtno   siva   speaking   expression   aathi   source   amt   applebees   sachin   improve   purpose   tenant   refused   truffle   amy   coping   individual   language   screamed   removed   differ   broken   infront   wise   tension   taste   trade   rec   hyde   anthony   spl   stylish   scrounge   forgiven   slide   renewal   transport   definite   no   ebay   taco   ma   develop   ability   recovery   cali   cutting   reminding   owns   faggy   demand   fo   loose   pan   perhaps   mei   brownie   geeeee   oooh   ey   dancing   hardly   ag   promo   soiree   ques   suit   shock   reaction   grow   useful   officially   textbuddy   gaytextbuddy   ml   expressoffer   sweetheart   biola   wee   jolly   cartoon   temple   church   rstm   panic   wesley   dealer   impatient   river   premium   lay   en   peace   yelling   hex   sue   cochin   poop   gpu   dorm   px   cooky   admit   correction   ctxt   attached   shouted   helpline   gist   thousand   premier   confused   faith   acting   grandma   yf   begging   subpoly   pole   thot   dictionary   petey   nic   cashto   getstop   php   rg   imp   bec   nervous   costume   borrow   galileo   dobby   enjoyin   loveme   sip   cappuccino   brain   mojibiola   hol   skyped   kz   ultimatum   countin   aburo   successful   inconsiderate   nag   recession   hence   soo   warning   shoe   lovejen   discreet   spoon   named   genius   lotta   lately   mystery   smsco   approx   consider   peaceful   xxxxxx   castor   liverpool   stopsms   downloaded   massage   oil   permission   usb   gibbs   unbelievable   murder   superb   agent   several   smell   worst   charles   peak   chip   addicted   msging   yck   ashley   lux   jean   bleh   ton   application   gravity   carefully   filthy   magical   necklace   racing   rice   crap   borin   weakness   chocolate   potential   reckon   polyph   tech   sd   quiet   hero   drove   anniversary   image   pen   secretly   datebox   essexcm   xn   pattern   plm   sheffield   nanny   zoe   filling   blanket   sufficient   thx   speechless   gm   hb   concentrate   flirting   thesis   sends   deciding   prepared   dentist   oi   dem   breath   sorrow   craziest   planet   singing   curry   evn   itz   alwys   fret   strip   cliff   depressed   dhoni   durban   speedchat   survey   difficulty   sar   tank   fil   neighbor   silently   drms   wrc   rally   lucozade   toot   annoying   makin   popcorn   celeb   pocketbabe   voicemail   appreciated   apart   creepy   txtin   invest   delay   purse   europe   flip   executive   weirdest   tr   tee   dough   control   profile   express   drinkin   birthdate   nydc   favour   ola   garbage   item   gold   lionm   lionp   jokin   remembr   potter   phoenix   reader   canada   goodnoon   patty   interest   saucy   there   tmrw   soul   ned   hurting   main   sweetie   buyer   whn   dance   gently   juan   ideal   path   front   reserve   tirunelvali   girlfrnd   bk   kidding   stretch   urn   beware   kaiez   practicing   goodnite   silver   silence   revision   exeter   whose   coat   tues   restaurant   function   desperate   practical   costing   lyfu   lyf   ali   ke   meow   ny   msgrcvd   lucy   purity   jsco   testing   nit   format   sarcasm   unfortunately   jhl   yuo   ese   tihs   ow   degree   joining   finance   filled   jia   sux   rhythm   adventure   wifi   boyfriend   driver   dime   force   flame   propose   blame   pro   batch   flaky   sooooo   tooo   confuses   british   adoring   constant   cared   allow   hlp   movietrivia   partnership   csbcm   callcost   mostly   compromised   mornin   toughest   maintain   sh   poker   messy   traffic   slip   nu   gotten   unknown   pre   stick   indeed   chosen   easter   telephone   di   bahamas   cruise   calm   becomes   habit   forgets   atlanta   recharge   arun   desparate   fake   combine   sian   joanna   replacement   telly   mth   tooth   wipro   delete   laundry   underwear   waheed   knee   avoiding   uh   vday   build   snowman   ofice   cn   prescription   cook   electricity   fujitsu   scold   prompt   disturbing   woken   aka   delhi   held   length   fringe   distract   payed   memory   mel   intention   skillgame   winaweek   aom   parco   nb   hallaq   lyk   bck   color   gender   mca   yer   vomiting   rub   clever   ryan   xam   manage   shitload   nimya   mcat   sacrifice   beg   stayin   satisfy   cld   killed   minuts   latr   kidz   smashed   tok   specific   cousin   neck   continue   holy   billion   shelf   youre   turning   belive   slot   discussed   temp   prem   morro   spoiled   threat   complaint   lk   lov   comfort   bedrm   waited   huge   mids   upd   annie   mailbox   messaging   retrieve   hrishi   nothin   duchess   nahi   zindgi   wo   jo   dan   aww   staring   unnecessarily   buddy   halloween   weigh   expired   thm   wn   instantly   drinking   paragon   arent   bluff   sary   happend   vodka   kg   limit   dumb   dressed   kill   kay   nasty   slo   wasted   christ   solve   cooking   answered   rgds   wrote   swiss   director   crore   lane   politician   donno   properly   rr   furniture   shoving   strange   acl   indyarocks   resume   whr   yunny   mmmmm   relative   risk   benefit   dr   superior   dock   picsfree   vid   ruin   department   conform   bc   toshiba   knock   innocent   mental   hoped   marrow   treated   fab   tiwary   battle   bang   pap   pandy   edu   secretary   remains   bro   bros   nalla   northampton   abj   serving   smith   neither   snogs   west   fastest   growing   chase   steam   reg   public   govt   instituitions   canary   sleepy   mag   diwali   onion   thgt   lower   exhaust   pee   success   division   creep   property   interflora   bbd   pimple   yellow   frog   doubt   strike   freedom   twenty   painting   nowadays   probs   swatch   ganesh   geva   wuld   solved   ing   sake   bruce   teaching   chest   brief   hang   reboot   phoned   improved   hm   salon   raj   shore   clearing   range   topic   admin   visionsms   andros   penis   vth   eveb   removal   prove   blow   cancelled   lookatme   agalla   neway   xxxxx   randomly   otside   size   tight   av   everyday   curious   postcard   bread   mahal   praying   ding   allowed   necessary   watever   shared   disaster   messaged   deus   tap   spile   broad   canal   engin   edge   east   howard   cooked   cheat   block   fromm   ruining   ee   easily   selfish   custom   sac   jiayin   tg   forgotten   waxsto   minimum   doll   elaine   drunken   mess   crisis   mb   desire   bloomberg   priscilla   wisdom   kent   vale   granite   explosive   nasdaq   cdgt   base   placement   sumthin   devouring   airtel   processed   shahjahan   ship   causing   outage   xin   lib   despite   swoop   langport   forevr   vega   lou   vewy   pool   stayed   atlast   desert   section   funeral   vivek   tnc   brah   blu   ipad   cheese   widelive   index   wml   hsbc   asp   melt   eek   heater   eta   dial   literally   kothi   prof   sem   actual   sathya   tip   dealing   reasonable   election   kappa   piss   guessing   royal   sticky   edward   indicate   repeat   calculation   blur   clothes   lush   fucked   moving   sunlight   jogging   mokka   bone   steve   epsilon   lst   massive   academic   convinced   coast   suppose   explicit   clearly   gain   realise   mnths   txtstop   managed   capital   acted   print   dokey   sleepin   minor   cashbin   denis   woulda   miserable   shoppin   nuther   infection   kiosk   henry   mountain   select   woot   dining   donate   cme   goldviking   sarasota   cherish   natalie   eva   favorite   pride   respectful   amused   suggestion   shu   spider   "
          ]
        }
      ]
    },
    {
      "cell_type": "code",
      "source": [
        "len(word2vec_.wv.index2word)"
      ],
      "metadata": {
        "colab": {
          "base_uri": "https://localhost:8080/"
        },
        "id": "i_ANcqWIf30f",
        "outputId": "87d47e17-15de-4f26-b208-8bd3a0bb4248"
      },
      "execution_count": 71,
      "outputs": [
        {
          "output_type": "execute_result",
          "data": {
            "text/plain": [
              "3256"
            ]
          },
          "metadata": {},
          "execution_count": 71
        }
      ]
    },
    {
      "cell_type": "code",
      "source": [
        "###### Average Word2Vec ######\n",
        "def document_vector(doc):\n",
        "    # remove out-of-vocabulary words\n",
        "    doc = [word for word in doc.split() if word in word2vec_.wv.index2word]\n",
        "    return np.mean(word2vec_.wv[doc], axis=0)"
      ],
      "metadata": {
        "id": "gjyXb15Uf61e"
      },
      "execution_count": 72,
      "outputs": []
    },
    {
      "cell_type": "code",
      "source": [
        "df.loc[:, 'Message'].values[0]"
      ],
      "metadata": {
        "colab": {
          "base_uri": "https://localhost:8080/",
          "height": 36
        },
        "id": "6HTIPp3Xg83e",
        "outputId": "f897f73d-f833-4f68-811f-05131ea8bb3a"
      },
      "execution_count": 73,
      "outputs": [
        {
          "output_type": "execute_result",
          "data": {
            "text/plain": [
              "'go jurong point crazy available bugis n great world la e buffet cine got amore wat'"
            ],
            "application/vnd.google.colaboratory.intrinsic+json": {
              "type": "string"
            }
          },
          "metadata": {},
          "execution_count": 73
        }
      ]
    },
    {
      "cell_type": "code",
      "source": [
        "###### Check for first record #######\n",
        "print(document_vector(df.loc[:, 'Message'].values[0]))"
      ],
      "metadata": {
        "colab": {
          "base_uri": "https://localhost:8080/"
        },
        "id": "KU2dgVcggkj2",
        "outputId": "66109443-3af1-4ae2-e001-f1d7622f0185"
      },
      "execution_count": 74,
      "outputs": [
        {
          "output_type": "stream",
          "name": "stdout",
          "text": [
            "[-1.10395662e-01 -1.04220025e-01  2.95531973e-02 -9.89704276e-04\n",
            " -8.15750659e-02  1.19975261e-01  4.36707258e-01  3.24547030e-02\n",
            " -8.71010125e-02  1.67170569e-01  7.37319216e-02  4.08214897e-01\n",
            " -2.34079940e-04 -3.31834525e-01  7.56408349e-02 -4.80942845e-01\n",
            " -1.09692113e-02  3.19277167e-01 -1.04833342e-01 -5.11080436e-02\n",
            "  1.78637788e-01  1.28069848e-01  5.67559302e-01  6.81764111e-02\n",
            "  6.57390580e-02 -3.88312548e-01 -7.67605146e-03  2.38824844e-01\n",
            " -2.40192369e-01  1.10792130e-01  2.05753446e-02 -2.18938306e-01\n",
            " -8.17109458e-03 -1.28656641e-01 -2.20688894e-01  3.88166718e-02\n",
            "  2.26682261e-01 -4.70129281e-01  2.09461808e-01 -4.85349178e-01\n",
            " -7.63820708e-02  2.28441432e-01  3.46120209e-01  1.75585374e-01\n",
            "  1.81782380e-01 -2.72394121e-01 -9.94223822e-03 -1.36468098e-01\n",
            "  2.65801579e-01  3.65295224e-02 -6.56902418e-02 -3.50214511e-01\n",
            "  1.18711114e-01 -2.10342109e-02 -9.27948877e-02  2.42526427e-01\n",
            " -1.43562689e-01  1.73975408e-01 -2.33662367e-01 -8.73091863e-04\n",
            " -3.01889211e-01  2.02811640e-02 -1.96271002e-01 -4.47212785e-01\n",
            " -8.01653937e-02 -2.13571295e-01  1.60105333e-01 -2.40889445e-01\n",
            "  1.10465579e-01 -6.48407519e-01  3.03642154e-01  1.11231148e-01\n",
            " -1.06383257e-01  4.02054280e-01 -5.09428740e-01  1.91166205e-03\n",
            "  2.35439137e-01 -2.06693754e-01  3.46741170e-01  2.87498329e-02\n",
            "  2.43844762e-01  3.00698042e-01  3.35727215e-01  1.37909338e-01\n",
            " -2.66877264e-02 -4.22932416e-01  1.85556784e-01  1.73777327e-01\n",
            "  1.76404357e-01  2.46325210e-01 -6.53234348e-02  2.46463791e-01\n",
            "  6.63602958e-03  1.18085645e-01  8.81293640e-02  1.73570719e-02\n",
            " -2.43957434e-02  3.01334802e-02  2.12650433e-01 -5.88506311e-02]\n"
          ]
        }
      ]
    },
    {
      "cell_type": "code",
      "source": [
        "df.shape"
      ],
      "metadata": {
        "colab": {
          "base_uri": "https://localhost:8080/"
        },
        "id": "Sn2wXvPmjvPT",
        "outputId": "3c768195-16ac-46ac-8798-e99af60c1ada"
      },
      "execution_count": 75,
      "outputs": [
        {
          "output_type": "execute_result",
          "data": {
            "text/plain": [
              "(5157, 2)"
            ]
          },
          "metadata": {},
          "execution_count": 75
        }
      ]
    },
    {
      "cell_type": "code",
      "source": [
        "# from tqdm import tqdm\n",
        "# X = []\n",
        "# for doc in (df['Message'].values):\n",
        "#     X.append(document_vector(doc))"
      ],
      "metadata": {
        "id": "ZnsJ8rQFgsvn"
      },
      "execution_count": 76,
      "outputs": []
    }
  ]
}