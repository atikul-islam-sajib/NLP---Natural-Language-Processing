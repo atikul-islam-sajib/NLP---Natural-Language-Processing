{
  "nbformat": 4,
  "nbformat_minor": 0,
  "metadata": {
    "colab": {
      "name": "Word Embedding Layer using LSTM.ipynb",
      "provenance": [],
      "machine_shape": "hm"
    },
    "kernelspec": {
      "name": "python3",
      "display_name": "Python 3"
    },
    "language_info": {
      "name": "python"
    },
    "accelerator": "GPU",
    "gpuClass": "standard"
  },
  "cells": [
    {
      "cell_type": "code",
      "execution_count": 1,
      "metadata": {
        "id": "df49y9gofaB-"
      },
      "outputs": [],
      "source": [
        "###### Import one_hot #######\n",
        "from tensorflow.keras.preprocessing.text import one_hot, Tokenizer"
      ]
    },
    {
      "cell_type": "code",
      "source": [
        "sent = ['the glass of milk',\n",
        "        'the glass of juice',\n",
        "        'the cup of tea',\n",
        "        'I am a good boy',\n",
        "        'I am a good developer',\n",
        "        'understand the meaning of words',\n",
        "        'your videos are good'\n",
        "        ]"
      ],
      "metadata": {
        "id": "h6xjisaWgM-y"
      },
      "execution_count": 2,
      "outputs": []
    },
    {
      "cell_type": "code",
      "source": [
        "###### Show the sentence #######\n",
        "sent"
      ],
      "metadata": {
        "colab": {
          "base_uri": "https://localhost:8080/"
        },
        "id": "HmbqikSqgnBP",
        "outputId": "c5fce613-abc8-403d-f33d-a531e4b45291"
      },
      "execution_count": 3,
      "outputs": [
        {
          "output_type": "execute_result",
          "data": {
            "text/plain": [
              "['the glass of milk',\n",
              " 'the glass of juice',\n",
              " 'the cup of tea',\n",
              " 'I am a good boy',\n",
              " 'I am a good developer',\n",
              " 'understand the meaning of words',\n",
              " 'your videos are good']"
            ]
          },
          "metadata": {},
          "execution_count": 3
        }
      ]
    },
    {
      "cell_type": "code",
      "source": [
        "###### Find the vocabulary size of this sent ######\n",
        "from keras.preprocessing.sequence import pad_sequences\n",
        "\n",
        "tokenizer_ = Tokenizer()\n",
        "###### This fit_on_texts will able to take list or corpus as well as dataframe #######\n",
        "tokenizer_.fit_on_texts(sent)\n",
        "\n",
        "####### print the # of word count in this sent #####\n",
        "print(tokenizer_.word_counts, '\\n\\n')\n",
        "\n",
        "####### print the word_index of this sent #######\n",
        "print(tokenizer_.word_index, '\\n\\n')\n",
        "\n",
        "\n",
        "####### print the len of this word_counts and word_index #######\n",
        "print(len(tokenizer_.word_counts), len(tokenizer_.word_index), '\\n\\n')\n",
        "\n",
        "###### Type of this word_counts and word_index ######\n",
        "print(type(tokenizer_.word_counts), type(tokenizer_.word_index))"
      ],
      "metadata": {
        "colab": {
          "base_uri": "https://localhost:8080/"
        },
        "id": "f93Ga-3Qgr2o",
        "outputId": "878797b1-ee31-4323-a23a-5b5ea477e0da"
      },
      "execution_count": 4,
      "outputs": [
        {
          "output_type": "stream",
          "name": "stdout",
          "text": [
            "OrderedDict([('the', 4), ('glass', 2), ('of', 4), ('milk', 1), ('juice', 1), ('cup', 1), ('tea', 1), ('i', 2), ('am', 2), ('a', 2), ('good', 3), ('boy', 1), ('developer', 1), ('understand', 1), ('meaning', 1), ('words', 1), ('your', 1), ('videos', 1), ('are', 1)]) \n",
            "\n",
            "\n",
            "{'the': 1, 'of': 2, 'good': 3, 'glass': 4, 'i': 5, 'am': 6, 'a': 7, 'milk': 8, 'juice': 9, 'cup': 10, 'tea': 11, 'boy': 12, 'developer': 13, 'understand': 14, 'meaning': 15, 'words': 16, 'your': 17, 'videos': 18, 'are': 19} \n",
            "\n",
            "\n",
            "19 19 \n",
            "\n",
            "\n",
            "<class 'collections.OrderedDict'> <class 'dict'>\n"
          ]
        }
      ]
    },
    {
      "cell_type": "code",
      "source": [
        "for _ in sent:\n",
        "  print(_)"
      ],
      "metadata": {
        "colab": {
          "base_uri": "https://localhost:8080/"
        },
        "id": "TJbF-XsGmP01",
        "outputId": "4d96e165-4b48-43c4-f05b-9603003035d0"
      },
      "execution_count": 5,
      "outputs": [
        {
          "output_type": "stream",
          "name": "stdout",
          "text": [
            "the glass of milk\n",
            "the glass of juice\n",
            "the cup of tea\n",
            "I am a good boy\n",
            "I am a good developer\n",
            "understand the meaning of words\n",
            "your videos are good\n"
          ]
        }
      ]
    },
    {
      "cell_type": "code",
      "source": [
        "###### Create the vocabulary size ###### \n",
        "voc_size = len(tokenizer_.word_counts) + 1\n",
        "\n",
        "print(\"Vacabulary size of this sent will be: \", voc_size)"
      ],
      "metadata": {
        "colab": {
          "base_uri": "https://localhost:8080/"
        },
        "id": "sumo1ktckjHK",
        "outputId": "5cc212a0-6c7c-487c-a63f-83b560c33c20"
      },
      "execution_count": 6,
      "outputs": [
        {
          "output_type": "stream",
          "name": "stdout",
          "text": [
            "Vacabulary size of this sent will be:  20\n"
          ]
        }
      ]
    },
    {
      "cell_type": "code",
      "source": [
        "###### One hot representation ######\n",
        "one_hot_ = [one_hot(each_, voc_size) for each_ in sent]\n",
        "one_hot_"
      ],
      "metadata": {
        "colab": {
          "base_uri": "https://localhost:8080/"
        },
        "id": "fjPaYeYAmeQW",
        "outputId": "481577de-26da-4d70-e3ab-93e12b43d23a"
      },
      "execution_count": 7,
      "outputs": [
        {
          "output_type": "execute_result",
          "data": {
            "text/plain": [
              "[[13, 14, 5, 5],\n",
              " [13, 14, 5, 12],\n",
              " [13, 11, 5, 1],\n",
              " [2, 14, 3, 10, 2],\n",
              " [2, 14, 3, 10, 3],\n",
              " [17, 13, 7, 5, 3],\n",
              " [10, 5, 19, 10]]"
            ]
          },
          "metadata": {},
          "execution_count": 7
        }
      ]
    },
    {
      "cell_type": "code",
      "source": [
        "###### Find the max length ######\n",
        "max_length_ = -1\n",
        "\n",
        "for list_ in one_hot_:\n",
        "  if len(list_) > max_length_:\n",
        "    max_length_ = len(list_)\n",
        "  else:\n",
        "    pass\n",
        "\n",
        "print(max_length_)"
      ],
      "metadata": {
        "colab": {
          "base_uri": "https://localhost:8080/"
        },
        "id": "FrNh05ecnxiq",
        "outputId": "6fd5eb35-b9ae-4a67-e49e-bf552a0dc041"
      },
      "execution_count": 8,
      "outputs": [
        {
          "output_type": "stream",
          "name": "stdout",
          "text": [
            "5\n"
          ]
        }
      ]
    },
    {
      "cell_type": "code",
      "source": [
        "###### Do the padding ######\n",
        "sent_length = max_length_ + 2\n",
        "\n",
        "embedded_docs = pad_sequences(one_hot_, padding = 'pre', maxlen = sent_length)\n",
        "\n",
        "print(embedded_docs)"
      ],
      "metadata": {
        "colab": {
          "base_uri": "https://localhost:8080/"
        },
        "id": "s7Qo2Zpbnxk1",
        "outputId": "5730f01d-add3-4550-dcbf-84c95e4ae61c"
      },
      "execution_count": 9,
      "outputs": [
        {
          "output_type": "stream",
          "name": "stdout",
          "text": [
            "[[ 0  0  0 13 14  5  5]\n",
            " [ 0  0  0 13 14  5 12]\n",
            " [ 0  0  0 13 11  5  1]\n",
            " [ 0  0  2 14  3 10  2]\n",
            " [ 0  0  2 14  3 10  3]\n",
            " [ 0  0 17 13  7  5  3]\n",
            " [ 0  0  0 10  5 19 10]]\n"
          ]
        }
      ]
    },
    {
      "cell_type": "code",
      "source": [
        "####### Word Embedding Representation #######\n",
        "from tensorflow.keras.models import Sequential\n",
        "from tensorflow.keras.layers import Embedding\n",
        "\n",
        "model = Sequential()\n",
        "\n",
        "\"\"\"\n",
        "1.\n",
        "input_dim - Integer. Size of the vocabulary, i.e. maximum integer index + 1.\n",
        "\n",
        "2.\n",
        "output_dim: Integer. Dimension of the dense embedding.\n",
        "\n",
        "3.\n",
        "input_length: Length of input sequences, when it is constant. This argument is required if you are going to connect Flatten then Dense layers upstream (without it, the shape of the dense outputs cannot be computed).\n",
        "\n",
        "\"\"\"\n",
        "model.add(Embedding(input_dim = voc_size, output_dim = 10, input_length = sent_length))\n",
        "model.compile('adam', 'mse')"
      ],
      "metadata": {
        "id": "NL-AkAnqnxoN"
      },
      "execution_count": 10,
      "outputs": []
    },
    {
      "cell_type": "code",
      "source": [
        "model.predict(embedded_docs)"
      ],
      "metadata": {
        "colab": {
          "base_uri": "https://localhost:8080/"
        },
        "id": "7_KQgmRPrIDZ",
        "outputId": "45adafe3-fcb7-496e-ad12-d3bda69e7bb8"
      },
      "execution_count": 11,
      "outputs": [
        {
          "output_type": "execute_result",
          "data": {
            "text/plain": [
              "array([[[-2.86746975e-02, -3.60842347e-02, -2.43837368e-02,\n",
              "          1.78996064e-02,  3.47359106e-03,  4.47059609e-02,\n",
              "          2.64165886e-02, -4.01552431e-02,  1.78296901e-02,\n",
              "          4.02342342e-02],\n",
              "        [-2.86746975e-02, -3.60842347e-02, -2.43837368e-02,\n",
              "          1.78996064e-02,  3.47359106e-03,  4.47059609e-02,\n",
              "          2.64165886e-02, -4.01552431e-02,  1.78296901e-02,\n",
              "          4.02342342e-02],\n",
              "        [-2.86746975e-02, -3.60842347e-02, -2.43837368e-02,\n",
              "          1.78996064e-02,  3.47359106e-03,  4.47059609e-02,\n",
              "          2.64165886e-02, -4.01552431e-02,  1.78296901e-02,\n",
              "          4.02342342e-02],\n",
              "        [-3.63548882e-02, -1.15937591e-02, -5.92194498e-04,\n",
              "          4.91417572e-03,  5.95778227e-03, -2.14999076e-02,\n",
              "          2.87193321e-02,  4.09431793e-02, -3.59265693e-02,\n",
              "         -2.43193638e-02],\n",
              "        [ 4.61993851e-02, -3.75742540e-02,  1.42897293e-03,\n",
              "         -4.41082604e-02,  5.20832837e-05, -4.03513089e-02,\n",
              "          1.97764747e-02,  5.73327392e-03,  3.49292867e-02,\n",
              "         -2.81713158e-03],\n",
              "        [-4.50650342e-02,  2.82615162e-02, -1.76570304e-02,\n",
              "         -2.14160327e-02, -4.30460349e-02, -1.56543255e-02,\n",
              "          4.94025089e-02,  2.93045528e-02,  3.08923759e-02,\n",
              "          3.46606858e-02],\n",
              "        [-4.50650342e-02,  2.82615162e-02, -1.76570304e-02,\n",
              "         -2.14160327e-02, -4.30460349e-02, -1.56543255e-02,\n",
              "          4.94025089e-02,  2.93045528e-02,  3.08923759e-02,\n",
              "          3.46606858e-02]],\n",
              "\n",
              "       [[-2.86746975e-02, -3.60842347e-02, -2.43837368e-02,\n",
              "          1.78996064e-02,  3.47359106e-03,  4.47059609e-02,\n",
              "          2.64165886e-02, -4.01552431e-02,  1.78296901e-02,\n",
              "          4.02342342e-02],\n",
              "        [-2.86746975e-02, -3.60842347e-02, -2.43837368e-02,\n",
              "          1.78996064e-02,  3.47359106e-03,  4.47059609e-02,\n",
              "          2.64165886e-02, -4.01552431e-02,  1.78296901e-02,\n",
              "          4.02342342e-02],\n",
              "        [-2.86746975e-02, -3.60842347e-02, -2.43837368e-02,\n",
              "          1.78996064e-02,  3.47359106e-03,  4.47059609e-02,\n",
              "          2.64165886e-02, -4.01552431e-02,  1.78296901e-02,\n",
              "          4.02342342e-02],\n",
              "        [-3.63548882e-02, -1.15937591e-02, -5.92194498e-04,\n",
              "          4.91417572e-03,  5.95778227e-03, -2.14999076e-02,\n",
              "          2.87193321e-02,  4.09431793e-02, -3.59265693e-02,\n",
              "         -2.43193638e-02],\n",
              "        [ 4.61993851e-02, -3.75742540e-02,  1.42897293e-03,\n",
              "         -4.41082604e-02,  5.20832837e-05, -4.03513089e-02,\n",
              "          1.97764747e-02,  5.73327392e-03,  3.49292867e-02,\n",
              "         -2.81713158e-03],\n",
              "        [-4.50650342e-02,  2.82615162e-02, -1.76570304e-02,\n",
              "         -2.14160327e-02, -4.30460349e-02, -1.56543255e-02,\n",
              "          4.94025089e-02,  2.93045528e-02,  3.08923759e-02,\n",
              "          3.46606858e-02],\n",
              "        [ 3.02163698e-02,  3.88456509e-03,  4.57536243e-02,\n",
              "         -3.17309722e-02, -3.92842181e-02, -1.90647375e-02,\n",
              "         -6.61978871e-03, -1.75589696e-02,  4.38153744e-04,\n",
              "         -2.13321447e-02]],\n",
              "\n",
              "       [[-2.86746975e-02, -3.60842347e-02, -2.43837368e-02,\n",
              "          1.78996064e-02,  3.47359106e-03,  4.47059609e-02,\n",
              "          2.64165886e-02, -4.01552431e-02,  1.78296901e-02,\n",
              "          4.02342342e-02],\n",
              "        [-2.86746975e-02, -3.60842347e-02, -2.43837368e-02,\n",
              "          1.78996064e-02,  3.47359106e-03,  4.47059609e-02,\n",
              "          2.64165886e-02, -4.01552431e-02,  1.78296901e-02,\n",
              "          4.02342342e-02],\n",
              "        [-2.86746975e-02, -3.60842347e-02, -2.43837368e-02,\n",
              "          1.78996064e-02,  3.47359106e-03,  4.47059609e-02,\n",
              "          2.64165886e-02, -4.01552431e-02,  1.78296901e-02,\n",
              "          4.02342342e-02],\n",
              "        [-3.63548882e-02, -1.15937591e-02, -5.92194498e-04,\n",
              "          4.91417572e-03,  5.95778227e-03, -2.14999076e-02,\n",
              "          2.87193321e-02,  4.09431793e-02, -3.59265693e-02,\n",
              "         -2.43193638e-02],\n",
              "        [ 2.09001042e-02, -2.87955534e-02,  2.79676914e-03,\n",
              "         -1.52157061e-02, -3.52283493e-02,  2.49755420e-02,\n",
              "          1.66132785e-02,  3.56631763e-02, -1.66358799e-03,\n",
              "         -2.10308433e-02],\n",
              "        [-4.50650342e-02,  2.82615162e-02, -1.76570304e-02,\n",
              "         -2.14160327e-02, -4.30460349e-02, -1.56543255e-02,\n",
              "          4.94025089e-02,  2.93045528e-02,  3.08923759e-02,\n",
              "          3.46606858e-02],\n",
              "        [ 3.66714932e-02, -3.72795016e-03,  2.37883367e-02,\n",
              "         -9.08763334e-03, -1.67713538e-02, -3.85420397e-03,\n",
              "         -1.38379335e-02,  1.46344937e-02, -1.69822201e-02,\n",
              "         -4.24567126e-02]],\n",
              "\n",
              "       [[-2.86746975e-02, -3.60842347e-02, -2.43837368e-02,\n",
              "          1.78996064e-02,  3.47359106e-03,  4.47059609e-02,\n",
              "          2.64165886e-02, -4.01552431e-02,  1.78296901e-02,\n",
              "          4.02342342e-02],\n",
              "        [-2.86746975e-02, -3.60842347e-02, -2.43837368e-02,\n",
              "          1.78996064e-02,  3.47359106e-03,  4.47059609e-02,\n",
              "          2.64165886e-02, -4.01552431e-02,  1.78296901e-02,\n",
              "          4.02342342e-02],\n",
              "        [ 3.63765024e-02, -4.31639217e-02, -1.24231353e-02,\n",
              "         -1.91013701e-02, -4.45123687e-02, -4.71681841e-02,\n",
              "         -1.96327455e-02, -7.60183483e-03,  4.76335622e-02,\n",
              "         -2.31347438e-02],\n",
              "        [ 4.61993851e-02, -3.75742540e-02,  1.42897293e-03,\n",
              "         -4.41082604e-02,  5.20832837e-05, -4.03513089e-02,\n",
              "          1.97764747e-02,  5.73327392e-03,  3.49292867e-02,\n",
              "         -2.81713158e-03],\n",
              "        [-1.24534145e-02, -3.65818962e-02,  4.90588285e-02,\n",
              "         -4.00228985e-02,  2.35660560e-02, -1.37202516e-02,\n",
              "         -4.55416553e-02,  9.40061733e-03, -4.42776345e-02,\n",
              "         -1.20367892e-02],\n",
              "        [-2.41172314e-02, -1.39284730e-02, -2.07890514e-02,\n",
              "          3.70529331e-02, -2.45640036e-02, -2.66906377e-02,\n",
              "         -3.75300273e-02,  1.45248435e-02, -2.36803778e-02,\n",
              "          3.13511007e-02],\n",
              "        [ 3.63765024e-02, -4.31639217e-02, -1.24231353e-02,\n",
              "         -1.91013701e-02, -4.45123687e-02, -4.71681841e-02,\n",
              "         -1.96327455e-02, -7.60183483e-03,  4.76335622e-02,\n",
              "         -2.31347438e-02]],\n",
              "\n",
              "       [[-2.86746975e-02, -3.60842347e-02, -2.43837368e-02,\n",
              "          1.78996064e-02,  3.47359106e-03,  4.47059609e-02,\n",
              "          2.64165886e-02, -4.01552431e-02,  1.78296901e-02,\n",
              "          4.02342342e-02],\n",
              "        [-2.86746975e-02, -3.60842347e-02, -2.43837368e-02,\n",
              "          1.78996064e-02,  3.47359106e-03,  4.47059609e-02,\n",
              "          2.64165886e-02, -4.01552431e-02,  1.78296901e-02,\n",
              "          4.02342342e-02],\n",
              "        [ 3.63765024e-02, -4.31639217e-02, -1.24231353e-02,\n",
              "         -1.91013701e-02, -4.45123687e-02, -4.71681841e-02,\n",
              "         -1.96327455e-02, -7.60183483e-03,  4.76335622e-02,\n",
              "         -2.31347438e-02],\n",
              "        [ 4.61993851e-02, -3.75742540e-02,  1.42897293e-03,\n",
              "         -4.41082604e-02,  5.20832837e-05, -4.03513089e-02,\n",
              "          1.97764747e-02,  5.73327392e-03,  3.49292867e-02,\n",
              "         -2.81713158e-03],\n",
              "        [-1.24534145e-02, -3.65818962e-02,  4.90588285e-02,\n",
              "         -4.00228985e-02,  2.35660560e-02, -1.37202516e-02,\n",
              "         -4.55416553e-02,  9.40061733e-03, -4.42776345e-02,\n",
              "         -1.20367892e-02],\n",
              "        [-2.41172314e-02, -1.39284730e-02, -2.07890514e-02,\n",
              "          3.70529331e-02, -2.45640036e-02, -2.66906377e-02,\n",
              "         -3.75300273e-02,  1.45248435e-02, -2.36803778e-02,\n",
              "          3.13511007e-02],\n",
              "        [-1.24534145e-02, -3.65818962e-02,  4.90588285e-02,\n",
              "         -4.00228985e-02,  2.35660560e-02, -1.37202516e-02,\n",
              "         -4.55416553e-02,  9.40061733e-03, -4.42776345e-02,\n",
              "         -1.20367892e-02]],\n",
              "\n",
              "       [[-2.86746975e-02, -3.60842347e-02, -2.43837368e-02,\n",
              "          1.78996064e-02,  3.47359106e-03,  4.47059609e-02,\n",
              "          2.64165886e-02, -4.01552431e-02,  1.78296901e-02,\n",
              "          4.02342342e-02],\n",
              "        [-2.86746975e-02, -3.60842347e-02, -2.43837368e-02,\n",
              "          1.78996064e-02,  3.47359106e-03,  4.47059609e-02,\n",
              "          2.64165886e-02, -4.01552431e-02,  1.78296901e-02,\n",
              "          4.02342342e-02],\n",
              "        [ 4.66369875e-02, -1.97523721e-02,  4.60146330e-02,\n",
              "         -3.23410518e-02,  4.54918407e-02,  4.32851426e-02,\n",
              "          2.33553909e-02, -3.03231012e-02,  3.67791913e-02,\n",
              "         -9.53482464e-03],\n",
              "        [-3.63548882e-02, -1.15937591e-02, -5.92194498e-04,\n",
              "          4.91417572e-03,  5.95778227e-03, -2.14999076e-02,\n",
              "          2.87193321e-02,  4.09431793e-02, -3.59265693e-02,\n",
              "         -2.43193638e-02],\n",
              "        [-4.40926664e-02, -3.66052017e-02, -1.95952058e-02,\n",
              "         -1.43574588e-02,  1.37129538e-02, -3.18385512e-02,\n",
              "          3.66837718e-02,  3.68737467e-02, -6.39436394e-03,\n",
              "         -4.56010215e-02],\n",
              "        [-4.50650342e-02,  2.82615162e-02, -1.76570304e-02,\n",
              "         -2.14160327e-02, -4.30460349e-02, -1.56543255e-02,\n",
              "          4.94025089e-02,  2.93045528e-02,  3.08923759e-02,\n",
              "          3.46606858e-02],\n",
              "        [-1.24534145e-02, -3.65818962e-02,  4.90588285e-02,\n",
              "         -4.00228985e-02,  2.35660560e-02, -1.37202516e-02,\n",
              "         -4.55416553e-02,  9.40061733e-03, -4.42776345e-02,\n",
              "         -1.20367892e-02]],\n",
              "\n",
              "       [[-2.86746975e-02, -3.60842347e-02, -2.43837368e-02,\n",
              "          1.78996064e-02,  3.47359106e-03,  4.47059609e-02,\n",
              "          2.64165886e-02, -4.01552431e-02,  1.78296901e-02,\n",
              "          4.02342342e-02],\n",
              "        [-2.86746975e-02, -3.60842347e-02, -2.43837368e-02,\n",
              "          1.78996064e-02,  3.47359106e-03,  4.47059609e-02,\n",
              "          2.64165886e-02, -4.01552431e-02,  1.78296901e-02,\n",
              "          4.02342342e-02],\n",
              "        [-2.86746975e-02, -3.60842347e-02, -2.43837368e-02,\n",
              "          1.78996064e-02,  3.47359106e-03,  4.47059609e-02,\n",
              "          2.64165886e-02, -4.01552431e-02,  1.78296901e-02,\n",
              "          4.02342342e-02],\n",
              "        [-2.41172314e-02, -1.39284730e-02, -2.07890514e-02,\n",
              "          3.70529331e-02, -2.45640036e-02, -2.66906377e-02,\n",
              "         -3.75300273e-02,  1.45248435e-02, -2.36803778e-02,\n",
              "          3.13511007e-02],\n",
              "        [-4.50650342e-02,  2.82615162e-02, -1.76570304e-02,\n",
              "         -2.14160327e-02, -4.30460349e-02, -1.56543255e-02,\n",
              "          4.94025089e-02,  2.93045528e-02,  3.08923759e-02,\n",
              "          3.46606858e-02],\n",
              "        [-4.25418392e-02, -2.48431098e-02, -2.61089802e-02,\n",
              "          8.83704424e-03,  3.50873545e-03, -4.82864045e-02,\n",
              "         -6.37005642e-03, -4.41861525e-02, -1.34092681e-02,\n",
              "          2.63557583e-03],\n",
              "        [-2.41172314e-02, -1.39284730e-02, -2.07890514e-02,\n",
              "          3.70529331e-02, -2.45640036e-02, -2.66906377e-02,\n",
              "         -3.75300273e-02,  1.45248435e-02, -2.36803778e-02,\n",
              "          3.13511007e-02]]], dtype=float32)"
            ]
          },
          "metadata": {},
          "execution_count": 11
        }
      ]
    },
    {
      "cell_type": "code",
      "source": [
        "embedded_docs[0]"
      ],
      "metadata": {
        "colab": {
          "base_uri": "https://localhost:8080/"
        },
        "id": "pcSmux4KrQbW",
        "outputId": "d347daaf-4b13-43c3-9cb2-da882c8d61f6"
      },
      "execution_count": 12,
      "outputs": [
        {
          "output_type": "execute_result",
          "data": {
            "text/plain": [
              "array([ 0,  0,  0, 13, 14,  5,  5], dtype=int32)"
            ]
          },
          "metadata": {},
          "execution_count": 12
        }
      ]
    },
    {
      "cell_type": "code",
      "source": [
        "model.predict(embedded_docs[0])"
      ],
      "metadata": {
        "colab": {
          "base_uri": "https://localhost:8080/"
        },
        "id": "p_dl215IrIG0",
        "outputId": "02fbf4cc-d684-43f9-ab8a-c78a4e8bfb9b"
      },
      "execution_count": 13,
      "outputs": [
        {
          "output_type": "stream",
          "name": "stderr",
          "text": [
            "WARNING:tensorflow:Model was constructed with shape (None, 7) for input KerasTensor(type_spec=TensorSpec(shape=(None, 7), dtype=tf.float32, name='embedding_input'), name='embedding_input', description=\"created by layer 'embedding_input'\"), but it was called on an input with incompatible shape (None,).\n"
          ]
        },
        {
          "output_type": "execute_result",
          "data": {
            "text/plain": [
              "array([[-2.8674698e-02, -3.6084235e-02, -2.4383737e-02,  1.7899606e-02,\n",
              "         3.4735911e-03,  4.4705961e-02,  2.6416589e-02, -4.0155243e-02,\n",
              "         1.7829690e-02,  4.0234234e-02],\n",
              "       [-2.8674698e-02, -3.6084235e-02, -2.4383737e-02,  1.7899606e-02,\n",
              "         3.4735911e-03,  4.4705961e-02,  2.6416589e-02, -4.0155243e-02,\n",
              "         1.7829690e-02,  4.0234234e-02],\n",
              "       [-2.8674698e-02, -3.6084235e-02, -2.4383737e-02,  1.7899606e-02,\n",
              "         3.4735911e-03,  4.4705961e-02,  2.6416589e-02, -4.0155243e-02,\n",
              "         1.7829690e-02,  4.0234234e-02],\n",
              "       [-3.6354888e-02, -1.1593759e-02, -5.9219450e-04,  4.9141757e-03,\n",
              "         5.9577823e-03, -2.1499908e-02,  2.8719332e-02,  4.0943179e-02,\n",
              "        -3.5926569e-02, -2.4319364e-02],\n",
              "       [ 4.6199385e-02, -3.7574254e-02,  1.4289729e-03, -4.4108260e-02,\n",
              "         5.2083284e-05, -4.0351309e-02,  1.9776475e-02,  5.7332739e-03,\n",
              "         3.4929287e-02, -2.8171316e-03],\n",
              "       [-4.5065034e-02,  2.8261516e-02, -1.7657030e-02, -2.1416033e-02,\n",
              "        -4.3046035e-02, -1.5654325e-02,  4.9402509e-02,  2.9304553e-02,\n",
              "         3.0892376e-02,  3.4660686e-02],\n",
              "       [-4.5065034e-02,  2.8261516e-02, -1.7657030e-02, -2.1416033e-02,\n",
              "        -4.3046035e-02, -1.5654325e-02,  4.9402509e-02,  2.9304553e-02,\n",
              "         3.0892376e-02,  3.4660686e-02]], dtype=float32)"
            ]
          },
          "metadata": {},
          "execution_count": 13
        }
      ]
    },
    {
      "cell_type": "code",
      "source": [
        "tokenizer_.word_index"
      ],
      "metadata": {
        "colab": {
          "base_uri": "https://localhost:8080/"
        },
        "id": "CBBFrw_ogr5B",
        "outputId": "6d4170bd-50b9-45c3-9ece-71e224c4c90f"
      },
      "execution_count": 14,
      "outputs": [
        {
          "output_type": "execute_result",
          "data": {
            "text/plain": [
              "{'the': 1,\n",
              " 'of': 2,\n",
              " 'good': 3,\n",
              " 'glass': 4,\n",
              " 'i': 5,\n",
              " 'am': 6,\n",
              " 'a': 7,\n",
              " 'milk': 8,\n",
              " 'juice': 9,\n",
              " 'cup': 10,\n",
              " 'tea': 11,\n",
              " 'boy': 12,\n",
              " 'developer': 13,\n",
              " 'understand': 14,\n",
              " 'meaning': 15,\n",
              " 'words': 16,\n",
              " 'your': 17,\n",
              " 'videos': 18,\n",
              " 'are': 19}"
            ]
          },
          "metadata": {},
          "execution_count": 14
        }
      ]
    },
    {
      "cell_type": "code",
      "source": [
        "len(tokenizer_.word_index), len(tokenizer_.word_counts)"
      ],
      "metadata": {
        "colab": {
          "base_uri": "https://localhost:8080/"
        },
        "id": "UIgh7aPQgr7V",
        "outputId": "7374e367-aac9-49dd-e07d-00d342aceade"
      },
      "execution_count": 15,
      "outputs": [
        {
          "output_type": "execute_result",
          "data": {
            "text/plain": [
              "(19, 19)"
            ]
          },
          "metadata": {},
          "execution_count": 15
        }
      ]
    },
    {
      "cell_type": "code",
      "source": [
        "message_ = [\n",
        "    ['the glass of milk'],\n",
        "    ['the glass of juice'],\n",
        "    ['the cup of tea'],\n",
        "    ['I am a good boy'],\n",
        "    ['I am a good developer'],\n",
        "    ['understand the meaning of words'],\n",
        "    ['your videos are good']\n",
        "]"
      ],
      "metadata": {
        "id": "g8C4tV3Qgr9n"
      },
      "execution_count": 16,
      "outputs": []
    },
    {
      "cell_type": "code",
      "source": [
        "import pandas as pd\n",
        "\n",
        "df = pd.DataFrame(message_, columns = ['message'])\n",
        "df.head()"
      ],
      "metadata": {
        "colab": {
          "base_uri": "https://localhost:8080/",
          "height": 206
        },
        "id": "v--naytZgsBI",
        "outputId": "3222e441-0256-4502-b38e-debbaacb89d0"
      },
      "execution_count": 17,
      "outputs": [
        {
          "output_type": "execute_result",
          "data": {
            "text/plain": [
              "                 message\n",
              "0      the glass of milk\n",
              "1     the glass of juice\n",
              "2         the cup of tea\n",
              "3        I am a good boy\n",
              "4  I am a good developer"
            ],
            "text/html": [
              "\n",
              "  <div id=\"df-7b3803ee-6e9b-4a43-b252-b18f4ef7a093\">\n",
              "    <div class=\"colab-df-container\">\n",
              "      <div>\n",
              "<style scoped>\n",
              "    .dataframe tbody tr th:only-of-type {\n",
              "        vertical-align: middle;\n",
              "    }\n",
              "\n",
              "    .dataframe tbody tr th {\n",
              "        vertical-align: top;\n",
              "    }\n",
              "\n",
              "    .dataframe thead th {\n",
              "        text-align: right;\n",
              "    }\n",
              "</style>\n",
              "<table border=\"1\" class=\"dataframe\">\n",
              "  <thead>\n",
              "    <tr style=\"text-align: right;\">\n",
              "      <th></th>\n",
              "      <th>message</th>\n",
              "    </tr>\n",
              "  </thead>\n",
              "  <tbody>\n",
              "    <tr>\n",
              "      <th>0</th>\n",
              "      <td>the glass of milk</td>\n",
              "    </tr>\n",
              "    <tr>\n",
              "      <th>1</th>\n",
              "      <td>the glass of juice</td>\n",
              "    </tr>\n",
              "    <tr>\n",
              "      <th>2</th>\n",
              "      <td>the cup of tea</td>\n",
              "    </tr>\n",
              "    <tr>\n",
              "      <th>3</th>\n",
              "      <td>I am a good boy</td>\n",
              "    </tr>\n",
              "    <tr>\n",
              "      <th>4</th>\n",
              "      <td>I am a good developer</td>\n",
              "    </tr>\n",
              "  </tbody>\n",
              "</table>\n",
              "</div>\n",
              "      <button class=\"colab-df-convert\" onclick=\"convertToInteractive('df-7b3803ee-6e9b-4a43-b252-b18f4ef7a093')\"\n",
              "              title=\"Convert this dataframe to an interactive table.\"\n",
              "              style=\"display:none;\">\n",
              "        \n",
              "  <svg xmlns=\"http://www.w3.org/2000/svg\" height=\"24px\"viewBox=\"0 0 24 24\"\n",
              "       width=\"24px\">\n",
              "    <path d=\"M0 0h24v24H0V0z\" fill=\"none\"/>\n",
              "    <path d=\"M18.56 5.44l.94 2.06.94-2.06 2.06-.94-2.06-.94-.94-2.06-.94 2.06-2.06.94zm-11 1L8.5 8.5l.94-2.06 2.06-.94-2.06-.94L8.5 2.5l-.94 2.06-2.06.94zm10 10l.94 2.06.94-2.06 2.06-.94-2.06-.94-.94-2.06-.94 2.06-2.06.94z\"/><path d=\"M17.41 7.96l-1.37-1.37c-.4-.4-.92-.59-1.43-.59-.52 0-1.04.2-1.43.59L10.3 9.45l-7.72 7.72c-.78.78-.78 2.05 0 2.83L4 21.41c.39.39.9.59 1.41.59.51 0 1.02-.2 1.41-.59l7.78-7.78 2.81-2.81c.8-.78.8-2.07 0-2.86zM5.41 20L4 18.59l7.72-7.72 1.47 1.35L5.41 20z\"/>\n",
              "  </svg>\n",
              "      </button>\n",
              "      \n",
              "  <style>\n",
              "    .colab-df-container {\n",
              "      display:flex;\n",
              "      flex-wrap:wrap;\n",
              "      gap: 12px;\n",
              "    }\n",
              "\n",
              "    .colab-df-convert {\n",
              "      background-color: #E8F0FE;\n",
              "      border: none;\n",
              "      border-radius: 50%;\n",
              "      cursor: pointer;\n",
              "      display: none;\n",
              "      fill: #1967D2;\n",
              "      height: 32px;\n",
              "      padding: 0 0 0 0;\n",
              "      width: 32px;\n",
              "    }\n",
              "\n",
              "    .colab-df-convert:hover {\n",
              "      background-color: #E2EBFA;\n",
              "      box-shadow: 0px 1px 2px rgba(60, 64, 67, 0.3), 0px 1px 3px 1px rgba(60, 64, 67, 0.15);\n",
              "      fill: #174EA6;\n",
              "    }\n",
              "\n",
              "    [theme=dark] .colab-df-convert {\n",
              "      background-color: #3B4455;\n",
              "      fill: #D2E3FC;\n",
              "    }\n",
              "\n",
              "    [theme=dark] .colab-df-convert:hover {\n",
              "      background-color: #434B5C;\n",
              "      box-shadow: 0px 1px 3px 1px rgba(0, 0, 0, 0.15);\n",
              "      filter: drop-shadow(0px 1px 2px rgba(0, 0, 0, 0.3));\n",
              "      fill: #FFFFFF;\n",
              "    }\n",
              "  </style>\n",
              "\n",
              "      <script>\n",
              "        const buttonEl =\n",
              "          document.querySelector('#df-7b3803ee-6e9b-4a43-b252-b18f4ef7a093 button.colab-df-convert');\n",
              "        buttonEl.style.display =\n",
              "          google.colab.kernel.accessAllowed ? 'block' : 'none';\n",
              "\n",
              "        async function convertToInteractive(key) {\n",
              "          const element = document.querySelector('#df-7b3803ee-6e9b-4a43-b252-b18f4ef7a093');\n",
              "          const dataTable =\n",
              "            await google.colab.kernel.invokeFunction('convertToInteractive',\n",
              "                                                     [key], {});\n",
              "          if (!dataTable) return;\n",
              "\n",
              "          const docLinkHtml = 'Like what you see? Visit the ' +\n",
              "            '<a target=\"_blank\" href=https://colab.research.google.com/notebooks/data_table.ipynb>data table notebook</a>'\n",
              "            + ' to learn more about interactive tables.';\n",
              "          element.innerHTML = '';\n",
              "          dataTable['output_type'] = 'display_data';\n",
              "          await google.colab.output.renderOutput(dataTable, element);\n",
              "          const docLink = document.createElement('div');\n",
              "          docLink.innerHTML = docLinkHtml;\n",
              "          element.appendChild(docLink);\n",
              "        }\n",
              "      </script>\n",
              "    </div>\n",
              "  </div>\n",
              "  "
            ]
          },
          "metadata": {},
          "execution_count": 17
        }
      ]
    },
    {
      "cell_type": "code",
      "source": [
        "###### Find the unique words in this dataframe ######\n",
        "tokenizer_ = Tokenizer()\n",
        "tokenizer_.fit_on_texts(df.loc[:, 'message'])\n",
        "vocabulary_size = len(tokenizer_.word_counts) + 1"
      ],
      "metadata": {
        "id": "CwZmgMOhxGu0"
      },
      "execution_count": 18,
      "outputs": []
    },
    {
      "cell_type": "code",
      "source": [
        "###### One Hot Representation #######\n",
        "one_hot_representation_ = [one_hot(eachSentence_, vocabulary_size) for eachSentence_ in df.loc[:, 'message']]\n",
        "one_hot_representation_"
      ],
      "metadata": {
        "colab": {
          "base_uri": "https://localhost:8080/"
        },
        "id": "eO8bxRy5xZYo",
        "outputId": "ab06a84d-be01-4d67-cf8c-cca308df9f1d"
      },
      "execution_count": 19,
      "outputs": [
        {
          "output_type": "execute_result",
          "data": {
            "text/plain": [
              "[[13, 14, 5, 5],\n",
              " [13, 14, 5, 12],\n",
              " [13, 11, 5, 1],\n",
              " [2, 14, 3, 10, 2],\n",
              " [2, 14, 3, 10, 3],\n",
              " [17, 13, 7, 5, 3],\n",
              " [10, 5, 19, 10]]"
            ]
          },
          "metadata": {},
          "execution_count": 19
        }
      ]
    },
    {
      "cell_type": "code",
      "source": [
        "###### Find the maxLength #####\n",
        "maxLength_ = -1\n",
        "for list_ in one_hot_representation_:\n",
        "  if len(list_) > maxLength_:\n",
        "    maxLength_ = len(list_)\n",
        "  else:\n",
        "    pass\n",
        "\n",
        "maxLength_"
      ],
      "metadata": {
        "colab": {
          "base_uri": "https://localhost:8080/"
        },
        "id": "LCwE9WfYxyrI",
        "outputId": "5101b16f-6bd8-46cf-a057-6802c77995f5"
      },
      "execution_count": 20,
      "outputs": [
        {
          "output_type": "execute_result",
          "data": {
            "text/plain": [
              "5"
            ]
          },
          "metadata": {},
          "execution_count": 20
        }
      ]
    },
    {
      "cell_type": "code",
      "source": [
        "###### Padding ######\n",
        "embedded_doc_ = pad_sequences(one_hot_representation_, padding = 'pre', maxlen = maxLength_ + 2)\n",
        "print(embedded_doc_)"
      ],
      "metadata": {
        "colab": {
          "base_uri": "https://localhost:8080/"
        },
        "id": "w49DFQ8-yFKr",
        "outputId": "33fbd87d-865a-4d0c-e77f-d48cc56aa801"
      },
      "execution_count": 21,
      "outputs": [
        {
          "output_type": "stream",
          "name": "stdout",
          "text": [
            "[[ 0  0  0 13 14  5  5]\n",
            " [ 0  0  0 13 14  5 12]\n",
            " [ 0  0  0 13 11  5  1]\n",
            " [ 0  0  2 14  3 10  2]\n",
            " [ 0  0  2 14  3 10  3]\n",
            " [ 0  0 17 13  7  5  3]\n",
            " [ 0  0  0 10  5 19 10]]\n"
          ]
        }
      ]
    },
    {
      "cell_type": "code",
      "source": [
        "####### Word Embedding #######\n",
        "model = Sequential()\n",
        "\n",
        "model.add(Embedding(input_dim = vocabulary_size, output_dim = 10, input_length = maxLength_ + 2))\n",
        "\n",
        "model.compile(optimizer = 'Adam', loss = 'mse')"
      ],
      "metadata": {
        "id": "cOql3OOuyYJ9"
      },
      "execution_count": 22,
      "outputs": []
    },
    {
      "cell_type": "code",
      "source": [
        "model.predict(embedded_doc_)"
      ],
      "metadata": {
        "colab": {
          "base_uri": "https://localhost:8080/"
        },
        "id": "xpRZsPJLyz_Z",
        "outputId": "fa6308a3-7b1e-4fc6-f4d7-6e6444b9d952"
      },
      "execution_count": 23,
      "outputs": [
        {
          "output_type": "execute_result",
          "data": {
            "text/plain": [
              "array([[[-9.81826708e-03,  2.15994753e-02,  3.19458507e-02,\n",
              "         -4.31077257e-02, -2.77480017e-02,  1.38146542e-02,\n",
              "         -5.27166203e-03, -6.68689609e-06,  2.05349438e-02,\n",
              "          1.69454478e-02],\n",
              "        [-9.81826708e-03,  2.15994753e-02,  3.19458507e-02,\n",
              "         -4.31077257e-02, -2.77480017e-02,  1.38146542e-02,\n",
              "         -5.27166203e-03, -6.68689609e-06,  2.05349438e-02,\n",
              "          1.69454478e-02],\n",
              "        [-9.81826708e-03,  2.15994753e-02,  3.19458507e-02,\n",
              "         -4.31077257e-02, -2.77480017e-02,  1.38146542e-02,\n",
              "         -5.27166203e-03, -6.68689609e-06,  2.05349438e-02,\n",
              "          1.69454478e-02],\n",
              "        [-3.61406319e-02,  1.34793669e-03, -8.68022442e-03,\n",
              "          6.58706576e-03, -4.13907282e-02,  8.59297439e-03,\n",
              "          3.52890752e-02,  4.23797220e-03,  4.97703627e-03,\n",
              "         -4.80752960e-02],\n",
              "        [-4.20079008e-02, -4.53390963e-02, -4.77772243e-02,\n",
              "          1.25117563e-02,  4.06573080e-02,  4.26929630e-02,\n",
              "         -4.89220135e-02,  3.85654084e-02,  1.91559680e-02,\n",
              "         -1.06528774e-02],\n",
              "        [-4.59930077e-02,  1.85552500e-02,  3.95118482e-02,\n",
              "         -4.45928462e-02,  3.24359871e-02,  4.71650027e-02,\n",
              "         -1.07828155e-02, -4.98169325e-02, -3.11886147e-03,\n",
              "          1.90876611e-02],\n",
              "        [-4.59930077e-02,  1.85552500e-02,  3.95118482e-02,\n",
              "         -4.45928462e-02,  3.24359871e-02,  4.71650027e-02,\n",
              "         -1.07828155e-02, -4.98169325e-02, -3.11886147e-03,\n",
              "          1.90876611e-02]],\n",
              "\n",
              "       [[-9.81826708e-03,  2.15994753e-02,  3.19458507e-02,\n",
              "         -4.31077257e-02, -2.77480017e-02,  1.38146542e-02,\n",
              "         -5.27166203e-03, -6.68689609e-06,  2.05349438e-02,\n",
              "          1.69454478e-02],\n",
              "        [-9.81826708e-03,  2.15994753e-02,  3.19458507e-02,\n",
              "         -4.31077257e-02, -2.77480017e-02,  1.38146542e-02,\n",
              "         -5.27166203e-03, -6.68689609e-06,  2.05349438e-02,\n",
              "          1.69454478e-02],\n",
              "        [-9.81826708e-03,  2.15994753e-02,  3.19458507e-02,\n",
              "         -4.31077257e-02, -2.77480017e-02,  1.38146542e-02,\n",
              "         -5.27166203e-03, -6.68689609e-06,  2.05349438e-02,\n",
              "          1.69454478e-02],\n",
              "        [-3.61406319e-02,  1.34793669e-03, -8.68022442e-03,\n",
              "          6.58706576e-03, -4.13907282e-02,  8.59297439e-03,\n",
              "          3.52890752e-02,  4.23797220e-03,  4.97703627e-03,\n",
              "         -4.80752960e-02],\n",
              "        [-4.20079008e-02, -4.53390963e-02, -4.77772243e-02,\n",
              "          1.25117563e-02,  4.06573080e-02,  4.26929630e-02,\n",
              "         -4.89220135e-02,  3.85654084e-02,  1.91559680e-02,\n",
              "         -1.06528774e-02],\n",
              "        [-4.59930077e-02,  1.85552500e-02,  3.95118482e-02,\n",
              "         -4.45928462e-02,  3.24359871e-02,  4.71650027e-02,\n",
              "         -1.07828155e-02, -4.98169325e-02, -3.11886147e-03,\n",
              "          1.90876611e-02],\n",
              "        [ 2.24319845e-03,  3.55025418e-02,  2.97052152e-02,\n",
              "          2.97216661e-02,  2.68109888e-03,  1.04691274e-02,\n",
              "          1.96763389e-02,  1.10172257e-02, -2.50309948e-02,\n",
              "          4.83032204e-02]],\n",
              "\n",
              "       [[-9.81826708e-03,  2.15994753e-02,  3.19458507e-02,\n",
              "         -4.31077257e-02, -2.77480017e-02,  1.38146542e-02,\n",
              "         -5.27166203e-03, -6.68689609e-06,  2.05349438e-02,\n",
              "          1.69454478e-02],\n",
              "        [-9.81826708e-03,  2.15994753e-02,  3.19458507e-02,\n",
              "         -4.31077257e-02, -2.77480017e-02,  1.38146542e-02,\n",
              "         -5.27166203e-03, -6.68689609e-06,  2.05349438e-02,\n",
              "          1.69454478e-02],\n",
              "        [-9.81826708e-03,  2.15994753e-02,  3.19458507e-02,\n",
              "         -4.31077257e-02, -2.77480017e-02,  1.38146542e-02,\n",
              "         -5.27166203e-03, -6.68689609e-06,  2.05349438e-02,\n",
              "          1.69454478e-02],\n",
              "        [-3.61406319e-02,  1.34793669e-03, -8.68022442e-03,\n",
              "          6.58706576e-03, -4.13907282e-02,  8.59297439e-03,\n",
              "          3.52890752e-02,  4.23797220e-03,  4.97703627e-03,\n",
              "         -4.80752960e-02],\n",
              "        [ 2.04982609e-03, -2.11812388e-02, -1.27037168e-02,\n",
              "          4.91559394e-02,  2.31355168e-02, -3.88642773e-02,\n",
              "         -9.06502083e-03, -4.35455553e-02, -3.84004489e-02,\n",
              "         -4.66660857e-02],\n",
              "        [-4.59930077e-02,  1.85552500e-02,  3.95118482e-02,\n",
              "         -4.45928462e-02,  3.24359871e-02,  4.71650027e-02,\n",
              "         -1.07828155e-02, -4.98169325e-02, -3.11886147e-03,\n",
              "          1.90876611e-02],\n",
              "        [ 2.02973373e-02,  4.99599315e-02, -8.26846436e-03,\n",
              "         -3.00364736e-02, -2.76849996e-02,  1.80888660e-02,\n",
              "          2.22895294e-03,  3.61561216e-02, -1.89288389e-02,\n",
              "          2.27136873e-02]],\n",
              "\n",
              "       [[-9.81826708e-03,  2.15994753e-02,  3.19458507e-02,\n",
              "         -4.31077257e-02, -2.77480017e-02,  1.38146542e-02,\n",
              "         -5.27166203e-03, -6.68689609e-06,  2.05349438e-02,\n",
              "          1.69454478e-02],\n",
              "        [-9.81826708e-03,  2.15994753e-02,  3.19458507e-02,\n",
              "         -4.31077257e-02, -2.77480017e-02,  1.38146542e-02,\n",
              "         -5.27166203e-03, -6.68689609e-06,  2.05349438e-02,\n",
              "          1.69454478e-02],\n",
              "        [ 2.01305039e-02,  1.35952868e-02, -4.58276048e-02,\n",
              "          4.88144048e-02,  1.57371871e-02, -1.21958852e-02,\n",
              "         -1.11539140e-02,  1.56725086e-02,  2.11149119e-02,\n",
              "          3.11293118e-02],\n",
              "        [-4.20079008e-02, -4.53390963e-02, -4.77772243e-02,\n",
              "          1.25117563e-02,  4.06573080e-02,  4.26929630e-02,\n",
              "         -4.89220135e-02,  3.85654084e-02,  1.91559680e-02,\n",
              "         -1.06528774e-02],\n",
              "        [-1.36367306e-02, -3.32586989e-02,  1.38143562e-02,\n",
              "         -2.07330585e-02, -1.76604986e-02, -3.57736945e-02,\n",
              "         -2.29677558e-02, -3.28474864e-02, -1.01054534e-02,\n",
              "         -1.01579800e-02],\n",
              "        [ 3.15494053e-02, -4.48072068e-02,  4.74528410e-02,\n",
              "          4.28011157e-02, -1.65692680e-02, -1.20095126e-02,\n",
              "         -3.17427665e-02,  2.75136493e-02,  3.09383534e-02,\n",
              "         -2.31477022e-02],\n",
              "        [ 2.01305039e-02,  1.35952868e-02, -4.58276048e-02,\n",
              "          4.88144048e-02,  1.57371871e-02, -1.21958852e-02,\n",
              "         -1.11539140e-02,  1.56725086e-02,  2.11149119e-02,\n",
              "          3.11293118e-02]],\n",
              "\n",
              "       [[-9.81826708e-03,  2.15994753e-02,  3.19458507e-02,\n",
              "         -4.31077257e-02, -2.77480017e-02,  1.38146542e-02,\n",
              "         -5.27166203e-03, -6.68689609e-06,  2.05349438e-02,\n",
              "          1.69454478e-02],\n",
              "        [-9.81826708e-03,  2.15994753e-02,  3.19458507e-02,\n",
              "         -4.31077257e-02, -2.77480017e-02,  1.38146542e-02,\n",
              "         -5.27166203e-03, -6.68689609e-06,  2.05349438e-02,\n",
              "          1.69454478e-02],\n",
              "        [ 2.01305039e-02,  1.35952868e-02, -4.58276048e-02,\n",
              "          4.88144048e-02,  1.57371871e-02, -1.21958852e-02,\n",
              "         -1.11539140e-02,  1.56725086e-02,  2.11149119e-02,\n",
              "          3.11293118e-02],\n",
              "        [-4.20079008e-02, -4.53390963e-02, -4.77772243e-02,\n",
              "          1.25117563e-02,  4.06573080e-02,  4.26929630e-02,\n",
              "         -4.89220135e-02,  3.85654084e-02,  1.91559680e-02,\n",
              "         -1.06528774e-02],\n",
              "        [-1.36367306e-02, -3.32586989e-02,  1.38143562e-02,\n",
              "         -2.07330585e-02, -1.76604986e-02, -3.57736945e-02,\n",
              "         -2.29677558e-02, -3.28474864e-02, -1.01054534e-02,\n",
              "         -1.01579800e-02],\n",
              "        [ 3.15494053e-02, -4.48072068e-02,  4.74528410e-02,\n",
              "          4.28011157e-02, -1.65692680e-02, -1.20095126e-02,\n",
              "         -3.17427665e-02,  2.75136493e-02,  3.09383534e-02,\n",
              "         -2.31477022e-02],\n",
              "        [-1.36367306e-02, -3.32586989e-02,  1.38143562e-02,\n",
              "         -2.07330585e-02, -1.76604986e-02, -3.57736945e-02,\n",
              "         -2.29677558e-02, -3.28474864e-02, -1.01054534e-02,\n",
              "         -1.01579800e-02]],\n",
              "\n",
              "       [[-9.81826708e-03,  2.15994753e-02,  3.19458507e-02,\n",
              "         -4.31077257e-02, -2.77480017e-02,  1.38146542e-02,\n",
              "         -5.27166203e-03, -6.68689609e-06,  2.05349438e-02,\n",
              "          1.69454478e-02],\n",
              "        [-9.81826708e-03,  2.15994753e-02,  3.19458507e-02,\n",
              "         -4.31077257e-02, -2.77480017e-02,  1.38146542e-02,\n",
              "         -5.27166203e-03, -6.68689609e-06,  2.05349438e-02,\n",
              "          1.69454478e-02],\n",
              "        [ 1.40920989e-02,  2.15216987e-02, -4.07291651e-02,\n",
              "         -2.21135151e-02, -1.24270543e-02, -2.12489497e-02,\n",
              "         -3.24573889e-02, -3.36006507e-02,  2.89989151e-02,\n",
              "          2.10421719e-02],\n",
              "        [-3.61406319e-02,  1.34793669e-03, -8.68022442e-03,\n",
              "          6.58706576e-03, -4.13907282e-02,  8.59297439e-03,\n",
              "          3.52890752e-02,  4.23797220e-03,  4.97703627e-03,\n",
              "         -4.80752960e-02],\n",
              "        [-6.76711649e-03, -4.50970791e-02, -4.38557044e-02,\n",
              "         -3.71074565e-02, -2.24901326e-02, -1.79400332e-02,\n",
              "          2.77619697e-02, -3.84179838e-02, -9.07070935e-05,\n",
              "          3.89537551e-02],\n",
              "        [-4.59930077e-02,  1.85552500e-02,  3.95118482e-02,\n",
              "         -4.45928462e-02,  3.24359871e-02,  4.71650027e-02,\n",
              "         -1.07828155e-02, -4.98169325e-02, -3.11886147e-03,\n",
              "          1.90876611e-02],\n",
              "        [-1.36367306e-02, -3.32586989e-02,  1.38143562e-02,\n",
              "         -2.07330585e-02, -1.76604986e-02, -3.57736945e-02,\n",
              "         -2.29677558e-02, -3.28474864e-02, -1.01054534e-02,\n",
              "         -1.01579800e-02]],\n",
              "\n",
              "       [[-9.81826708e-03,  2.15994753e-02,  3.19458507e-02,\n",
              "         -4.31077257e-02, -2.77480017e-02,  1.38146542e-02,\n",
              "         -5.27166203e-03, -6.68689609e-06,  2.05349438e-02,\n",
              "          1.69454478e-02],\n",
              "        [-9.81826708e-03,  2.15994753e-02,  3.19458507e-02,\n",
              "         -4.31077257e-02, -2.77480017e-02,  1.38146542e-02,\n",
              "         -5.27166203e-03, -6.68689609e-06,  2.05349438e-02,\n",
              "          1.69454478e-02],\n",
              "        [-9.81826708e-03,  2.15994753e-02,  3.19458507e-02,\n",
              "         -4.31077257e-02, -2.77480017e-02,  1.38146542e-02,\n",
              "         -5.27166203e-03, -6.68689609e-06,  2.05349438e-02,\n",
              "          1.69454478e-02],\n",
              "        [ 3.15494053e-02, -4.48072068e-02,  4.74528410e-02,\n",
              "          4.28011157e-02, -1.65692680e-02, -1.20095126e-02,\n",
              "         -3.17427665e-02,  2.75136493e-02,  3.09383534e-02,\n",
              "         -2.31477022e-02],\n",
              "        [-4.59930077e-02,  1.85552500e-02,  3.95118482e-02,\n",
              "         -4.45928462e-02,  3.24359871e-02,  4.71650027e-02,\n",
              "         -1.07828155e-02, -4.98169325e-02, -3.11886147e-03,\n",
              "          1.90876611e-02],\n",
              "        [ 2.32064165e-02,  3.26609276e-02,  4.07615937e-02,\n",
              "          4.86033298e-02,  1.36396997e-02, -1.84542052e-02,\n",
              "         -3.56340893e-02, -2.38682032e-02, -6.03884459e-03,\n",
              "          2.10979916e-02],\n",
              "        [ 3.15494053e-02, -4.48072068e-02,  4.74528410e-02,\n",
              "          4.28011157e-02, -1.65692680e-02, -1.20095126e-02,\n",
              "         -3.17427665e-02,  2.75136493e-02,  3.09383534e-02,\n",
              "         -2.31477022e-02]]], dtype=float32)"
            ]
          },
          "metadata": {},
          "execution_count": 23
        }
      ]
    },
    {
      "cell_type": "code",
      "source": [
        "embedded_doc_[1]"
      ],
      "metadata": {
        "colab": {
          "base_uri": "https://localhost:8080/"
        },
        "id": "2yXwKbdPy4qJ",
        "outputId": "b70f8a3f-2421-401d-bc5c-5cd9846e3a76"
      },
      "execution_count": 24,
      "outputs": [
        {
          "output_type": "execute_result",
          "data": {
            "text/plain": [
              "array([ 0,  0,  0, 13, 14,  5, 12], dtype=int32)"
            ]
          },
          "metadata": {},
          "execution_count": 24
        }
      ]
    },
    {
      "cell_type": "code",
      "source": [
        "for count_row_, element_ in enumerate(model.predict(embedded_doc_[1])):\n",
        "  print(f\"{count_row_} word converted into {len(element_)} vectors.\")"
      ],
      "metadata": {
        "colab": {
          "base_uri": "https://localhost:8080/"
        },
        "id": "cUdrw0Woy7pF",
        "outputId": "28dbbb07-d315-4f2b-88e8-94428a6a731d"
      },
      "execution_count": 25,
      "outputs": [
        {
          "output_type": "stream",
          "name": "stderr",
          "text": [
            "WARNING:tensorflow:Model was constructed with shape (None, 7) for input KerasTensor(type_spec=TensorSpec(shape=(None, 7), dtype=tf.float32, name='embedding_1_input'), name='embedding_1_input', description=\"created by layer 'embedding_1_input'\"), but it was called on an input with incompatible shape (None,).\n"
          ]
        },
        {
          "output_type": "stream",
          "name": "stdout",
          "text": [
            "0 word converted into 10 vectors.\n",
            "1 word converted into 10 vectors.\n",
            "2 word converted into 10 vectors.\n",
            "3 word converted into 10 vectors.\n",
            "4 word converted into 10 vectors.\n",
            "5 word converted into 10 vectors.\n",
            "6 word converted into 10 vectors.\n"
          ]
        }
      ]
    }
  ]
}